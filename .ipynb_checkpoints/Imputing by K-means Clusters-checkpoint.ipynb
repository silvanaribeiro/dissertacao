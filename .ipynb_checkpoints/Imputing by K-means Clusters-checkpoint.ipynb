{
 "cells": [
  {
   "cell_type": "code",
   "execution_count": 23,
   "metadata": {},
   "outputs": [],
   "source": [
    "from imputationLibrary import forwardFilling, hotDeck, meanImputation, movingAverage, splineInterpolation, randomSampleImputation, util\n",
    "from imputationLibrary.util import util\n",
    "import pandas as pd\n",
    "from datetime import datetime, timedelta\n",
    "import numpy as np\n",
    "from sklearn.cluster import KMeans\n",
    "from sklearn import preprocessing\n",
    "from scipy import signal\n",
    "import matplotlib.pyplot as plt"
   ]
  },
  {
   "cell_type": "code",
   "execution_count": 24,
   "metadata": {},
   "outputs": [],
   "source": [
    "INPUT = 'output/\\CompleteWeeklyIndexes'"
   ]
  },
  {
   "cell_type": "code",
   "execution_count": 25,
   "metadata": {},
   "outputs": [],
   "source": [
    "def calc_acc(col):\n",
    "    normalized = preprocessing.normalize([np.array(col.fillna(0))])\n",
    "    corr = signal.correlate(normalized, normalized, mode='full')\n",
    "    return pd.Series(corr.T[-len(col.index):].reshape(-1), index = col.index)"
   ]
  },
  {
   "cell_type": "code",
   "execution_count": 26,
   "metadata": {},
   "outputs": [],
   "source": [
    "df = pd.read_csv(INPUT+'.csv', parse_dates=True, index_col=0).drop('vix_Close', axis=1)\n",
    "df_train = df.loc['2000-01-01':'2015-01-01']\n",
    "df_test = df.loc['2015-01-02':]\n",
    "\n",
    "df_train_acc = df_train.apply(calc_acc)"
   ]
  },
  {
   "cell_type": "code",
   "execution_count": 27,
   "metadata": {},
   "outputs": [],
   "source": [
    "df_train_T = df_train_acc.transpose()"
   ]
  },
  {
   "cell_type": "code",
   "execution_count": 28,
   "metadata": {},
   "outputs": [],
   "source": [
    "df_train_0_imp = df_train_T.fillna(0)\n",
    "scaler = preprocessing.StandardScaler()\n",
    "scaler.fit(df_train_0_imp)\n",
    "array = scaler.transform(df_train_0_imp)\n",
    "df_scaled = pd.DataFrame(data=array, index=df_train_T.index, columns=df_train_T.columns)"
   ]
  },
  {
   "cell_type": "code",
   "execution_count": 29,
   "metadata": {},
   "outputs": [
    {
     "name": "stderr",
     "output_type": "stream",
     "text": [
      "C:\\Users\\silva\\Anaconda3\\envs\\mestrado\\lib\\site-packages\\ipykernel_launcher.py:3: ConvergenceWarning: Number of distinct clusters (1) found smaller than n_clusters (2). Possibly due to duplicate points in X.\n",
      "  This is separate from the ipykernel package so we can avoid doing imports until\n",
      "C:\\Users\\silva\\Anaconda3\\envs\\mestrado\\lib\\site-packages\\ipykernel_launcher.py:3: ConvergenceWarning: Number of distinct clusters (1) found smaller than n_clusters (3). Possibly due to duplicate points in X.\n",
      "  This is separate from the ipykernel package so we can avoid doing imports until\n",
      "C:\\Users\\silva\\Anaconda3\\envs\\mestrado\\lib\\site-packages\\ipykernel_launcher.py:3: ConvergenceWarning: Number of distinct clusters (1) found smaller than n_clusters (4). Possibly due to duplicate points in X.\n",
      "  This is separate from the ipykernel package so we can avoid doing imports until\n",
      "C:\\Users\\silva\\Anaconda3\\envs\\mestrado\\lib\\site-packages\\ipykernel_launcher.py:3: ConvergenceWarning: Number of distinct clusters (1) found smaller than n_clusters (5). Possibly due to duplicate points in X.\n",
      "  This is separate from the ipykernel package so we can avoid doing imports until\n",
      "C:\\Users\\silva\\Anaconda3\\envs\\mestrado\\lib\\site-packages\\ipykernel_launcher.py:3: ConvergenceWarning: Number of distinct clusters (1) found smaller than n_clusters (6). Possibly due to duplicate points in X.\n",
      "  This is separate from the ipykernel package so we can avoid doing imports until\n",
      "C:\\Users\\silva\\Anaconda3\\envs\\mestrado\\lib\\site-packages\\ipykernel_launcher.py:3: ConvergenceWarning: Number of distinct clusters (1) found smaller than n_clusters (7). Possibly due to duplicate points in X.\n",
      "  This is separate from the ipykernel package so we can avoid doing imports until\n",
      "C:\\Users\\silva\\Anaconda3\\envs\\mestrado\\lib\\site-packages\\ipykernel_launcher.py:3: ConvergenceWarning: Number of distinct clusters (1) found smaller than n_clusters (8). Possibly due to duplicate points in X.\n",
      "  This is separate from the ipykernel package so we can avoid doing imports until\n",
      "C:\\Users\\silva\\Anaconda3\\envs\\mestrado\\lib\\site-packages\\ipykernel_launcher.py:3: ConvergenceWarning: Number of distinct clusters (1) found smaller than n_clusters (9). Possibly due to duplicate points in X.\n",
      "  This is separate from the ipykernel package so we can avoid doing imports until\n"
     ]
    },
    {
     "data": {
      "image/png": "[encoded data removed]",
      "text/plain": [
       "<Figure size 1296x576 with 1 Axes>"
      ]
     },
     "metadata": {
      "needs_background": "light"
     },
     "output_type": "display_data"
    }
   ],
   "source": [
    "sse = {}\n",
    "for k in range(1, 10):\n",
    "    kmeans = KMeans(n_clusters=k, max_iter=1000).fit(df_scaled)\n",
    "\n",
    "    sse[k] = kmeans.inertia_ \n",
    "plt.figure(figsize=(18,8))\n",
    "plt.plot(list(sse.keys()), list(sse.values()))\n",
    "plt.xlabel(\"Number of cluster\")\n",
    "plt.ylabel(\"SSE\")\n",
    "plt.show()"
   ]
  },
  {
   "cell_type": "code",
   "execution_count": 124,
   "metadata": {},
   "outputs": [],
   "source": [
    "# Tem um joelho em 2 e em 3"
   ]
  },
  {
   "cell_type": "code",
   "execution_count": 125,
   "metadata": {},
   "outputs": [],
   "source": [
    "#kmeans_5 = KMeans(init=\"k-means++\", n_clusters=5, n_init=4,\n",
    "#                random_state=0).fit(df_scaled)\n",
    "#kmeans_4 = KMeans(init=\"k-means++\", n_clusters=4, n_init=4,\n",
    "#                random_state=0).fit(df_scaled)\n",
    "kmeans_3 = KMeans(init=\"k-means++\", n_clusters=3, n_init=4,\n",
    "                random_state=0).fit(df_scaled)\n",
    "kmeans_2 = KMeans(init=\"k-means++\", n_clusters=2, n_init=4,\n",
    "                random_state=0).fit(df_scaled)"
   ]
  },
  {
   "cell_type": "code",
   "execution_count": 126,
   "metadata": {},
   "outputs": [],
   "source": [
    "#df_train_T[\"clusters_5\"] = kmeans_5.labels_\n",
    "#df_train_T[\"clusters_4\"] = kmeans_4.labels_\n",
    "df_train_T[\"clusters_3\"] = kmeans_3.labels_\n",
    "df_train_T[\"clusters_2\"] = kmeans_2.labels_"
   ]
  },
  {
   "cell_type": "code",
   "execution_count": 127,
   "metadata": {},
   "outputs": [],
   "source": [
    "#print(\"Cluster 1 \", df_train_T[df_train_T['clusters_5'] == 0].index)\n",
    "#print(\"Cluster 2 \", df_train_T[df_train_T['clusters_5'] == 1].index)\n",
    "#print(\"Cluster 3 \", df_train_T[df_train_T['clusters_5'] == 2].index)\n",
    "#print(\"Cluster 4 \", df_train_T[df_train_T['clusters_5'] == 3].index)\n",
    "#print(\"Cluster 5 \", df_train_T[df_train_T['clusters_5'] == 4].index)"
   ]
  },
  {
   "cell_type": "code",
   "execution_count": 128,
   "metadata": {},
   "outputs": [],
   "source": [
    "#print(\"Cluster 1 \", df_train_T[df_train_T['clusters_4'] == 0].index)\n",
    "#print(\"Cluster 2 \", df_train_T[df_train_T['clusters_4'] == 1].index)\n",
    "#print(\"Cluster 3 \", df_train_T[df_train_T['clusters_4'] == 2].index)\n",
    "#print(\"Cluster 4 \", df_train_T[df_train_T['clusters_4'] == 3].index)"
   ]
  },
  {
   "cell_type": "code",
   "execution_count": 129,
   "metadata": {},
   "outputs": [
    {
     "name": "stdout",
     "output_type": "stream",
     "text": [
      "Cluster 1  Index(['sp500_Close', 'dji_Close', 'ndx_Close', 'ndx_Volume', 'n225_Close',\n",
      "       'ftse_Close', 'hsi_Close', 'n100_Close'],\n",
      "      dtype='object')\n",
      "Cluster 2  Index(['vix_Volume', 'Overall EMV Tracker',\n",
      "       'infectious_daily_infect_emv_index', 'GPR',\n",
      "       'trade_US Trade Policy Uncertainty',\n",
      "       'trade_Japanese Trade Policy Uncertainty',\n",
      "       'trade_Trade Policy EMV Fraction'],\n",
      "      dtype='object')\n",
      "Cluster 3  Index(['sp500_Volume', 'dji_Volume', 'n225_Volume', 'ftse_Volume',\n",
      "       'hsi_Volume', 'n100_Volume'],\n",
      "      dtype='object')\n"
     ]
    }
   ],
   "source": [
    "print(\"Cluster 1 \", df_train_T[df_train_T['clusters_3'] == 0].index)\n",
    "print(\"Cluster 2 \", df_train_T[df_train_T['clusters_3'] == 1].index)\n",
    "print(\"Cluster 3 \", df_train_T[df_train_T['clusters_3'] == 2].index)"
   ]
  },
  {
   "cell_type": "code",
   "execution_count": 130,
   "metadata": {},
   "outputs": [
    {
     "name": "stdout",
     "output_type": "stream",
     "text": [
      "Cluster 1  Index(['vix_Volume', 'hsi_Volume', 'n100_Volume', 'Overall EMV Tracker',\n",
      "       'infectious_daily_infect_emv_index', 'GPR',\n",
      "       'trade_US Trade Policy Uncertainty',\n",
      "       'trade_Japanese Trade Policy Uncertainty',\n",
      "       'trade_Trade Policy EMV Fraction'],\n",
      "      dtype='object')\n",
      "Cluster 2  Index(['sp500_Close', 'sp500_Volume', 'dji_Close', 'dji_Volume', 'ndx_Close',\n",
      "       'ndx_Volume', 'n225_Close', 'n225_Volume', 'ftse_Close', 'ftse_Volume',\n",
      "       'hsi_Close', 'n100_Close'],\n",
      "      dtype='object')\n"
     ]
    }
   ],
   "source": [
    "print(\"Cluster 1 \", df_train_T[df_train_T['clusters_2'] == 0].index)\n",
    "print(\"Cluster 2 \", df_train_T[df_train_T['clusters_2'] == 1].index)"
   ]
  },
  {
   "cell_type": "code",
   "execution_count": null,
   "metadata": {},
   "outputs": [],
   "source": [
    "# talvez inputar com todas as combinações possiveis e ver qual a melhor??? muitas combinações, dificil para ajustar os parametros separadamente\n",
    "# fazer os testes em cada cluster, a maioria ganha?\n"
   ]
  },
  {
   "cell_type": "code",
   "execution_count": null,
   "metadata": {},
   "outputs": [],
   "source": []
  }
 ],
 "metadata": {
  "kernelspec": {
   "display_name": "Python 3",
   "language": "python",
   "name": "python3"
  },
  "language_info": {
   "codemirror_mode": {
    "name": "ipython",
    "version": 3
   },
   "file_extension": ".py",
   "mimetype": "text/x-python",
   "name": "python",
   "nbconvert_exporter": "python",
   "pygments_lexer": "ipython3",
   "version": "3.6.10"
  }
 },
 "nbformat": 4,
 "nbformat_minor": 4
}
