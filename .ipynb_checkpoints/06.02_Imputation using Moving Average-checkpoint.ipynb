{
 "cells": [
  {
   "cell_type": "markdown",
   "metadata": {},
   "source": [
    "## This notebook inputs the missing values using Moving Average"
   ]
  },
  {
   "cell_type": "code",
   "execution_count": 1,
   "metadata": {},
   "outputs": [],
   "source": [
    "import pandas as pd\n",
    "from datetime import datetime\n",
    "import numpy as np\n",
    "from imputationLibrary import movingAverage"
   ]
  },
  {
   "cell_type": "markdown",
   "metadata": {},
   "source": [
    "#### Choose wether the imputation should be done on the data set with daily or weekly granularity"
   ]
  },
  {
   "cell_type": "code",
   "execution_count": 2,
   "metadata": {},
   "outputs": [],
   "source": [
    "INPUT, OUTPUT = 'output/\\CompleteWeeklyIndexes', 'output/\\MovingAverageWeeklyImputed'"
   ]
  },
  {
   "cell_type": "code",
   "execution_count": 3,
   "metadata": {
    "scrolled": true
   },
   "outputs": [
    {
     "data": {
      "text/html": [
       "<div>\n",
       "<style scoped>\n",
       "    .dataframe tbody tr th:only-of-type {\n",
       "        vertical-align: middle;\n",
       "    }\n",
       "\n",
       "    .dataframe tbody tr th {\n",
       "        vertical-align: top;\n",
       "    }\n",
       "\n",
       "    .dataframe thead th {\n",
       "        text-align: right;\n",
       "    }\n",
       "</style>\n",
       "<table border=\"1\" class=\"dataframe\">\n",
       "  <thead>\n",
       "    <tr style=\"text-align: right;\">\n",
       "      <th></th>\n",
       "      <th>sp500_Close</th>\n",
       "      <th>sp500_Volume</th>\n",
       "      <th>vix_Close</th>\n",
       "      <th>vix_Volume</th>\n",
       "      <th>dji_Close</th>\n",
       "      <th>dji_Volume</th>\n",
       "      <th>ndx_Close</th>\n",
       "      <th>ndx_Volume</th>\n",
       "      <th>n225_Close</th>\n",
       "      <th>n225_Volume</th>\n",
       "      <th>...</th>\n",
       "      <th>hsi_Close</th>\n",
       "      <th>hsi_Volume</th>\n",
       "      <th>n100_Close</th>\n",
       "      <th>n100_Volume</th>\n",
       "      <th>Overall EMV Tracker</th>\n",
       "      <th>infectious_daily_infect_emv_index</th>\n",
       "      <th>GPR</th>\n",
       "      <th>trade_US Trade Policy Uncertainty</th>\n",
       "      <th>trade_Japanese Trade Policy Uncertainty</th>\n",
       "      <th>trade_Trade Policy EMV Fraction</th>\n",
       "    </tr>\n",
       "  </thead>\n",
       "  <tbody>\n",
       "    <tr>\n",
       "      <th>2000-01-07</th>\n",
       "      <td>1441.469971</td>\n",
       "      <td>1.225200e+09</td>\n",
       "      <td>21.719999</td>\n",
       "      <td>0.0</td>\n",
       "      <td>11522.559570</td>\n",
       "      <td>184900000.0</td>\n",
       "      <td>3529.600098</td>\n",
       "      <td>1.634930e+09</td>\n",
       "      <td>18193.410156</td>\n",
       "      <td>0.0</td>\n",
       "      <td>...</td>\n",
       "      <td>15405.629883</td>\n",
       "      <td>0.0</td>\n",
       "      <td>943.880005</td>\n",
       "      <td>0.0</td>\n",
       "      <td>NaN</td>\n",
       "      <td>0.00</td>\n",
       "      <td>NaN</td>\n",
       "      <td>NaN</td>\n",
       "      <td>NaN</td>\n",
       "      <td>NaN</td>\n",
       "    </tr>\n",
       "    <tr>\n",
       "      <th>2000-01-14</th>\n",
       "      <td>1465.150024</td>\n",
       "      <td>1.085900e+09</td>\n",
       "      <td>19.660000</td>\n",
       "      <td>0.0</td>\n",
       "      <td>11722.980469</td>\n",
       "      <td>266830000.0</td>\n",
       "      <td>3704.739990</td>\n",
       "      <td>1.656630e+09</td>\n",
       "      <td>18956.550781</td>\n",
       "      <td>0.0</td>\n",
       "      <td>...</td>\n",
       "      <td>15542.230469</td>\n",
       "      <td>0.0</td>\n",
       "      <td>973.859985</td>\n",
       "      <td>0.0</td>\n",
       "      <td>NaN</td>\n",
       "      <td>0.00</td>\n",
       "      <td>NaN</td>\n",
       "      <td>NaN</td>\n",
       "      <td>NaN</td>\n",
       "      <td>NaN</td>\n",
       "    </tr>\n",
       "    <tr>\n",
       "      <th>2000-01-21</th>\n",
       "      <td>1441.359985</td>\n",
       "      <td>1.209800e+09</td>\n",
       "      <td>20.820000</td>\n",
       "      <td>0.0</td>\n",
       "      <td>11251.709961</td>\n",
       "      <td>205840000.0</td>\n",
       "      <td>3849.959961</td>\n",
       "      <td>1.923680e+09</td>\n",
       "      <td>18878.089844</td>\n",
       "      <td>0.0</td>\n",
       "      <td>...</td>\n",
       "      <td>15108.410156</td>\n",
       "      <td>0.0</td>\n",
       "      <td>951.510010</td>\n",
       "      <td>0.0</td>\n",
       "      <td>NaN</td>\n",
       "      <td>0.00</td>\n",
       "      <td>NaN</td>\n",
       "      <td>NaN</td>\n",
       "      <td>NaN</td>\n",
       "      <td>NaN</td>\n",
       "    </tr>\n",
       "    <tr>\n",
       "      <th>2000-01-28</th>\n",
       "      <td>1360.160034</td>\n",
       "      <td>1.095800e+09</td>\n",
       "      <td>26.139999</td>\n",
       "      <td>0.0</td>\n",
       "      <td>10738.870117</td>\n",
       "      <td>183090000.0</td>\n",
       "      <td>3446.129883</td>\n",
       "      <td>1.616370e+09</td>\n",
       "      <td>19434.779297</td>\n",
       "      <td>0.0</td>\n",
       "      <td>...</td>\n",
       "      <td>16185.940430</td>\n",
       "      <td>0.0</td>\n",
       "      <td>948.210022</td>\n",
       "      <td>0.0</td>\n",
       "      <td>24.412899</td>\n",
       "      <td>0.00</td>\n",
       "      <td>NaN</td>\n",
       "      <td>71.914247</td>\n",
       "      <td>117.577146</td>\n",
       "      <td>0.033573</td>\n",
       "    </tr>\n",
       "    <tr>\n",
       "      <th>2000-02-04</th>\n",
       "      <td>1424.369995</td>\n",
       "      <td>1.045100e+09</td>\n",
       "      <td>21.540001</td>\n",
       "      <td>0.0</td>\n",
       "      <td>10963.799805</td>\n",
       "      <td>166590000.0</td>\n",
       "      <td>3874.370117</td>\n",
       "      <td>1.751450e+09</td>\n",
       "      <td>19763.130859</td>\n",
       "      <td>0.0</td>\n",
       "      <td>...</td>\n",
       "      <td>NaN</td>\n",
       "      <td>NaN</td>\n",
       "      <td>1010.429993</td>\n",
       "      <td>0.0</td>\n",
       "      <td>NaN</td>\n",
       "      <td>0.75</td>\n",
       "      <td>NaN</td>\n",
       "      <td>NaN</td>\n",
       "      <td>NaN</td>\n",
       "      <td>NaN</td>\n",
       "    </tr>\n",
       "  </tbody>\n",
       "</table>\n",
       "<p>5 rows × 22 columns</p>\n",
       "</div>"
      ],
      "text/plain": [
       "            sp500_Close  sp500_Volume  vix_Close  vix_Volume     dji_Close  \\\n",
       "2000-01-07  1441.469971  1.225200e+09  21.719999         0.0  11522.559570   \n",
       "2000-01-14  1465.150024  1.085900e+09  19.660000         0.0  11722.980469   \n",
       "2000-01-21  1441.359985  1.209800e+09  20.820000         0.0  11251.709961   \n",
       "2000-01-28  1360.160034  1.095800e+09  26.139999         0.0  10738.870117   \n",
       "2000-02-04  1424.369995  1.045100e+09  21.540001         0.0  10963.799805   \n",
       "\n",
       "             dji_Volume    ndx_Close    ndx_Volume    n225_Close  n225_Volume  \\\n",
       "2000-01-07  184900000.0  3529.600098  1.634930e+09  18193.410156          0.0   \n",
       "2000-01-14  266830000.0  3704.739990  1.656630e+09  18956.550781          0.0   \n",
       "2000-01-21  205840000.0  3849.959961  1.923680e+09  18878.089844          0.0   \n",
       "2000-01-28  183090000.0  3446.129883  1.616370e+09  19434.779297          0.0   \n",
       "2000-02-04  166590000.0  3874.370117  1.751450e+09  19763.130859          0.0   \n",
       "\n",
       "            ...     hsi_Close  hsi_Volume   n100_Close  n100_Volume  \\\n",
       "2000-01-07  ...  15405.629883         0.0   943.880005          0.0   \n",
       "2000-01-14  ...  15542.230469         0.0   973.859985          0.0   \n",
       "2000-01-21  ...  15108.410156         0.0   951.510010          0.0   \n",
       "2000-01-28  ...  16185.940430         0.0   948.210022          0.0   \n",
       "2000-02-04  ...           NaN         NaN  1010.429993          0.0   \n",
       "\n",
       "            Overall EMV Tracker  infectious_daily_infect_emv_index  GPR  \\\n",
       "2000-01-07                  NaN                               0.00  NaN   \n",
       "2000-01-14                  NaN                               0.00  NaN   \n",
       "2000-01-21                  NaN                               0.00  NaN   \n",
       "2000-01-28            24.412899                               0.00  NaN   \n",
       "2000-02-04                  NaN                               0.75  NaN   \n",
       "\n",
       "            trade_US Trade Policy Uncertainty  \\\n",
       "2000-01-07                                NaN   \n",
       "2000-01-14                                NaN   \n",
       "2000-01-21                                NaN   \n",
       "2000-01-28                          71.914247   \n",
       "2000-02-04                                NaN   \n",
       "\n",
       "            trade_Japanese Trade Policy Uncertainty  \\\n",
       "2000-01-07                                      NaN   \n",
       "2000-01-14                                      NaN   \n",
       "2000-01-21                                      NaN   \n",
       "2000-01-28                               117.577146   \n",
       "2000-02-04                                      NaN   \n",
       "\n",
       "            trade_Trade Policy EMV Fraction  \n",
       "2000-01-07                              NaN  \n",
       "2000-01-14                              NaN  \n",
       "2000-01-21                              NaN  \n",
       "2000-01-28                         0.033573  \n",
       "2000-02-04                              NaN  \n",
       "\n",
       "[5 rows x 22 columns]"
      ]
     },
     "execution_count": 3,
     "metadata": {},
     "output_type": "execute_result"
    }
   ],
   "source": [
    "df = pd.read_csv(INPUT+'.csv', parse_dates=True, index_col=0)\n",
    "df_test = df.loc['2015-01-02':] #Selecting test data\n",
    "df = df.loc['2000-01-01':'2015-01-01'] #Selecting training data\n",
    "df.head()"
   ]
  },
  {
   "cell_type": "code",
   "execution_count": 4,
   "metadata": {},
   "outputs": [
    {
     "ename": "ValueError",
     "evalue": "setting an array element with a sequence.",
     "output_type": "error",
     "traceback": [
      "\u001b[1;31m---------------------------------------------------------------------------\u001b[0m",
      "\u001b[1;31mTypeError\u001b[0m                                 Traceback (most recent call last)",
      "\u001b[1;32m~\\AppData\\Roaming\\Python\\Python36\\site-packages\\pandas\\core\\series.py\u001b[0m in \u001b[0;36mwrapper\u001b[1;34m(self)\u001b[0m\n\u001b[0;32m     92\u001b[0m         raise TypeError(\"cannot convert the series to \"\n\u001b[1;32m---> 93\u001b[1;33m                         \"{0}\".format(str(converter)))\n\u001b[0m\u001b[0;32m     94\u001b[0m \u001b[1;33m\u001b[0m\u001b[0m\n",
      "\u001b[1;31mTypeError\u001b[0m: cannot convert the series to <class 'float'>",
      "\nThe above exception was the direct cause of the following exception:\n",
      "\u001b[1;31mValueError\u001b[0m                                Traceback (most recent call last)",
      "\u001b[1;32m<ipython-input-4-05bc86c1813a>\u001b[0m in \u001b[0;36m<module>\u001b[1;34m\u001b[0m\n\u001b[1;32m----> 1\u001b[1;33m \u001b[0mdf_train\u001b[0m\u001b[1;33m,\u001b[0m \u001b[0mdf_test\u001b[0m \u001b[1;33m=\u001b[0m \u001b[0mmovingAverage\u001b[0m\u001b[1;33m.\u001b[0m\u001b[0minput\u001b[0m\u001b[1;33m(\u001b[0m\u001b[0mdf\u001b[0m\u001b[1;33m.\u001b[0m\u001b[0mloc\u001b[0m\u001b[1;33m[\u001b[0m\u001b[1;34m'2000-01-01'\u001b[0m\u001b[1;33m:\u001b[0m\u001b[1;34m'2015-01-01'\u001b[0m\u001b[1;33m,\u001b[0m \u001b[0mdf\u001b[0m\u001b[1;33m.\u001b[0m\u001b[0mcolumns\u001b[0m\u001b[1;33m]\u001b[0m\u001b[1;33m,\u001b[0m \u001b[0mdf\u001b[0m\u001b[1;33m.\u001b[0m\u001b[0mloc\u001b[0m\u001b[1;33m[\u001b[0m\u001b[1;34m'2015-01-02'\u001b[0m\u001b[1;33m:\u001b[0m\u001b[1;33m,\u001b[0m \u001b[0mdf\u001b[0m\u001b[1;33m.\u001b[0m\u001b[0mcolumns\u001b[0m\u001b[1;33m]\u001b[0m\u001b[1;33m,\u001b[0m \u001b[1;36m3\u001b[0m\u001b[1;33m)\u001b[0m\u001b[1;33m\u001b[0m\u001b[1;33m\u001b[0m\u001b[0m\n\u001b[0m",
      "\u001b[1;32m~\\AppData\\Roaming\\Python\\Python36\\site-packages\\imputationLibrary\\movingAverage.py\u001b[0m in \u001b[0;36minput\u001b[1;34m(training_df, test_df, num_values, ignore_index)\u001b[0m\n\u001b[0;32m     38\u001b[0m \u001b[1;33m\u001b[0m\u001b[0m\n\u001b[0;32m     39\u001b[0m \u001b[1;32mdef\u001b[0m \u001b[0minput\u001b[0m\u001b[1;33m(\u001b[0m\u001b[0mtraining_df\u001b[0m\u001b[1;33m,\u001b[0m \u001b[0mtest_df\u001b[0m\u001b[1;33m,\u001b[0m \u001b[0mnum_values\u001b[0m\u001b[1;33m,\u001b[0m \u001b[0mignore_index\u001b[0m\u001b[1;33m=\u001b[0m\u001b[1;32mFalse\u001b[0m\u001b[1;33m)\u001b[0m\u001b[1;33m:\u001b[0m\u001b[1;33m\u001b[0m\u001b[1;33m\u001b[0m\u001b[0m\n\u001b[1;32m---> 40\u001b[1;33m     \u001b[0mtraining_complete\u001b[0m \u001b[1;33m=\u001b[0m \u001b[0minputTrainingData\u001b[0m\u001b[1;33m(\u001b[0m\u001b[0mtraining_df\u001b[0m\u001b[1;33m,\u001b[0m \u001b[0mnum_values\u001b[0m\u001b[1;33m)\u001b[0m\u001b[1;33m\u001b[0m\u001b[1;33m\u001b[0m\u001b[0m\n\u001b[0m\u001b[0;32m     41\u001b[0m     \u001b[0mtest_complete\u001b[0m \u001b[1;33m=\u001b[0m \u001b[0minputTestData\u001b[0m\u001b[1;33m(\u001b[0m\u001b[0mtraining_complete\u001b[0m\u001b[1;33m,\u001b[0m \u001b[0mtest_df\u001b[0m\u001b[1;33m,\u001b[0m \u001b[0mnum_values\u001b[0m\u001b[1;33m,\u001b[0m \u001b[0mignore_index\u001b[0m\u001b[1;33m)\u001b[0m\u001b[1;33m\u001b[0m\u001b[1;33m\u001b[0m\u001b[0m\n\u001b[0;32m     42\u001b[0m \u001b[1;33m\u001b[0m\u001b[0m\n",
      "\u001b[1;32m~\\AppData\\Roaming\\Python\\Python36\\site-packages\\imputationLibrary\\movingAverage.py\u001b[0m in \u001b[0;36minputTrainingData\u001b[1;34m(training_df, num_values)\u001b[0m\n\u001b[0;32m     26\u001b[0m                     \u001b[0mmean\u001b[0m \u001b[1;33m+=\u001b[0m \u001b[0mdf_to_input\u001b[0m\u001b[1;33m.\u001b[0m\u001b[0miloc\u001b[0m\u001b[1;33m[\u001b[0m\u001b[0mindex_next\u001b[0m\u001b[1;33m]\u001b[0m\u001b[1;33m\u001b[0m\u001b[1;33m\u001b[0m\u001b[0m\n\u001b[0;32m     27\u001b[0m             \u001b[0mmean\u001b[0m \u001b[1;33m=\u001b[0m \u001b[0mmean\u001b[0m \u001b[1;33m/\u001b[0m \u001b[1;33m(\u001b[0m\u001b[0mcount_prev\u001b[0m\u001b[1;33m+\u001b[0m\u001b[0mcount_next\u001b[0m\u001b[1;33m)\u001b[0m\u001b[1;33m\u001b[0m\u001b[1;33m\u001b[0m\u001b[0m\n\u001b[1;32m---> 28\u001b[1;33m             \u001b[0mdf_to_input\u001b[0m\u001b[1;33m.\u001b[0m\u001b[0mat\u001b[0m\u001b[1;33m[\u001b[0m\u001b[0mindex\u001b[0m\u001b[1;33m,\u001b[0m \u001b[0mdf_to_input\u001b[0m\u001b[1;33m.\u001b[0m\u001b[0mcolumns\u001b[0m\u001b[1;33m[\u001b[0m\u001b[1;36m0\u001b[0m\u001b[1;33m]\u001b[0m\u001b[1;33m]\u001b[0m  \u001b[1;33m=\u001b[0m \u001b[0mmean\u001b[0m\u001b[1;33m\u001b[0m\u001b[1;33m\u001b[0m\u001b[0m\n\u001b[0m\u001b[0;32m     29\u001b[0m     \u001b[1;32mreturn\u001b[0m \u001b[0mdf_to_input\u001b[0m\u001b[1;33m\u001b[0m\u001b[1;33m\u001b[0m\u001b[0m\n\u001b[0;32m     30\u001b[0m \u001b[1;33m\u001b[0m\u001b[0m\n",
      "\u001b[1;32m~\\AppData\\Roaming\\Python\\Python36\\site-packages\\pandas\\core\\indexing.py\u001b[0m in \u001b[0;36m__setitem__\u001b[1;34m(self, key, value)\u001b[0m\n\u001b[0;32m   2285\u001b[0m         \u001b[0mkey\u001b[0m \u001b[1;33m=\u001b[0m \u001b[0mlist\u001b[0m\u001b[1;33m(\u001b[0m\u001b[0mself\u001b[0m\u001b[1;33m.\u001b[0m\u001b[0m_convert_key\u001b[0m\u001b[1;33m(\u001b[0m\u001b[0mkey\u001b[0m\u001b[1;33m,\u001b[0m \u001b[0mis_setter\u001b[0m\u001b[1;33m=\u001b[0m\u001b[1;32mTrue\u001b[0m\u001b[1;33m)\u001b[0m\u001b[1;33m)\u001b[0m\u001b[1;33m\u001b[0m\u001b[1;33m\u001b[0m\u001b[0m\n\u001b[0;32m   2286\u001b[0m         \u001b[0mkey\u001b[0m\u001b[1;33m.\u001b[0m\u001b[0mappend\u001b[0m\u001b[1;33m(\u001b[0m\u001b[0mvalue\u001b[0m\u001b[1;33m)\u001b[0m\u001b[1;33m\u001b[0m\u001b[1;33m\u001b[0m\u001b[0m\n\u001b[1;32m-> 2287\u001b[1;33m         \u001b[0mself\u001b[0m\u001b[1;33m.\u001b[0m\u001b[0mobj\u001b[0m\u001b[1;33m.\u001b[0m\u001b[0m_set_value\u001b[0m\u001b[1;33m(\u001b[0m\u001b[1;33m*\u001b[0m\u001b[0mkey\u001b[0m\u001b[1;33m,\u001b[0m \u001b[0mtakeable\u001b[0m\u001b[1;33m=\u001b[0m\u001b[0mself\u001b[0m\u001b[1;33m.\u001b[0m\u001b[0m_takeable\u001b[0m\u001b[1;33m)\u001b[0m\u001b[1;33m\u001b[0m\u001b[1;33m\u001b[0m\u001b[0m\n\u001b[0m\u001b[0;32m   2288\u001b[0m \u001b[1;33m\u001b[0m\u001b[0m\n\u001b[0;32m   2289\u001b[0m \u001b[1;33m\u001b[0m\u001b[0m\n",
      "\u001b[1;32m~\\AppData\\Roaming\\Python\\Python36\\site-packages\\pandas\\core\\frame.py\u001b[0m in \u001b[0;36m_set_value\u001b[1;34m(self, index, col, value, takeable)\u001b[0m\n\u001b[0;32m   2813\u001b[0m             \u001b[0mseries\u001b[0m \u001b[1;33m=\u001b[0m \u001b[0mself\u001b[0m\u001b[1;33m.\u001b[0m\u001b[0m_get_item_cache\u001b[0m\u001b[1;33m(\u001b[0m\u001b[0mcol\u001b[0m\u001b[1;33m)\u001b[0m\u001b[1;33m\u001b[0m\u001b[1;33m\u001b[0m\u001b[0m\n\u001b[0;32m   2814\u001b[0m             \u001b[0mengine\u001b[0m \u001b[1;33m=\u001b[0m \u001b[0mself\u001b[0m\u001b[1;33m.\u001b[0m\u001b[0mindex\u001b[0m\u001b[1;33m.\u001b[0m\u001b[0m_engine\u001b[0m\u001b[1;33m\u001b[0m\u001b[1;33m\u001b[0m\u001b[0m\n\u001b[1;32m-> 2815\u001b[1;33m             \u001b[0mengine\u001b[0m\u001b[1;33m.\u001b[0m\u001b[0mset_value\u001b[0m\u001b[1;33m(\u001b[0m\u001b[0mseries\u001b[0m\u001b[1;33m.\u001b[0m\u001b[0m_values\u001b[0m\u001b[1;33m,\u001b[0m \u001b[0mindex\u001b[0m\u001b[1;33m,\u001b[0m \u001b[0mvalue\u001b[0m\u001b[1;33m)\u001b[0m\u001b[1;33m\u001b[0m\u001b[1;33m\u001b[0m\u001b[0m\n\u001b[0m\u001b[0;32m   2816\u001b[0m             \u001b[1;32mreturn\u001b[0m \u001b[0mself\u001b[0m\u001b[1;33m\u001b[0m\u001b[1;33m\u001b[0m\u001b[0m\n\u001b[0;32m   2817\u001b[0m         \u001b[1;32mexcept\u001b[0m \u001b[1;33m(\u001b[0m\u001b[0mKeyError\u001b[0m\u001b[1;33m,\u001b[0m \u001b[0mTypeError\u001b[0m\u001b[1;33m)\u001b[0m\u001b[1;33m:\u001b[0m\u001b[1;33m\u001b[0m\u001b[1;33m\u001b[0m\u001b[0m\n",
      "\u001b[1;32mpandas\\_libs\\index.pyx\u001b[0m in \u001b[0;36mpandas._libs.index.IndexEngine.set_value\u001b[1;34m()\u001b[0m\n",
      "\u001b[1;32mpandas\\_libs\\index.pyx\u001b[0m in \u001b[0;36mpandas._libs.index.IndexEngine.set_value\u001b[1;34m()\u001b[0m\n",
      "\u001b[1;31mValueError\u001b[0m: setting an array element with a sequence."
     ]
    }
   ],
   "source": [
    "df_train, df_test = movingAverage.input(df.loc['2000-01-01':'2015-01-01', df.columns], df.loc['2015-01-02':, df.columns], 3)"
   ]
  },
  {
   "cell_type": "code",
   "execution_count": null,
   "metadata": {},
   "outputs": [],
   "source": [
    "df_test.head(50)"
   ]
  },
  {
   "cell_type": "code",
   "execution_count": null,
   "metadata": {},
   "outputs": [],
   "source": [
    "df.to_csv(OUTPUT+ '_test.csv', index = True)"
   ]
  },
  {
   "cell_type": "code",
   "execution_count": null,
   "metadata": {},
   "outputs": [],
   "source": [
    "def imput_moving_average_to_col(df_to_input, num_values):\n",
    "    for index, row in df_to_input.iterrows():\n",
    "        if pd.isna(row[0]):\n",
    "            #print(\"_______________\", row)\n",
    "            count_prev = 0\n",
    "            mean = 0\n",
    "            index_prev = df_to_input.index.get_loc(index)\n",
    "            while count_prev < num_values:\n",
    "                index_prev -= 1\n",
    "                if index_prev < 0:\n",
    "                    break\n",
    "                if not pd.isna(df_to_input.iloc[index_prev][0]):\n",
    "                    count_prev += 1\n",
    "                    #print(df_to_input.iloc[index_prev])\n",
    "                    mean += df_to_input.iloc[index_prev]\n",
    "            count_next = 0\n",
    "            index_next = df_to_input.index.get_loc(index)\n",
    "            while count_next < num_values:\n",
    "                index_next += 1\n",
    "                if index_next >= len(df_to_input):\n",
    "                    break\n",
    "                if not pd.isna(df_to_input.iloc[index_next][0]):\n",
    "                    count_next += 1\n",
    "                    mean += df_to_input.iloc[index_next]\n",
    "            mean = mean / (count_prev+count_next)\n",
    "            df_to_input.at[index, df_to_input.columns[0]]  = mean\n",
    "    return df_to_input"
   ]
  },
  {
   "cell_type": "code",
   "execution_count": null,
   "metadata": {
    "scrolled": true
   },
   "outputs": [],
   "source": [
    "for col in df.columns:\n",
    "    df_imp = imput_moving_average_to_col(df[[col]],3)\n",
    "    df[col] = df_imp\n",
    "    print(\"Column\", col, \"was imputed.\")\n",
    "df.head()"
   ]
  },
  {
   "cell_type": "code",
   "execution_count": null,
   "metadata": {},
   "outputs": [],
   "source": [
    "df.to_csv(OUTPUT+'_training.csv', index = True)\n",
    "df_final = df"
   ]
  },
  {
   "cell_type": "markdown",
   "metadata": {},
   "source": [
    "### Imputing Test Data"
   ]
  },
  {
   "cell_type": "code",
   "execution_count": null,
   "metadata": {},
   "outputs": [],
   "source": [
    "df = df_final\n",
    "df.tail()"
   ]
  },
  {
   "cell_type": "code",
   "execution_count": null,
   "metadata": {},
   "outputs": [],
   "source": [
    "def imput_moving_average_to_col_test(df_to_input, num_values):\n",
    "    if(pd.isna(df_to_input.iloc[-1,0])):\n",
    "        mean = np.sum(df_to_input.iloc[(-num_values-1):-2,0]) / (num_values)\n",
    "        df_to_input.at[df_to_input.index[-1], df_to_input.columns[0]] = mean\n",
    "    return df_to_input"
   ]
  },
  {
   "cell_type": "code",
   "execution_count": null,
   "metadata": {},
   "outputs": [],
   "source": [
    "df_test.head()"
   ]
  },
  {
   "cell_type": "code",
   "execution_count": null,
   "metadata": {},
   "outputs": [],
   "source": [
    "for index, row in df_test.iterrows():\n",
    "    indexes = [index]\n",
    "    new_df = pd.DataFrame(data=row, index=indexes, columns=df_test.columns)\n",
    "    df = pd.concat([df,new_df])\n",
    "\n",
    "    for col in df.columns:\n",
    "        df_imp = imput_moving_average_to_col_test(df[[col]],3)\n",
    "        df[col] = df_imp"
   ]
  },
  {
   "cell_type": "code",
   "execution_count": null,
   "metadata": {},
   "outputs": [],
   "source": [
    "df = df.loc['2015-01-02':]\n",
    "df.to_csv(OUTPUT+ '_test.csv', index = True)"
   ]
  },
  {
   "cell_type": "code",
   "execution_count": null,
   "metadata": {},
   "outputs": [],
   "source": []
  }
 ],
 "metadata": {
  "kernelspec": {
   "display_name": "Python 3",
   "language": "python",
   "name": "python3"
  },
  "language_info": {
   "codemirror_mode": {
    "name": "ipython",
    "version": 3
   },
   "file_extension": ".py",
   "mimetype": "text/x-python",
   "name": "python",
   "nbconvert_exporter": "python",
   "pygments_lexer": "ipython3",
   "version": "3.6.10"
  }
 },
 "nbformat": 4,
 "nbformat_minor": 4
}
