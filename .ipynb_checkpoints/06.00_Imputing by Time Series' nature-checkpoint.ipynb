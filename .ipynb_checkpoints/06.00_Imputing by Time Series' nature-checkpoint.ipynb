{
 "cells": [
  {
   "cell_type": "code",
   "execution_count": 1,
   "metadata": {},
   "outputs": [],
   "source": [
    "from imputationLibrary import forwardFilling, hotDeck, meanImputation, movingAverage, splineInterpolation, separate, randomSampleImputation\n",
    "from imputationLibrary.util import util\n",
    "import pandas as pd\n",
    "from datetime import datetime, timedelta\n",
    "import numpy as np"
   ]
  },
  {
   "cell_type": "code",
   "execution_count": 2,
   "metadata": {},
   "outputs": [],
   "source": [
    "INPUT = 'output/\\CompleteWeeklyIndexes'"
   ]
  },
  {
   "cell_type": "code",
   "execution_count": 3,
   "metadata": {},
   "outputs": [],
   "source": [
    "df = pd.read_csv(INPUT+'.csv', parse_dates=True, index_col=0)\n",
    "df_test = df.loc['2015-01-02':] #Selecting test data\n",
    "df_train = df.loc['2000-01-01':'2015-01-01'] #Selecting training data"
   ]
  },
  {
   "cell_type": "code",
   "execution_count": 4,
   "metadata": {},
   "outputs": [
    {
     "name": "stdout",
     "output_type": "stream",
     "text": [
      "Additive Decomposition performed.\n",
      "Additive Decomposition performed.\n",
      "Additive Decomposition performed.\n",
      "Additive Decomposition performed.\n",
      "Additive Decomposition performed.\n",
      "Additive Decomposition performed.\n",
      "Additive Decomposition performed.\n",
      "Additive Decomposition performed.\n"
     ]
    },
    {
     "name": "stderr",
     "output_type": "stream",
     "text": [
      "C:\\Users\\silva\\AppData\\Roaming\\Python\\Python36\\site-packages\\sklearn\\preprocessing\\_data.py:174: UserWarning: Numerical issues were encountered when centering the data and might not be solved. Dataset may contain too large values. You may need to prescale your features.\n",
      "  warnings.warn(\"Numerical issues were encountered \"\n",
      "C:\\Users\\silva\\AppData\\Roaming\\Python\\Python36\\site-packages\\sklearn\\preprocessing\\_data.py:174: UserWarning: Numerical issues were encountered when centering the data and might not be solved. Dataset may contain too large values. You may need to prescale your features.\n",
      "  warnings.warn(\"Numerical issues were encountered \"\n",
      "C:\\Users\\silva\\AppData\\Roaming\\Python\\Python36\\site-packages\\sklearn\\preprocessing\\_data.py:174: UserWarning: Numerical issues were encountered when centering the data and might not be solved. Dataset may contain too large values. You may need to prescale your features.\n",
      "  warnings.warn(\"Numerical issues were encountered \"\n",
      "C:\\Users\\silva\\AppData\\Roaming\\Python\\Python36\\site-packages\\sklearn\\preprocessing\\_data.py:174: UserWarning: Numerical issues were encountered when centering the data and might not be solved. Dataset may contain too large values. You may need to prescale your features.\n",
      "  warnings.warn(\"Numerical issues were encountered \"\n",
      "C:\\Users\\silva\\AppData\\Roaming\\Python\\Python36\\site-packages\\sklearn\\preprocessing\\_data.py:174: UserWarning: Numerical issues were encountered when centering the data and might not be solved. Dataset may contain too large values. You may need to prescale your features.\n",
      "  warnings.warn(\"Numerical issues were encountered \"\n",
      "C:\\Users\\silva\\AppData\\Roaming\\Python\\Python36\\site-packages\\sklearn\\preprocessing\\_data.py:174: UserWarning: Numerical issues were encountered when centering the data and might not be solved. Dataset may contain too large values. You may need to prescale your features.\n",
      "  warnings.warn(\"Numerical issues were encountered \"\n",
      "C:\\Users\\silva\\AppData\\Roaming\\Python\\Python36\\site-packages\\sklearn\\preprocessing\\_data.py:174: UserWarning: Numerical issues were encountered when centering the data and might not be solved. Dataset may contain too large values. You may need to prescale your features.\n",
      "  warnings.warn(\"Numerical issues were encountered \"\n",
      "C:\\Users\\silva\\AppData\\Roaming\\Python\\Python36\\site-packages\\sklearn\\preprocessing\\_data.py:174: UserWarning: Numerical issues were encountered when centering the data and might not be solved. Dataset may contain too large values. You may need to prescale your features.\n",
      "  warnings.warn(\"Numerical issues were encountered \"\n"
     ]
    },
    {
     "name": "stdout",
     "output_type": "stream",
     "text": [
      "Additive Decomposition performed.\n",
      "Additive Decomposition performed.\n",
      "Additive Decomposition performed.\n",
      "Additive Decomposition performed.\n",
      "Additive Decomposition performed.\n",
      "Additive Decomposition performed.\n",
      "Additive Decomposition performed.\n",
      "Additive Decomposition performed.\n",
      "Additive Decomposition performed.\n",
      "Additive Decomposition performed.\n"
     ]
    },
    {
     "name": "stderr",
     "output_type": "stream",
     "text": [
      "C:\\Users\\silva\\AppData\\Roaming\\Python\\Python36\\site-packages\\sklearn\\preprocessing\\_data.py:174: UserWarning: Numerical issues were encountered when centering the data and might not be solved. Dataset may contain too large values. You may need to prescale your features.\n",
      "  warnings.warn(\"Numerical issues were encountered \"\n",
      "C:\\Users\\silva\\AppData\\Roaming\\Python\\Python36\\site-packages\\sklearn\\preprocessing\\_data.py:174: UserWarning: Numerical issues were encountered when centering the data and might not be solved. Dataset may contain too large values. You may need to prescale your features.\n",
      "  warnings.warn(\"Numerical issues were encountered \"\n",
      "C:\\Users\\silva\\AppData\\Roaming\\Python\\Python36\\site-packages\\sklearn\\preprocessing\\_data.py:174: UserWarning: Numerical issues were encountered when centering the data and might not be solved. Dataset may contain too large values. You may need to prescale your features.\n",
      "  warnings.warn(\"Numerical issues were encountered \"\n",
      "C:\\Users\\silva\\AppData\\Roaming\\Python\\Python36\\site-packages\\sklearn\\preprocessing\\_data.py:174: UserWarning: Numerical issues were encountered when centering the data and might not be solved. Dataset may contain too large values. You may need to prescale your features.\n",
      "  warnings.warn(\"Numerical issues were encountered \"\n",
      "C:\\Users\\silva\\AppData\\Roaming\\Python\\Python36\\site-packages\\sklearn\\preprocessing\\_data.py:174: UserWarning: Numerical issues were encountered when centering the data and might not be solved. Dataset may contain too large values. You may need to prescale your features.\n",
      "  warnings.warn(\"Numerical issues were encountered \"\n",
      "C:\\Users\\silva\\AppData\\Roaming\\Python\\Python36\\site-packages\\sklearn\\preprocessing\\_data.py:174: UserWarning: Numerical issues were encountered when centering the data and might not be solved. Dataset may contain too large values. You may need to prescale your features.\n",
      "  warnings.warn(\"Numerical issues were encountered \"\n",
      "C:\\Users\\silva\\AppData\\Roaming\\Python\\Python36\\site-packages\\sklearn\\preprocessing\\_data.py:174: UserWarning: Numerical issues were encountered when centering the data and might not be solved. Dataset may contain too large values. You may need to prescale your features.\n",
      "  warnings.warn(\"Numerical issues were encountered \"\n",
      "C:\\Users\\silva\\AppData\\Roaming\\Python\\Python36\\site-packages\\sklearn\\preprocessing\\_data.py:174: UserWarning: Numerical issues were encountered when centering the data and might not be solved. Dataset may contain too large values. You may need to prescale your features.\n",
      "  warnings.warn(\"Numerical issues were encountered \"\n",
      "C:\\Users\\silva\\AppData\\Roaming\\Python\\Python36\\site-packages\\sklearn\\preprocessing\\_data.py:174: UserWarning: Numerical issues were encountered when centering the data and might not be solved. Dataset may contain too large values. You may need to prescale your features.\n",
      "  warnings.warn(\"Numerical issues were encountered \"\n",
      "C:\\Users\\silva\\AppData\\Roaming\\Python\\Python36\\site-packages\\sklearn\\preprocessing\\_data.py:174: UserWarning: Numerical issues were encountered when centering the data and might not be solved. Dataset may contain too large values. You may need to prescale your features.\n",
      "  warnings.warn(\"Numerical issues were encountered \"\n",
      "C:\\Users\\silva\\AppData\\Roaming\\Python\\Python36\\site-packages\\sklearn\\preprocessing\\_data.py:174: UserWarning: Numerical issues were encountered when centering the data and might not be solved. Dataset may contain too large values. You may need to prescale your features.\n",
      "  warnings.warn(\"Numerical issues were encountered \"\n",
      "C:\\Users\\silva\\AppData\\Roaming\\Python\\Python36\\site-packages\\sklearn\\preprocessing\\_data.py:174: UserWarning: Numerical issues were encountered when centering the data and might not be solved. Dataset may contain too large values. You may need to prescale your features.\n",
      "  warnings.warn(\"Numerical issues were encountered \"\n"
     ]
    },
    {
     "name": "stdout",
     "output_type": "stream",
     "text": [
      "Additive Decomposition performed.\n",
      "Additive Decomposition performed.\n",
      "Additive Decomposition performed.\n",
      "Additive Decomposition performed.\n"
     ]
    }
   ],
   "source": [
    "df_white_noise, df_seasonal, df_trended, df_trend_and_seasonal = separate.separate(df_train)"
   ]
  },
  {
   "cell_type": "code",
   "execution_count": 5,
   "metadata": {},
   "outputs": [
    {
     "data": {
      "text/plain": [
       "Index(['vix_Volume', 'infectious_daily_infect_emv_index', 'GPR'], dtype='object')"
      ]
     },
     "execution_count": 5,
     "metadata": {},
     "output_type": "execute_result"
    }
   ],
   "source": [
    "# infectious_daily_infect_emv_index, trade_US Trade Policy Uncertainty\n",
    "df_white_noise.columns"
   ]
  },
  {
   "cell_type": "code",
   "execution_count": 6,
   "metadata": {},
   "outputs": [
    {
     "data": {
      "text/plain": [
       "Index(['trade_Trade Policy EMV Fraction'], dtype='object')"
      ]
     },
     "execution_count": 6,
     "metadata": {},
     "output_type": "execute_result"
    }
   ],
   "source": [
    "df_seasonal.columns"
   ]
  },
  {
   "cell_type": "code",
   "execution_count": 7,
   "metadata": {},
   "outputs": [
    {
     "data": {
      "text/plain": [
       "Index(['sp500_Volume', 'Overall EMV Tracker'], dtype='object')"
      ]
     },
     "execution_count": 7,
     "metadata": {},
     "output_type": "execute_result"
    }
   ],
   "source": [
    "# sp500_Close, sp500_Volume, vix_Close, vix_Volume, 'dji_Close', 'dji_Volume', 'ndx_Close',\n",
    "#       'ndx_Volume', 'n225_Close', 'n225_Volume', 'ftse_Close', 'ftse_Volume',\n",
    "#       'hsi_Close', 'hsi_Volume', 'n100_Close', 'n100_Volume','trade_Trade Policy EMV Fraction'\n",
    "df_trended.columns"
   ]
  },
  {
   "cell_type": "code",
   "execution_count": 8,
   "metadata": {},
   "outputs": [
    {
     "data": {
      "text/plain": [
       "Index(['sp500_Close', 'vix_Close', 'dji_Close', 'dji_Volume', 'ndx_Close',\n",
       "       'ndx_Volume', 'n225_Close', 'n225_Volume', 'ftse_Close', 'ftse_Volume',\n",
       "       'hsi_Close', 'hsi_Volume', 'n100_Close', 'n100_Volume',\n",
       "       'trade_US Trade Policy Uncertainty',\n",
       "       'trade_Japanese Trade Policy Uncertainty'],\n",
       "      dtype='object')"
      ]
     },
     "execution_count": 8,
     "metadata": {},
     "output_type": "execute_result"
    }
   ],
   "source": [
    "# GPR, trade_Japanese Trade Policy Uncertainty, trade_US Trade Policy Uncertainty\n",
    "df_trend_and_seasonal.columns"
   ]
  },
  {
   "cell_type": "code",
   "execution_count": 9,
   "metadata": {},
   "outputs": [
    {
     "name": "stderr",
     "output_type": "stream",
     "text": [
      "C:\\Users\\silva\\Anaconda3\\envs\\mestrado\\lib\\site-packages\\numpy\\core\\fromnumeric.py:58: FutureWarning: Series.nonzero() is deprecated and will be removed in a future version.Use Series.to_numpy().nonzero() instead\n",
      "  return bound(*args, **kwds)\n"
     ]
    }
   ],
   "source": [
    "df_seasonal_train, df_seasonal_test = randomSampleImputation.input(df.loc['2000-01-01':'2015-01-01', df_seasonal.columns], df.loc['2015-01-02':, df_seasonal.columns], sliding_window_size = 0.03)"
   ]
  },
  {
   "cell_type": "code",
   "execution_count": 10,
   "metadata": {},
   "outputs": [],
   "source": [
    "df_white_noise_train, df_white_noise_test =  meanImputation.input(df.loc['2000-01-01':'2015-01-01', df_white_noise.columns], df.loc['2015-01-02':, df_white_noise.columns])"
   ]
  },
  {
   "cell_type": "code",
   "execution_count": 11,
   "metadata": {},
   "outputs": [],
   "source": [
    "df_trended_train, df_trended_test =  forwardFilling.input(df.loc['2000-01-01':'2015-01-01', df_trended.columns], df.loc['2015-01-02':, df_trended.columns])"
   ]
  },
  {
   "cell_type": "code",
   "execution_count": 12,
   "metadata": {},
   "outputs": [],
   "source": [
    "df_trend_and_seasonal_train, df_trend_and_seasonal_test =  splineInterpolation.input(df.loc['2000-01-01':'2015-01-01', df_trend_and_seasonal.columns], df.loc['2015-01-02':, df_trend_and_seasonal.columns])"
   ]
  },
  {
   "cell_type": "code",
   "execution_count": 13,
   "metadata": {},
   "outputs": [],
   "source": [
    "df_train = pd.concat([df_seasonal_train, df_white_noise_train, df_trended_train, df_trend_and_seasonal_train], axis=1, join='outer')"
   ]
  },
  {
   "cell_type": "code",
   "execution_count": 14,
   "metadata": {},
   "outputs": [],
   "source": [
    "df_test = pd.concat([df_seasonal_test, df_white_noise_test, df_trended_test, df_trend_and_seasonal_test], axis=1, join='outer')"
   ]
  },
  {
   "cell_type": "code",
   "execution_count": 15,
   "metadata": {},
   "outputs": [
    {
     "data": {
      "text/html": [
       "<div>\n",
       "<style scoped>\n",
       "    .dataframe tbody tr th:only-of-type {\n",
       "        vertical-align: middle;\n",
       "    }\n",
       "\n",
       "    .dataframe tbody tr th {\n",
       "        vertical-align: top;\n",
       "    }\n",
       "\n",
       "    .dataframe thead th {\n",
       "        text-align: right;\n",
       "    }\n",
       "</style>\n",
       "<table border=\"1\" class=\"dataframe\">\n",
       "  <thead>\n",
       "    <tr style=\"text-align: right;\">\n",
       "      <th></th>\n",
       "      <th>trade_Trade Policy EMV Fraction</th>\n",
       "      <th>vix_Volume</th>\n",
       "      <th>infectious_daily_infect_emv_index</th>\n",
       "      <th>GPR</th>\n",
       "      <th>sp500_Volume</th>\n",
       "      <th>Overall EMV Tracker</th>\n",
       "      <th>sp500_Close</th>\n",
       "      <th>vix_Close</th>\n",
       "      <th>dji_Close</th>\n",
       "      <th>dji_Volume</th>\n",
       "      <th>...</th>\n",
       "      <th>n225_Close</th>\n",
       "      <th>n225_Volume</th>\n",
       "      <th>ftse_Close</th>\n",
       "      <th>ftse_Volume</th>\n",
       "      <th>hsi_Close</th>\n",
       "      <th>hsi_Volume</th>\n",
       "      <th>n100_Close</th>\n",
       "      <th>n100_Volume</th>\n",
       "      <th>trade_US Trade Policy Uncertainty</th>\n",
       "      <th>trade_Japanese Trade Policy Uncertainty</th>\n",
       "    </tr>\n",
       "  </thead>\n",
       "  <tbody>\n",
       "    <tr>\n",
       "      <th>2009-10-16</th>\n",
       "      <td>0.033755</td>\n",
       "      <td>NaN</td>\n",
       "      <td>NaN</td>\n",
       "      <td>NaN</td>\n",
       "      <td>NaN</td>\n",
       "      <td>NaN</td>\n",
       "      <td>NaN</td>\n",
       "      <td>NaN</td>\n",
       "      <td>NaN</td>\n",
       "      <td>NaN</td>\n",
       "      <td>...</td>\n",
       "      <td>NaN</td>\n",
       "      <td>NaN</td>\n",
       "      <td>NaN</td>\n",
       "      <td>NaN</td>\n",
       "      <td>NaN</td>\n",
       "      <td>NaN</td>\n",
       "      <td>NaN</td>\n",
       "      <td>NaN</td>\n",
       "      <td>NaN</td>\n",
       "      <td>NaN</td>\n",
       "    </tr>\n",
       "    <tr>\n",
       "      <th>2009-10-23</th>\n",
       "      <td>0.033573</td>\n",
       "      <td>NaN</td>\n",
       "      <td>NaN</td>\n",
       "      <td>NaN</td>\n",
       "      <td>NaN</td>\n",
       "      <td>NaN</td>\n",
       "      <td>NaN</td>\n",
       "      <td>NaN</td>\n",
       "      <td>NaN</td>\n",
       "      <td>NaN</td>\n",
       "      <td>...</td>\n",
       "      <td>NaN</td>\n",
       "      <td>NaN</td>\n",
       "      <td>NaN</td>\n",
       "      <td>NaN</td>\n",
       "      <td>NaN</td>\n",
       "      <td>NaN</td>\n",
       "      <td>NaN</td>\n",
       "      <td>NaN</td>\n",
       "      <td>NaN</td>\n",
       "      <td>NaN</td>\n",
       "    </tr>\n",
       "    <tr>\n",
       "      <th>2009-10-30</th>\n",
       "      <td>0.036641</td>\n",
       "      <td>NaN</td>\n",
       "      <td>NaN</td>\n",
       "      <td>NaN</td>\n",
       "      <td>NaN</td>\n",
       "      <td>NaN</td>\n",
       "      <td>NaN</td>\n",
       "      <td>NaN</td>\n",
       "      <td>NaN</td>\n",
       "      <td>NaN</td>\n",
       "      <td>...</td>\n",
       "      <td>NaN</td>\n",
       "      <td>NaN</td>\n",
       "      <td>NaN</td>\n",
       "      <td>NaN</td>\n",
       "      <td>NaN</td>\n",
       "      <td>NaN</td>\n",
       "      <td>NaN</td>\n",
       "      <td>NaN</td>\n",
       "      <td>NaN</td>\n",
       "      <td>NaN</td>\n",
       "    </tr>\n",
       "    <tr>\n",
       "      <th>2009-11-06</th>\n",
       "      <td>0.033755</td>\n",
       "      <td>NaN</td>\n",
       "      <td>NaN</td>\n",
       "      <td>NaN</td>\n",
       "      <td>NaN</td>\n",
       "      <td>NaN</td>\n",
       "      <td>NaN</td>\n",
       "      <td>NaN</td>\n",
       "      <td>NaN</td>\n",
       "      <td>NaN</td>\n",
       "      <td>...</td>\n",
       "      <td>NaN</td>\n",
       "      <td>NaN</td>\n",
       "      <td>NaN</td>\n",
       "      <td>NaN</td>\n",
       "      <td>NaN</td>\n",
       "      <td>NaN</td>\n",
       "      <td>NaN</td>\n",
       "      <td>NaN</td>\n",
       "      <td>NaN</td>\n",
       "      <td>NaN</td>\n",
       "    </tr>\n",
       "    <tr>\n",
       "      <th>2009-11-13</th>\n",
       "      <td>0.033755</td>\n",
       "      <td>NaN</td>\n",
       "      <td>NaN</td>\n",
       "      <td>NaN</td>\n",
       "      <td>NaN</td>\n",
       "      <td>NaN</td>\n",
       "      <td>NaN</td>\n",
       "      <td>NaN</td>\n",
       "      <td>NaN</td>\n",
       "      <td>NaN</td>\n",
       "      <td>...</td>\n",
       "      <td>NaN</td>\n",
       "      <td>NaN</td>\n",
       "      <td>NaN</td>\n",
       "      <td>NaN</td>\n",
       "      <td>NaN</td>\n",
       "      <td>NaN</td>\n",
       "      <td>NaN</td>\n",
       "      <td>NaN</td>\n",
       "      <td>NaN</td>\n",
       "      <td>NaN</td>\n",
       "    </tr>\n",
       "  </tbody>\n",
       "</table>\n",
       "<p>5 rows × 22 columns</p>\n",
       "</div>"
      ],
      "text/plain": [
       "            trade_Trade Policy EMV Fraction  vix_Volume  \\\n",
       "2009-10-16                         0.033755         NaN   \n",
       "2009-10-23                         0.033573         NaN   \n",
       "2009-10-30                         0.036641         NaN   \n",
       "2009-11-06                         0.033755         NaN   \n",
       "2009-11-13                         0.033755         NaN   \n",
       "\n",
       "            infectious_daily_infect_emv_index  GPR  sp500_Volume  \\\n",
       "2009-10-16                                NaN  NaN           NaN   \n",
       "2009-10-23                                NaN  NaN           NaN   \n",
       "2009-10-30                                NaN  NaN           NaN   \n",
       "2009-11-06                                NaN  NaN           NaN   \n",
       "2009-11-13                                NaN  NaN           NaN   \n",
       "\n",
       "            Overall EMV Tracker  sp500_Close  vix_Close  dji_Close  \\\n",
       "2009-10-16                  NaN          NaN        NaN        NaN   \n",
       "2009-10-23                  NaN          NaN        NaN        NaN   \n",
       "2009-10-30                  NaN          NaN        NaN        NaN   \n",
       "2009-11-06                  NaN          NaN        NaN        NaN   \n",
       "2009-11-13                  NaN          NaN        NaN        NaN   \n",
       "\n",
       "            dji_Volume  ...  n225_Close  n225_Volume  ftse_Close  ftse_Volume  \\\n",
       "2009-10-16         NaN  ...         NaN          NaN         NaN          NaN   \n",
       "2009-10-23         NaN  ...         NaN          NaN         NaN          NaN   \n",
       "2009-10-30         NaN  ...         NaN          NaN         NaN          NaN   \n",
       "2009-11-06         NaN  ...         NaN          NaN         NaN          NaN   \n",
       "2009-11-13         NaN  ...         NaN          NaN         NaN          NaN   \n",
       "\n",
       "            hsi_Close  hsi_Volume  n100_Close  n100_Volume  \\\n",
       "2009-10-16        NaN         NaN         NaN          NaN   \n",
       "2009-10-23        NaN         NaN         NaN          NaN   \n",
       "2009-10-30        NaN         NaN         NaN          NaN   \n",
       "2009-11-06        NaN         NaN         NaN          NaN   \n",
       "2009-11-13        NaN         NaN         NaN          NaN   \n",
       "\n",
       "            trade_US Trade Policy Uncertainty  \\\n",
       "2009-10-16                                NaN   \n",
       "2009-10-23                                NaN   \n",
       "2009-10-30                                NaN   \n",
       "2009-11-06                                NaN   \n",
       "2009-11-13                                NaN   \n",
       "\n",
       "            trade_Japanese Trade Policy Uncertainty  \n",
       "2009-10-16                                      NaN  \n",
       "2009-10-23                                      NaN  \n",
       "2009-10-30                                      NaN  \n",
       "2009-11-06                                      NaN  \n",
       "2009-11-13                                      NaN  \n",
       "\n",
       "[5 rows x 22 columns]"
      ]
     },
     "execution_count": 15,
     "metadata": {},
     "output_type": "execute_result"
    }
   ],
   "source": [
    "df_test.head()"
   ]
  },
  {
   "cell_type": "code",
   "execution_count": 16,
   "metadata": {},
   "outputs": [
    {
     "data": {
      "text/html": [
       "<div>\n",
       "<style scoped>\n",
       "    .dataframe tbody tr th:only-of-type {\n",
       "        vertical-align: middle;\n",
       "    }\n",
       "\n",
       "    .dataframe tbody tr th {\n",
       "        vertical-align: top;\n",
       "    }\n",
       "\n",
       "    .dataframe thead th {\n",
       "        text-align: right;\n",
       "    }\n",
       "</style>\n",
       "<table border=\"1\" class=\"dataframe\">\n",
       "  <thead>\n",
       "    <tr style=\"text-align: right;\">\n",
       "      <th></th>\n",
       "      <th>trade_Trade Policy EMV Fraction</th>\n",
       "      <th>vix_Volume</th>\n",
       "      <th>infectious_daily_infect_emv_index</th>\n",
       "      <th>GPR</th>\n",
       "      <th>sp500_Volume</th>\n",
       "      <th>Overall EMV Tracker</th>\n",
       "      <th>sp500_Close</th>\n",
       "      <th>vix_Close</th>\n",
       "      <th>dji_Close</th>\n",
       "      <th>dji_Volume</th>\n",
       "      <th>...</th>\n",
       "      <th>n225_Close</th>\n",
       "      <th>n225_Volume</th>\n",
       "      <th>ftse_Close</th>\n",
       "      <th>ftse_Volume</th>\n",
       "      <th>hsi_Close</th>\n",
       "      <th>hsi_Volume</th>\n",
       "      <th>n100_Close</th>\n",
       "      <th>n100_Volume</th>\n",
       "      <th>trade_US Trade Policy Uncertainty</th>\n",
       "      <th>trade_Japanese Trade Policy Uncertainty</th>\n",
       "    </tr>\n",
       "  </thead>\n",
       "  <tbody>\n",
       "    <tr>\n",
       "      <th>2014-11-28</th>\n",
       "      <td>0.013889</td>\n",
       "      <td>0.0</td>\n",
       "      <td>0.00</td>\n",
       "      <td>85.251996</td>\n",
       "      <td>2.504640e+09</td>\n",
       "      <td>13.894961</td>\n",
       "      <td>2067.560059</td>\n",
       "      <td>13.33</td>\n",
       "      <td>17828.240234</td>\n",
       "      <td>80470000.0</td>\n",
       "      <td>...</td>\n",
       "      <td>17459.849609</td>\n",
       "      <td>149100.0</td>\n",
       "      <td>6722.600098</td>\n",
       "      <td>8.393905e+08</td>\n",
       "      <td>23987.449219</td>\n",
       "      <td>3.154787e+09</td>\n",
       "      <td>850.539978</td>\n",
       "      <td>3.915370e+08</td>\n",
       "      <td>22.607562</td>\n",
       "      <td>65.974280</td>\n",
       "    </tr>\n",
       "    <tr>\n",
       "      <th>2014-12-05</th>\n",
       "      <td>0.009174</td>\n",
       "      <td>0.0</td>\n",
       "      <td>0.00</td>\n",
       "      <td>85.251996</td>\n",
       "      <td>3.419620e+09</td>\n",
       "      <td>13.894961</td>\n",
       "      <td>2075.370117</td>\n",
       "      <td>11.89</td>\n",
       "      <td>17958.789063</td>\n",
       "      <td>79110000.0</td>\n",
       "      <td>...</td>\n",
       "      <td>17920.449219</td>\n",
       "      <td>128900.0</td>\n",
       "      <td>6742.799805</td>\n",
       "      <td>6.784647e+08</td>\n",
       "      <td>24002.640625</td>\n",
       "      <td>5.025801e+09</td>\n",
       "      <td>860.190002</td>\n",
       "      <td>4.657844e+08</td>\n",
       "      <td>31.094696</td>\n",
       "      <td>70.445685</td>\n",
       "    </tr>\n",
       "    <tr>\n",
       "      <th>2014-12-12</th>\n",
       "      <td>0.011080</td>\n",
       "      <td>0.0</td>\n",
       "      <td>0.47</td>\n",
       "      <td>85.251996</td>\n",
       "      <td>4.157650e+09</td>\n",
       "      <td>13.894961</td>\n",
       "      <td>2002.329956</td>\n",
       "      <td>21.08</td>\n",
       "      <td>17280.830078</td>\n",
       "      <td>121950000.0</td>\n",
       "      <td>...</td>\n",
       "      <td>17371.580078</td>\n",
       "      <td>214500.0</td>\n",
       "      <td>6300.600098</td>\n",
       "      <td>7.939665e+08</td>\n",
       "      <td>23249.199219</td>\n",
       "      <td>1.641040e+09</td>\n",
       "      <td>805.429993</td>\n",
       "      <td>4.454517e+08</td>\n",
       "      <td>40.923946</td>\n",
       "      <td>75.567908</td>\n",
       "    </tr>\n",
       "    <tr>\n",
       "      <th>2014-12-19</th>\n",
       "      <td>0.034667</td>\n",
       "      <td>0.0</td>\n",
       "      <td>0.94</td>\n",
       "      <td>85.251996</td>\n",
       "      <td>6.465530e+09</td>\n",
       "      <td>13.894961</td>\n",
       "      <td>2070.649902</td>\n",
       "      <td>16.49</td>\n",
       "      <td>17804.800781</td>\n",
       "      <td>343690000.0</td>\n",
       "      <td>...</td>\n",
       "      <td>17621.400391</td>\n",
       "      <td>175800.0</td>\n",
       "      <td>6545.299805</td>\n",
       "      <td>1.144608e+09</td>\n",
       "      <td>23116.630859</td>\n",
       "      <td>2.309125e+09</td>\n",
       "      <td>831.929993</td>\n",
       "      <td>8.499287e+08</td>\n",
       "      <td>52.147207</td>\n",
       "      <td>81.366546</td>\n",
       "    </tr>\n",
       "    <tr>\n",
       "      <th>2014-12-26</th>\n",
       "      <td>0.028571</td>\n",
       "      <td>0.0</td>\n",
       "      <td>2.55</td>\n",
       "      <td>85.251996</td>\n",
       "      <td>1.735230e+09</td>\n",
       "      <td>13.894961</td>\n",
       "      <td>2088.770020</td>\n",
       "      <td>14.50</td>\n",
       "      <td>18053.710938</td>\n",
       "      <td>52570000.0</td>\n",
       "      <td>...</td>\n",
       "      <td>17818.960938</td>\n",
       "      <td>86500.0</td>\n",
       "      <td>9125.872582</td>\n",
       "      <td>1.551044e+09</td>\n",
       "      <td>25211.180229</td>\n",
       "      <td>2.053229e+10</td>\n",
       "      <td>1149.368491</td>\n",
       "      <td>2.583637e+09</td>\n",
       "      <td>64.816373</td>\n",
       "      <td>87.867196</td>\n",
       "    </tr>\n",
       "  </tbody>\n",
       "</table>\n",
       "<p>5 rows × 22 columns</p>\n",
       "</div>"
      ],
      "text/plain": [
       "            trade_Trade Policy EMV Fraction  vix_Volume  \\\n",
       "2014-11-28                         0.013889         0.0   \n",
       "2014-12-05                         0.009174         0.0   \n",
       "2014-12-12                         0.011080         0.0   \n",
       "2014-12-19                         0.034667         0.0   \n",
       "2014-12-26                         0.028571         0.0   \n",
       "\n",
       "            infectious_daily_infect_emv_index        GPR  sp500_Volume  \\\n",
       "2014-11-28                               0.00  85.251996  2.504640e+09   \n",
       "2014-12-05                               0.00  85.251996  3.419620e+09   \n",
       "2014-12-12                               0.47  85.251996  4.157650e+09   \n",
       "2014-12-19                               0.94  85.251996  6.465530e+09   \n",
       "2014-12-26                               2.55  85.251996  1.735230e+09   \n",
       "\n",
       "            Overall EMV Tracker  sp500_Close  vix_Close     dji_Close  \\\n",
       "2014-11-28            13.894961  2067.560059      13.33  17828.240234   \n",
       "2014-12-05            13.894961  2075.370117      11.89  17958.789063   \n",
       "2014-12-12            13.894961  2002.329956      21.08  17280.830078   \n",
       "2014-12-19            13.894961  2070.649902      16.49  17804.800781   \n",
       "2014-12-26            13.894961  2088.770020      14.50  18053.710938   \n",
       "\n",
       "             dji_Volume  ...    n225_Close  n225_Volume   ftse_Close  \\\n",
       "2014-11-28   80470000.0  ...  17459.849609     149100.0  6722.600098   \n",
       "2014-12-05   79110000.0  ...  17920.449219     128900.0  6742.799805   \n",
       "2014-12-12  121950000.0  ...  17371.580078     214500.0  6300.600098   \n",
       "2014-12-19  343690000.0  ...  17621.400391     175800.0  6545.299805   \n",
       "2014-12-26   52570000.0  ...  17818.960938      86500.0  9125.872582   \n",
       "\n",
       "             ftse_Volume     hsi_Close    hsi_Volume   n100_Close  \\\n",
       "2014-11-28  8.393905e+08  23987.449219  3.154787e+09   850.539978   \n",
       "2014-12-05  6.784647e+08  24002.640625  5.025801e+09   860.190002   \n",
       "2014-12-12  7.939665e+08  23249.199219  1.641040e+09   805.429993   \n",
       "2014-12-19  1.144608e+09  23116.630859  2.309125e+09   831.929993   \n",
       "2014-12-26  1.551044e+09  25211.180229  2.053229e+10  1149.368491   \n",
       "\n",
       "             n100_Volume  trade_US Trade Policy Uncertainty  \\\n",
       "2014-11-28  3.915370e+08                          22.607562   \n",
       "2014-12-05  4.657844e+08                          31.094696   \n",
       "2014-12-12  4.454517e+08                          40.923946   \n",
       "2014-12-19  8.499287e+08                          52.147207   \n",
       "2014-12-26  2.583637e+09                          64.816373   \n",
       "\n",
       "            trade_Japanese Trade Policy Uncertainty  \n",
       "2014-11-28                                65.974280  \n",
       "2014-12-05                                70.445685  \n",
       "2014-12-12                                75.567908  \n",
       "2014-12-19                                81.366546  \n",
       "2014-12-26                                87.867196  \n",
       "\n",
       "[5 rows x 22 columns]"
      ]
     },
     "execution_count": 16,
     "metadata": {},
     "output_type": "execute_result"
    }
   ],
   "source": [
    "df_train.tail()"
   ]
  },
  {
   "cell_type": "code",
   "execution_count": 17,
   "metadata": {},
   "outputs": [],
   "source": [
    "df_train.to_csv(r'output\\/CompleteIndexesTrain.csv', index = True)"
   ]
  },
  {
   "cell_type": "code",
   "execution_count": 18,
   "metadata": {},
   "outputs": [],
   "source": [
    "df_test.to_csv(r'output\\/CompleteIndexesTest.csv', index = True)"
   ]
  },
  {
   "cell_type": "code",
   "execution_count": 19,
   "metadata": {},
   "outputs": [],
   "source": [
    "# Subsample para weekly\n",
    "\n",
    "# Generating weekly sampled dataset\n",
    "def generate_weekly(df, initial_friday):\n",
    "    df_friday = initial_friday #datetime(2000,1,7)\n",
    "\n",
    "    df_weekly = pd.DataFrame(columns = df.columns)\n",
    "    \n",
    "    while df_friday <= df.tail(1).index:\n",
    "        df_weekly = df_weekly.append(df.loc[df_friday])\n",
    "        df_friday+=timedelta(days=7)\n",
    "    return df_weekly"
   ]
  },
  {
   "cell_type": "code",
   "execution_count": 20,
   "metadata": {},
   "outputs": [],
   "source": [
    "df_train_weekly = generate_weekly(df_train, datetime(2000,1,7))\n",
    "df_test_weekly = generate_weekly(df_test, datetime(2015,1,2))"
   ]
  },
  {
   "cell_type": "code",
   "execution_count": 21,
   "metadata": {},
   "outputs": [],
   "source": [
    "df_train_weekly.to_csv(r'output\\/CompleteIndexesWeeklyTrain.csv', index = True)\n",
    "df_test_weekly.to_csv(r'output\\/CompleteIndexesWeeklyTest.csv', index = True)"
   ]
  },
  {
   "cell_type": "code",
   "execution_count": 22,
   "metadata": {},
   "outputs": [
    {
     "data": {
      "text/plain": [
       "(782, 22)"
      ]
     },
     "execution_count": 22,
     "metadata": {},
     "output_type": "execute_result"
    }
   ],
   "source": [
    "df_train_weekly.shape"
   ]
  },
  {
   "cell_type": "code",
   "execution_count": 23,
   "metadata": {},
   "outputs": [
    {
     "data": {
      "text/plain": [
       "(272, 22)"
      ]
     },
     "execution_count": 23,
     "metadata": {},
     "output_type": "execute_result"
    }
   ],
   "source": [
    "df_test_weekly.shape"
   ]
  },
  {
   "cell_type": "code",
   "execution_count": 24,
   "metadata": {},
   "outputs": [],
   "source": [
    "y = pd.read_csv('input/\\sp500_target_regimes.csv', parse_dates=True)\n",
    "y.index = y['date'].values\n",
    "y = y[['regime']]\n",
    "y = y['regime']=='BEAR'\n",
    "y = pd.DataFrame (y, columns = ['regime'])\n",
    "\n",
    "y_train = y.loc['2000-01-01':'2015-01-01']\n",
    "y_test = y.loc['2015-01-02':]"
   ]
  },
  {
   "cell_type": "code",
   "execution_count": 26,
   "metadata": {},
   "outputs": [
    {
     "data": {
      "text/plain": [
       "(782, 1)"
      ]
     },
     "execution_count": 26,
     "metadata": {},
     "output_type": "execute_result"
    }
   ],
   "source": [
    "y_train.shape"
   ]
  },
  {
   "cell_type": "code",
   "execution_count": 27,
   "metadata": {},
   "outputs": [
    {
     "data": {
      "text/plain": [
       "(272, 1)"
      ]
     },
     "execution_count": 27,
     "metadata": {},
     "output_type": "execute_result"
    }
   ],
   "source": [
    "y_test.shape"
   ]
  },
  {
   "cell_type": "code",
   "execution_count": null,
   "metadata": {},
   "outputs": [],
   "source": []
  }
 ],
 "metadata": {
  "kernelspec": {
   "display_name": "Mestrado",
   "language": "python",
   "name": "mestrado"
  },
  "language_info": {
   "codemirror_mode": {
    "name": "ipython",
    "version": 3
   },
   "file_extension": ".py",
   "mimetype": "text/x-python",
   "name": "python",
   "nbconvert_exporter": "python",
   "pygments_lexer": "ipython3",
   "version": "3.6.10"
  }
 },
 "nbformat": 4,
 "nbformat_minor": 2
}
