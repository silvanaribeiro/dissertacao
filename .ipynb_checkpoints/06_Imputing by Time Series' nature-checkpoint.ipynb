{
 "cells": [
  {
   "cell_type": "code",
   "execution_count": 1,
   "metadata": {},
   "outputs": [],
   "source": [
    "from imputationLibrary import forwardFilling, hotDeck, meanImputation, movingAverage, splineInterpolation, separate, randomSampleImputation\n",
    "from imputationLibrary.util import util\n",
    "import pandas as pd\n",
    "from datetime import datetime, timedelta\n",
    "import numpy as np"
   ]
  },
  {
   "cell_type": "code",
   "execution_count": 2,
   "metadata": {},
   "outputs": [],
   "source": [
    "INPUT = 'output/\\CompleteWeeklyIndexes'"
   ]
  },
  {
   "cell_type": "code",
   "execution_count": 47,
   "metadata": {},
   "outputs": [],
   "source": [
    "df = pd.read_csv(INPUT+'.csv', parse_dates=True, index_col=0)\n",
    "df_test = df.loc['2015-01-02':] #Selecting test data\n",
    "df_train = df.loc['2000-01-01':'2015-01-01'] #Selecting training data"
   ]
  },
  {
   "cell_type": "code",
   "execution_count": 48,
   "metadata": {},
   "outputs": [
    {
     "name": "stderr",
     "output_type": "stream",
     "text": [
      "C:\\Users\\silva\\AppData\\Roaming\\Python\\Python36\\site-packages\\sklearn\\preprocessing\\_data.py:174: UserWarning: Numerical issues were encountered when centering the data and might not be solved. Dataset may contain too large values. You may need to prescale your features.\n",
      "  warnings.warn(\"Numerical issues were encountered \"\n",
      "C:\\Users\\silva\\AppData\\Roaming\\Python\\Python36\\site-packages\\sklearn\\preprocessing\\_data.py:174: UserWarning: Numerical issues were encountered when centering the data and might not be solved. Dataset may contain too large values. You may need to prescale your features.\n",
      "  warnings.warn(\"Numerical issues were encountered \"\n",
      "C:\\Users\\silva\\AppData\\Roaming\\Python\\Python36\\site-packages\\sklearn\\preprocessing\\_data.py:174: UserWarning: Numerical issues were encountered when centering the data and might not be solved. Dataset may contain too large values. You may need to prescale your features.\n",
      "  warnings.warn(\"Numerical issues were encountered \"\n",
      "C:\\Users\\silva\\AppData\\Roaming\\Python\\Python36\\site-packages\\sklearn\\preprocessing\\_data.py:174: UserWarning: Numerical issues were encountered when centering the data and might not be solved. Dataset may contain too large values. You may need to prescale your features.\n",
      "  warnings.warn(\"Numerical issues were encountered \"\n",
      "C:\\Users\\silva\\AppData\\Roaming\\Python\\Python36\\site-packages\\sklearn\\preprocessing\\_data.py:174: UserWarning: Numerical issues were encountered when centering the data and might not be solved. Dataset may contain too large values. You may need to prescale your features.\n",
      "  warnings.warn(\"Numerical issues were encountered \"\n",
      "C:\\Users\\silva\\AppData\\Roaming\\Python\\Python36\\site-packages\\sklearn\\preprocessing\\_data.py:174: UserWarning: Numerical issues were encountered when centering the data and might not be solved. Dataset may contain too large values. You may need to prescale your features.\n",
      "  warnings.warn(\"Numerical issues were encountered \"\n",
      "C:\\Users\\silva\\AppData\\Roaming\\Python\\Python36\\site-packages\\sklearn\\preprocessing\\_data.py:174: UserWarning: Numerical issues were encountered when centering the data and might not be solved. Dataset may contain too large values. You may need to prescale your features.\n",
      "  warnings.warn(\"Numerical issues were encountered \"\n",
      "C:\\Users\\silva\\AppData\\Roaming\\Python\\Python36\\site-packages\\sklearn\\preprocessing\\_data.py:174: UserWarning: Numerical issues were encountered when centering the data and might not be solved. Dataset may contain too large values. You may need to prescale your features.\n",
      "  warnings.warn(\"Numerical issues were encountered \"\n",
      "C:\\Users\\silva\\AppData\\Roaming\\Python\\Python36\\site-packages\\sklearn\\preprocessing\\_data.py:174: UserWarning: Numerical issues were encountered when centering the data and might not be solved. Dataset may contain too large values. You may need to prescale your features.\n",
      "  warnings.warn(\"Numerical issues were encountered \"\n",
      "C:\\Users\\silva\\AppData\\Roaming\\Python\\Python36\\site-packages\\sklearn\\preprocessing\\_data.py:174: UserWarning: Numerical issues were encountered when centering the data and might not be solved. Dataset may contain too large values. You may need to prescale your features.\n",
      "  warnings.warn(\"Numerical issues were encountered \"\n",
      "C:\\Users\\silva\\AppData\\Roaming\\Python\\Python36\\site-packages\\sklearn\\preprocessing\\_data.py:174: UserWarning: Numerical issues were encountered when centering the data and might not be solved. Dataset may contain too large values. You may need to prescale your features.\n",
      "  warnings.warn(\"Numerical issues were encountered \"\n",
      "C:\\Users\\silva\\AppData\\Roaming\\Python\\Python36\\site-packages\\sklearn\\preprocessing\\_data.py:174: UserWarning: Numerical issues were encountered when centering the data and might not be solved. Dataset may contain too large values. You may need to prescale your features.\n",
      "  warnings.warn(\"Numerical issues were encountered \"\n",
      "C:\\Users\\silva\\AppData\\Roaming\\Python\\Python36\\site-packages\\sklearn\\preprocessing\\_data.py:174: UserWarning: Numerical issues were encountered when centering the data and might not be solved. Dataset may contain too large values. You may need to prescale your features.\n",
      "  warnings.warn(\"Numerical issues were encountered \"\n",
      "C:\\Users\\silva\\AppData\\Roaming\\Python\\Python36\\site-packages\\sklearn\\preprocessing\\_data.py:174: UserWarning: Numerical issues were encountered when centering the data and might not be solved. Dataset may contain too large values. You may need to prescale your features.\n",
      "  warnings.warn(\"Numerical issues were encountered \"\n",
      "C:\\Users\\silva\\AppData\\Roaming\\Python\\Python36\\site-packages\\sklearn\\preprocessing\\_data.py:174: UserWarning: Numerical issues were encountered when centering the data and might not be solved. Dataset may contain too large values. You may need to prescale your features.\n",
      "  warnings.warn(\"Numerical issues were encountered \"\n",
      "C:\\Users\\silva\\AppData\\Roaming\\Python\\Python36\\site-packages\\sklearn\\preprocessing\\_data.py:174: UserWarning: Numerical issues were encountered when centering the data and might not be solved. Dataset may contain too large values. You may need to prescale your features.\n",
      "  warnings.warn(\"Numerical issues were encountered \"\n",
      "C:\\Users\\silva\\AppData\\Roaming\\Python\\Python36\\site-packages\\sklearn\\preprocessing\\_data.py:174: UserWarning: Numerical issues were encountered when centering the data and might not be solved. Dataset may contain too large values. You may need to prescale your features.\n",
      "  warnings.warn(\"Numerical issues were encountered \"\n",
      "C:\\Users\\silva\\AppData\\Roaming\\Python\\Python36\\site-packages\\sklearn\\preprocessing\\_data.py:174: UserWarning: Numerical issues were encountered when centering the data and might not be solved. Dataset may contain too large values. You may need to prescale your features.\n",
      "  warnings.warn(\"Numerical issues were encountered \"\n",
      "C:\\Users\\silva\\AppData\\Roaming\\Python\\Python36\\site-packages\\sklearn\\preprocessing\\_data.py:174: UserWarning: Numerical issues were encountered when centering the data and might not be solved. Dataset may contain too large values. You may need to prescale your features.\n",
      "  warnings.warn(\"Numerical issues were encountered \"\n",
      "C:\\Users\\silva\\AppData\\Roaming\\Python\\Python36\\site-packages\\sklearn\\preprocessing\\_data.py:174: UserWarning: Numerical issues were encountered when centering the data and might not be solved. Dataset may contain too large values. You may need to prescale your features.\n",
      "  warnings.warn(\"Numerical issues were encountered \"\n",
      "C:\\Users\\silva\\AppData\\Roaming\\Python\\Python36\\site-packages\\sklearn\\preprocessing\\_data.py:174: UserWarning: Numerical issues were encountered when centering the data and might not be solved. Dataset may contain too large values. You may need to prescale your features.\n",
      "  warnings.warn(\"Numerical issues were encountered \"\n",
      "C:\\Users\\silva\\AppData\\Roaming\\Python\\Python36\\site-packages\\sklearn\\preprocessing\\_data.py:174: UserWarning: Numerical issues were encountered when centering the data and might not be solved. Dataset may contain too large values. You may need to prescale your features.\n",
      "  warnings.warn(\"Numerical issues were encountered \"\n",
      "C:\\Users\\silva\\AppData\\Roaming\\Python\\Python36\\site-packages\\sklearn\\preprocessing\\_data.py:174: UserWarning: Numerical issues were encountered when centering the data and might not be solved. Dataset may contain too large values. You may need to prescale your features.\n",
      "  warnings.warn(\"Numerical issues were encountered \"\n",
      "C:\\Users\\silva\\AppData\\Roaming\\Python\\Python36\\site-packages\\sklearn\\preprocessing\\_data.py:174: UserWarning: Numerical issues were encountered when centering the data and might not be solved. Dataset may contain too large values. You may need to prescale your features.\n",
      "  warnings.warn(\"Numerical issues were encountered \"\n"
     ]
    }
   ],
   "source": [
    "df_white_noise, df_seasonal, df_trended, df_trend_and_seasonal = separate.separate(df)"
   ]
  },
  {
   "cell_type": "code",
   "execution_count": 49,
   "metadata": {},
   "outputs": [
    {
     "data": {
      "text/plain": [
       "Index(['vix_Volume', 'infectious_daily_infect_emv_index',\n",
       "       'trade_US Trade Policy Uncertainty',\n",
       "       'trade_Japanese Trade Policy Uncertainty',\n",
       "       'trade_Trade Policy EMV Fraction'],\n",
       "      dtype='object')"
      ]
     },
     "execution_count": 49,
     "metadata": {},
     "output_type": "execute_result"
    }
   ],
   "source": [
    "# infectious_daily_infect_emv_index, trade_US Trade Policy Uncertainty\n",
    "df_white_noise.columns"
   ]
  },
  {
   "cell_type": "code",
   "execution_count": 50,
   "metadata": {},
   "outputs": [
    {
     "data": {
      "text/plain": [
       "Index([], dtype='object')"
      ]
     },
     "execution_count": 50,
     "metadata": {},
     "output_type": "execute_result"
    }
   ],
   "source": [
    "df_seasonal.columns"
   ]
  },
  {
   "cell_type": "code",
   "execution_count": 51,
   "metadata": {},
   "outputs": [
    {
     "data": {
      "text/plain": [
       "Index(['dji_Volume', 'ndx_Volume', 'n225_Volume', 'hsi_Close'], dtype='object')"
      ]
     },
     "execution_count": 51,
     "metadata": {},
     "output_type": "execute_result"
    }
   ],
   "source": [
    "# sp500_Close, sp500_Volume, vix_Close, vix_Volume, 'dji_Close', 'dji_Volume', 'ndx_Close',\n",
    "#       'ndx_Volume', 'n225_Close', 'n225_Volume', 'ftse_Close', 'ftse_Volume',\n",
    "#       'hsi_Close', 'hsi_Volume', 'n100_Close', 'n100_Volume','trade_Trade Policy EMV Fraction'\n",
    "df_trended.columns"
   ]
  },
  {
   "cell_type": "code",
   "execution_count": 52,
   "metadata": {},
   "outputs": [
    {
     "data": {
      "text/plain": [
       "Index(['sp500_Close', 'sp500_Volume', 'vix_Close', 'dji_Close', 'ndx_Close',\n",
       "       'n225_Close', 'ftse_Close', 'ftse_Volume', 'hsi_Volume', 'n100_Close',\n",
       "       'n100_Volume', 'Overall EMV Tracker', 'GPR'],\n",
       "      dtype='object')"
      ]
     },
     "execution_count": 52,
     "metadata": {},
     "output_type": "execute_result"
    }
   ],
   "source": [
    "# GPR, trade_Japanese Trade Policy Uncertainty, trade_US Trade Policy Uncertainty\n",
    "df_trend_and_seasonal.columns"
   ]
  },
  {
   "cell_type": "code",
   "execution_count": 53,
   "metadata": {},
   "outputs": [],
   "source": [
    "df_seasonal_train, df_seasonal_test = randomSampleImputation.input(df.loc['2000-01-01':'2015-01-01', df_seasonal.columns], df.loc['2015-01-02':, df_seasonal.columns], sliding_window_size = 0.03)"
   ]
  },
  {
   "cell_type": "code",
   "execution_count": 54,
   "metadata": {},
   "outputs": [],
   "source": [
    "df_white_noise_train, df_white_noise_test =  meanImputation.input(df.loc['2000-01-01':'2015-01-01', df_white_noise.columns], df.loc['2015-01-02':, df_white_noise.columns])"
   ]
  },
  {
   "cell_type": "code",
   "execution_count": 55,
   "metadata": {},
   "outputs": [],
   "source": [
    "df_trended_train, df_trended_test =  forwardFilling.input(df.loc['2000-01-01':'2015-01-01', df_trended.columns], df.loc['2015-01-02':, df_trended.columns])"
   ]
  },
  {
   "cell_type": "code",
   "execution_count": 56,
   "metadata": {},
   "outputs": [],
   "source": [
    "df_trend_and_seasonal_train, df_trend_and_seasonal_test =  splineInterpolation.input(df.loc['2000-01-01':'2015-01-01', df_trend_and_seasonal.columns], df.loc['2015-01-02':, df_trend_and_seasonal.columns])"
   ]
  },
  {
   "cell_type": "code",
   "execution_count": 57,
   "metadata": {},
   "outputs": [],
   "source": [
    "df_train = pd.concat([df_seasonal_train, df_white_noise_train, df_trended_train, df_trend_and_seasonal_train], axis=1, join='outer')"
   ]
  },
  {
   "cell_type": "code",
   "execution_count": 58,
   "metadata": {},
   "outputs": [],
   "source": [
    "df_test = pd.concat([df_seasonal_test, df_white_noise_test, df_trended_test, df_trend_and_seasonal_test], axis=1, join='outer')"
   ]
  },
  {
   "cell_type": "code",
   "execution_count": 59,
   "metadata": {},
   "outputs": [
    {
     "data": {
      "text/html": [
       "<div>\n",
       "<style scoped>\n",
       "    .dataframe tbody tr th:only-of-type {\n",
       "        vertical-align: middle;\n",
       "    }\n",
       "\n",
       "    .dataframe tbody tr th {\n",
       "        vertical-align: top;\n",
       "    }\n",
       "\n",
       "    .dataframe thead th {\n",
       "        text-align: right;\n",
       "    }\n",
       "</style>\n",
       "<table border=\"1\" class=\"dataframe\">\n",
       "  <thead>\n",
       "    <tr style=\"text-align: right;\">\n",
       "      <th></th>\n",
       "      <th>vix_Volume</th>\n",
       "      <th>infectious_daily_infect_emv_index</th>\n",
       "      <th>trade_US Trade Policy Uncertainty</th>\n",
       "      <th>trade_Japanese Trade Policy Uncertainty</th>\n",
       "      <th>trade_Trade Policy EMV Fraction</th>\n",
       "      <th>dji_Volume</th>\n",
       "      <th>ndx_Volume</th>\n",
       "      <th>n225_Volume</th>\n",
       "      <th>hsi_Close</th>\n",
       "      <th>sp500_Close</th>\n",
       "      <th>...</th>\n",
       "      <th>dji_Close</th>\n",
       "      <th>ndx_Close</th>\n",
       "      <th>n225_Close</th>\n",
       "      <th>ftse_Close</th>\n",
       "      <th>ftse_Volume</th>\n",
       "      <th>hsi_Volume</th>\n",
       "      <th>n100_Close</th>\n",
       "      <th>n100_Volume</th>\n",
       "      <th>Overall EMV Tracker</th>\n",
       "      <th>GPR</th>\n",
       "    </tr>\n",
       "  </thead>\n",
       "  <tbody>\n",
       "    <tr>\n",
       "      <th>2015-01-02</th>\n",
       "      <td>0.0</td>\n",
       "      <td>0.60</td>\n",
       "      <td>73.614479</td>\n",
       "      <td>110.105627</td>\n",
       "      <td>0.022047</td>\n",
       "      <td>76270000.0</td>\n",
       "      <td>1.435150e+09</td>\n",
       "      <td>86500.0</td>\n",
       "      <td>23721.300781</td>\n",
       "      <td>2058.199951</td>\n",
       "      <td>...</td>\n",
       "      <td>17832.990234</td>\n",
       "      <td>4230.240234</td>\n",
       "      <td>16151.887114</td>\n",
       "      <td>6547.799805</td>\n",
       "      <td>367562200.0</td>\n",
       "      <td>1.801713e+09</td>\n",
       "      <td>835.969971</td>\n",
       "      <td>333050000.0</td>\n",
       "      <td>-5.550677</td>\n",
       "      <td>620.282430</td>\n",
       "    </tr>\n",
       "    <tr>\n",
       "      <th>2015-01-09</th>\n",
       "      <td>0.0</td>\n",
       "      <td>0.91</td>\n",
       "      <td>73.614479</td>\n",
       "      <td>110.105627</td>\n",
       "      <td>0.022047</td>\n",
       "      <td>93390000.0</td>\n",
       "      <td>1.715830e+09</td>\n",
       "      <td>155200.0</td>\n",
       "      <td>23919.949219</td>\n",
       "      <td>2044.810059</td>\n",
       "      <td>...</td>\n",
       "      <td>17737.369141</td>\n",
       "      <td>4213.279785</td>\n",
       "      <td>17197.730469</td>\n",
       "      <td>6501.100098</td>\n",
       "      <td>738488500.0</td>\n",
       "      <td>2.334810e+09</td>\n",
       "      <td>824.390015</td>\n",
       "      <td>499788100.0</td>\n",
       "      <td>-10.422868</td>\n",
       "      <td>648.156060</td>\n",
       "    </tr>\n",
       "    <tr>\n",
       "      <th>2015-01-16</th>\n",
       "      <td>0.0</td>\n",
       "      <td>0.00</td>\n",
       "      <td>73.614479</td>\n",
       "      <td>110.105627</td>\n",
       "      <td>0.022047</td>\n",
       "      <td>140480000.0</td>\n",
       "      <td>1.970520e+09</td>\n",
       "      <td>171100.0</td>\n",
       "      <td>24103.519531</td>\n",
       "      <td>2019.420044</td>\n",
       "      <td>...</td>\n",
       "      <td>17511.570313</td>\n",
       "      <td>4142.140137</td>\n",
       "      <td>16864.160156</td>\n",
       "      <td>6550.299805</td>\n",
       "      <td>805741900.0</td>\n",
       "      <td>1.716810e+09</td>\n",
       "      <td>862.820007</td>\n",
       "      <td>592856800.0</td>\n",
       "      <td>-15.645810</td>\n",
       "      <td>676.895372</td>\n",
       "    </tr>\n",
       "    <tr>\n",
       "      <th>2015-01-23</th>\n",
       "      <td>0.0</td>\n",
       "      <td>0.00</td>\n",
       "      <td>73.614479</td>\n",
       "      <td>110.105627</td>\n",
       "      <td>0.022047</td>\n",
       "      <td>97110000.0</td>\n",
       "      <td>1.653830e+09</td>\n",
       "      <td>132500.0</td>\n",
       "      <td>24850.449219</td>\n",
       "      <td>2051.820068</td>\n",
       "      <td>...</td>\n",
       "      <td>17672.599609</td>\n",
       "      <td>4278.140137</td>\n",
       "      <td>17511.750000</td>\n",
       "      <td>6832.799805</td>\n",
       "      <td>839368300.0</td>\n",
       "      <td>2.375624e+09</td>\n",
       "      <td>911.729980</td>\n",
       "      <td>804870700.0</td>\n",
       "      <td>-21.229384</td>\n",
       "      <td>706.512843</td>\n",
       "    </tr>\n",
       "    <tr>\n",
       "      <th>2015-01-30</th>\n",
       "      <td>0.0</td>\n",
       "      <td>0.00</td>\n",
       "      <td>73.614479</td>\n",
       "      <td>110.105627</td>\n",
       "      <td>0.022047</td>\n",
       "      <td>168560000.0</td>\n",
       "      <td>2.264230e+09</td>\n",
       "      <td>173500.0</td>\n",
       "      <td>24507.050781</td>\n",
       "      <td>1994.989990</td>\n",
       "      <td>...</td>\n",
       "      <td>17164.949219</td>\n",
       "      <td>4148.430176</td>\n",
       "      <td>17674.390625</td>\n",
       "      <td>6749.399902</td>\n",
       "      <td>799357300.0</td>\n",
       "      <td>1.438942e+09</td>\n",
       "      <td>906.280029</td>\n",
       "      <td>545062800.0</td>\n",
       "      <td>-27.183476</td>\n",
       "      <td>737.020951</td>\n",
       "    </tr>\n",
       "  </tbody>\n",
       "</table>\n",
       "<p>5 rows × 22 columns</p>\n",
       "</div>"
      ],
      "text/plain": [
       "            vix_Volume  infectious_daily_infect_emv_index  \\\n",
       "2015-01-02         0.0                               0.60   \n",
       "2015-01-09         0.0                               0.91   \n",
       "2015-01-16         0.0                               0.00   \n",
       "2015-01-23         0.0                               0.00   \n",
       "2015-01-30         0.0                               0.00   \n",
       "\n",
       "            trade_US Trade Policy Uncertainty  \\\n",
       "2015-01-02                          73.614479   \n",
       "2015-01-09                          73.614479   \n",
       "2015-01-16                          73.614479   \n",
       "2015-01-23                          73.614479   \n",
       "2015-01-30                          73.614479   \n",
       "\n",
       "            trade_Japanese Trade Policy Uncertainty  \\\n",
       "2015-01-02                               110.105627   \n",
       "2015-01-09                               110.105627   \n",
       "2015-01-16                               110.105627   \n",
       "2015-01-23                               110.105627   \n",
       "2015-01-30                               110.105627   \n",
       "\n",
       "            trade_Trade Policy EMV Fraction   dji_Volume    ndx_Volume  \\\n",
       "2015-01-02                         0.022047   76270000.0  1.435150e+09   \n",
       "2015-01-09                         0.022047   93390000.0  1.715830e+09   \n",
       "2015-01-16                         0.022047  140480000.0  1.970520e+09   \n",
       "2015-01-23                         0.022047   97110000.0  1.653830e+09   \n",
       "2015-01-30                         0.022047  168560000.0  2.264230e+09   \n",
       "\n",
       "            n225_Volume     hsi_Close  sp500_Close  ...     dji_Close  \\\n",
       "2015-01-02      86500.0  23721.300781  2058.199951  ...  17832.990234   \n",
       "2015-01-09     155200.0  23919.949219  2044.810059  ...  17737.369141   \n",
       "2015-01-16     171100.0  24103.519531  2019.420044  ...  17511.570313   \n",
       "2015-01-23     132500.0  24850.449219  2051.820068  ...  17672.599609   \n",
       "2015-01-30     173500.0  24507.050781  1994.989990  ...  17164.949219   \n",
       "\n",
       "              ndx_Close    n225_Close   ftse_Close  ftse_Volume    hsi_Volume  \\\n",
       "2015-01-02  4230.240234  16151.887114  6547.799805  367562200.0  1.801713e+09   \n",
       "2015-01-09  4213.279785  17197.730469  6501.100098  738488500.0  2.334810e+09   \n",
       "2015-01-16  4142.140137  16864.160156  6550.299805  805741900.0  1.716810e+09   \n",
       "2015-01-23  4278.140137  17511.750000  6832.799805  839368300.0  2.375624e+09   \n",
       "2015-01-30  4148.430176  17674.390625  6749.399902  799357300.0  1.438942e+09   \n",
       "\n",
       "            n100_Close  n100_Volume  Overall EMV Tracker         GPR  \n",
       "2015-01-02  835.969971  333050000.0            -5.550677  620.282430  \n",
       "2015-01-09  824.390015  499788100.0           -10.422868  648.156060  \n",
       "2015-01-16  862.820007  592856800.0           -15.645810  676.895372  \n",
       "2015-01-23  911.729980  804870700.0           -21.229384  706.512843  \n",
       "2015-01-30  906.280029  545062800.0           -27.183476  737.020951  \n",
       "\n",
       "[5 rows x 22 columns]"
      ]
     },
     "execution_count": 59,
     "metadata": {},
     "output_type": "execute_result"
    }
   ],
   "source": [
    "df_test.head()"
   ]
  },
  {
   "cell_type": "code",
   "execution_count": 60,
   "metadata": {},
   "outputs": [
    {
     "data": {
      "text/html": [
       "<div>\n",
       "<style scoped>\n",
       "    .dataframe tbody tr th:only-of-type {\n",
       "        vertical-align: middle;\n",
       "    }\n",
       "\n",
       "    .dataframe tbody tr th {\n",
       "        vertical-align: top;\n",
       "    }\n",
       "\n",
       "    .dataframe thead th {\n",
       "        text-align: right;\n",
       "    }\n",
       "</style>\n",
       "<table border=\"1\" class=\"dataframe\">\n",
       "  <thead>\n",
       "    <tr style=\"text-align: right;\">\n",
       "      <th></th>\n",
       "      <th>vix_Volume</th>\n",
       "      <th>infectious_daily_infect_emv_index</th>\n",
       "      <th>trade_US Trade Policy Uncertainty</th>\n",
       "      <th>trade_Japanese Trade Policy Uncertainty</th>\n",
       "      <th>trade_Trade Policy EMV Fraction</th>\n",
       "      <th>dji_Volume</th>\n",
       "      <th>ndx_Volume</th>\n",
       "      <th>n225_Volume</th>\n",
       "      <th>hsi_Close</th>\n",
       "      <th>sp500_Close</th>\n",
       "      <th>...</th>\n",
       "      <th>dji_Close</th>\n",
       "      <th>ndx_Close</th>\n",
       "      <th>n225_Close</th>\n",
       "      <th>ftse_Close</th>\n",
       "      <th>ftse_Volume</th>\n",
       "      <th>hsi_Volume</th>\n",
       "      <th>n100_Close</th>\n",
       "      <th>n100_Volume</th>\n",
       "      <th>Overall EMV Tracker</th>\n",
       "      <th>GPR</th>\n",
       "    </tr>\n",
       "  </thead>\n",
       "  <tbody>\n",
       "    <tr>\n",
       "      <th>2014-11-28</th>\n",
       "      <td>0.0</td>\n",
       "      <td>0.00</td>\n",
       "      <td>22.607562</td>\n",
       "      <td>65.974280</td>\n",
       "      <td>0.013889</td>\n",
       "      <td>80470000.0</td>\n",
       "      <td>9.986000e+08</td>\n",
       "      <td>149100.0</td>\n",
       "      <td>23987.449219</td>\n",
       "      <td>2067.560059</td>\n",
       "      <td>...</td>\n",
       "      <td>17828.240234</td>\n",
       "      <td>4337.790039</td>\n",
       "      <td>17459.849609</td>\n",
       "      <td>6722.600098</td>\n",
       "      <td>8.393905e+08</td>\n",
       "      <td>3.154787e+09</td>\n",
       "      <td>850.539978</td>\n",
       "      <td>3.915370e+08</td>\n",
       "      <td>13.894961</td>\n",
       "      <td>493.462767</td>\n",
       "    </tr>\n",
       "    <tr>\n",
       "      <th>2014-12-05</th>\n",
       "      <td>0.0</td>\n",
       "      <td>0.00</td>\n",
       "      <td>73.614479</td>\n",
       "      <td>110.105627</td>\n",
       "      <td>0.022047</td>\n",
       "      <td>79110000.0</td>\n",
       "      <td>1.767100e+09</td>\n",
       "      <td>128900.0</td>\n",
       "      <td>24002.640625</td>\n",
       "      <td>2075.370117</td>\n",
       "      <td>...</td>\n",
       "      <td>17958.789063</td>\n",
       "      <td>4311.569824</td>\n",
       "      <td>17920.449219</td>\n",
       "      <td>6742.799805</td>\n",
       "      <td>6.784647e+08</td>\n",
       "      <td>5.025801e+09</td>\n",
       "      <td>860.190002</td>\n",
       "      <td>4.657844e+08</td>\n",
       "      <td>10.628264</td>\n",
       "      <td>517.195161</td>\n",
       "    </tr>\n",
       "    <tr>\n",
       "      <th>2014-12-12</th>\n",
       "      <td>0.0</td>\n",
       "      <td>0.47</td>\n",
       "      <td>73.614479</td>\n",
       "      <td>110.105627</td>\n",
       "      <td>0.022047</td>\n",
       "      <td>121950000.0</td>\n",
       "      <td>1.888870e+09</td>\n",
       "      <td>214500.0</td>\n",
       "      <td>23249.199219</td>\n",
       "      <td>2002.329956</td>\n",
       "      <td>...</td>\n",
       "      <td>17280.830078</td>\n",
       "      <td>4199.279785</td>\n",
       "      <td>17371.580078</td>\n",
       "      <td>6300.600098</td>\n",
       "      <td>7.939665e+08</td>\n",
       "      <td>1.641040e+09</td>\n",
       "      <td>805.429993</td>\n",
       "      <td>4.454517e+08</td>\n",
       "      <td>7.060235</td>\n",
       "      <td>541.730846</td>\n",
       "    </tr>\n",
       "    <tr>\n",
       "      <th>2014-12-19</th>\n",
       "      <td>0.0</td>\n",
       "      <td>0.94</td>\n",
       "      <td>73.614479</td>\n",
       "      <td>110.105627</td>\n",
       "      <td>0.022047</td>\n",
       "      <td>343690000.0</td>\n",
       "      <td>3.287920e+09</td>\n",
       "      <td>175800.0</td>\n",
       "      <td>23116.630859</td>\n",
       "      <td>2070.649902</td>\n",
       "      <td>...</td>\n",
       "      <td>17804.800781</td>\n",
       "      <td>4281.779785</td>\n",
       "      <td>17621.400391</td>\n",
       "      <td>6545.299805</td>\n",
       "      <td>1.144608e+09</td>\n",
       "      <td>2.309125e+09</td>\n",
       "      <td>831.929993</td>\n",
       "      <td>8.499287e+08</td>\n",
       "      <td>3.180991</td>\n",
       "      <td>567.082301</td>\n",
       "    </tr>\n",
       "    <tr>\n",
       "      <th>2014-12-26</th>\n",
       "      <td>0.0</td>\n",
       "      <td>2.55</td>\n",
       "      <td>73.614479</td>\n",
       "      <td>110.105627</td>\n",
       "      <td>0.022047</td>\n",
       "      <td>52570000.0</td>\n",
       "      <td>9.302200e+08</td>\n",
       "      <td>86500.0</td>\n",
       "      <td>23116.630859</td>\n",
       "      <td>2088.770020</td>\n",
       "      <td>...</td>\n",
       "      <td>18053.710938</td>\n",
       "      <td>4314.089844</td>\n",
       "      <td>17818.960938</td>\n",
       "      <td>9125.872582</td>\n",
       "      <td>1.551044e+09</td>\n",
       "      <td>2.053229e+10</td>\n",
       "      <td>1149.368491</td>\n",
       "      <td>2.583637e+09</td>\n",
       "      <td>-1.019352</td>\n",
       "      <td>593.262003</td>\n",
       "    </tr>\n",
       "  </tbody>\n",
       "</table>\n",
       "<p>5 rows × 22 columns</p>\n",
       "</div>"
      ],
      "text/plain": [
       "            vix_Volume  infectious_daily_infect_emv_index  \\\n",
       "2014-11-28         0.0                               0.00   \n",
       "2014-12-05         0.0                               0.00   \n",
       "2014-12-12         0.0                               0.47   \n",
       "2014-12-19         0.0                               0.94   \n",
       "2014-12-26         0.0                               2.55   \n",
       "\n",
       "            trade_US Trade Policy Uncertainty  \\\n",
       "2014-11-28                          22.607562   \n",
       "2014-12-05                          73.614479   \n",
       "2014-12-12                          73.614479   \n",
       "2014-12-19                          73.614479   \n",
       "2014-12-26                          73.614479   \n",
       "\n",
       "            trade_Japanese Trade Policy Uncertainty  \\\n",
       "2014-11-28                                65.974280   \n",
       "2014-12-05                               110.105627   \n",
       "2014-12-12                               110.105627   \n",
       "2014-12-19                               110.105627   \n",
       "2014-12-26                               110.105627   \n",
       "\n",
       "            trade_Trade Policy EMV Fraction   dji_Volume    ndx_Volume  \\\n",
       "2014-11-28                         0.013889   80470000.0  9.986000e+08   \n",
       "2014-12-05                         0.022047   79110000.0  1.767100e+09   \n",
       "2014-12-12                         0.022047  121950000.0  1.888870e+09   \n",
       "2014-12-19                         0.022047  343690000.0  3.287920e+09   \n",
       "2014-12-26                         0.022047   52570000.0  9.302200e+08   \n",
       "\n",
       "            n225_Volume     hsi_Close  sp500_Close  ...     dji_Close  \\\n",
       "2014-11-28     149100.0  23987.449219  2067.560059  ...  17828.240234   \n",
       "2014-12-05     128900.0  24002.640625  2075.370117  ...  17958.789063   \n",
       "2014-12-12     214500.0  23249.199219  2002.329956  ...  17280.830078   \n",
       "2014-12-19     175800.0  23116.630859  2070.649902  ...  17804.800781   \n",
       "2014-12-26      86500.0  23116.630859  2088.770020  ...  18053.710938   \n",
       "\n",
       "              ndx_Close    n225_Close   ftse_Close   ftse_Volume  \\\n",
       "2014-11-28  4337.790039  17459.849609  6722.600098  8.393905e+08   \n",
       "2014-12-05  4311.569824  17920.449219  6742.799805  6.784647e+08   \n",
       "2014-12-12  4199.279785  17371.580078  6300.600098  7.939665e+08   \n",
       "2014-12-19  4281.779785  17621.400391  6545.299805  1.144608e+09   \n",
       "2014-12-26  4314.089844  17818.960938  9125.872582  1.551044e+09   \n",
       "\n",
       "              hsi_Volume   n100_Close   n100_Volume  Overall EMV Tracker  \\\n",
       "2014-11-28  3.154787e+09   850.539978  3.915370e+08            13.894961   \n",
       "2014-12-05  5.025801e+09   860.190002  4.657844e+08            10.628264   \n",
       "2014-12-12  1.641040e+09   805.429993  4.454517e+08             7.060235   \n",
       "2014-12-19  2.309125e+09   831.929993  8.499287e+08             3.180991   \n",
       "2014-12-26  2.053229e+10  1149.368491  2.583637e+09            -1.019352   \n",
       "\n",
       "                   GPR  \n",
       "2014-11-28  493.462767  \n",
       "2014-12-05  517.195161  \n",
       "2014-12-12  541.730846  \n",
       "2014-12-19  567.082301  \n",
       "2014-12-26  593.262003  \n",
       "\n",
       "[5 rows x 22 columns]"
      ]
     },
     "execution_count": 60,
     "metadata": {},
     "output_type": "execute_result"
    }
   ],
   "source": [
    "df_train.tail()"
   ]
  },
  {
   "cell_type": "code",
   "execution_count": 61,
   "metadata": {},
   "outputs": [],
   "source": [
    "df_train.to_csv(r'output\\/CompleteIndexesTrain.csv', index = True)"
   ]
  },
  {
   "cell_type": "code",
   "execution_count": 62,
   "metadata": {},
   "outputs": [],
   "source": [
    "df_test.to_csv(r'output\\/CompleteIndexesTest.csv', index = True)"
   ]
  },
  {
   "cell_type": "code",
   "execution_count": 63,
   "metadata": {},
   "outputs": [],
   "source": [
    "# Subsample para weekly\n",
    "\n",
    "# Generating weekly sampled dataset\n",
    "def generate_weekly(df, initial_friday):\n",
    "    df_friday = initial_friday #datetime(2000,1,7)\n",
    "\n",
    "    df_weekly = pd.DataFrame(columns = df.columns)\n",
    "    \n",
    "    while df_friday <= df.tail(1).index:\n",
    "        df_weekly = df_weekly.append(df.loc[df_friday])\n",
    "        df_friday+=timedelta(days=7)\n",
    "    return df_weekly"
   ]
  },
  {
   "cell_type": "code",
   "execution_count": 64,
   "metadata": {},
   "outputs": [],
   "source": [
    "df_train_weekly = generate_weekly(df_train, datetime(2000,1,7))\n",
    "df_test_weekly = generate_weekly(df_test, datetime(2015,1,2))"
   ]
  },
  {
   "cell_type": "code",
   "execution_count": 65,
   "metadata": {},
   "outputs": [],
   "source": [
    "df_train.to_csv(r'output\\/CompleteIndexesWeeklyTrain.csv', index = True)\n",
    "df_test.to_csv(r'output\\/CompleteIndexesWeeklyTest.csv', index = True)"
   ]
  },
  {
   "cell_type": "code",
   "execution_count": 66,
   "metadata": {},
   "outputs": [
    {
     "data": {
      "text/plain": [
       "(782, 22)"
      ]
     },
     "execution_count": 66,
     "metadata": {},
     "output_type": "execute_result"
    }
   ],
   "source": [
    "df_train_weekly.shape"
   ]
  },
  {
   "cell_type": "code",
   "execution_count": 67,
   "metadata": {},
   "outputs": [
    {
     "data": {
      "text/plain": [
       "(272, 22)"
      ]
     },
     "execution_count": 67,
     "metadata": {},
     "output_type": "execute_result"
    }
   ],
   "source": [
    "df_test_weekly.shape"
   ]
  },
  {
   "cell_type": "code",
   "execution_count": 68,
   "metadata": {},
   "outputs": [],
   "source": [
    "y = pd.read_csv('input/\\sp500_target_regimes.csv', parse_dates=True)\n",
    "y.index = y['date'].values\n",
    "y = y[['regime']]\n",
    "y = y['regime']=='BEAR'\n",
    "y = pd.DataFrame (y, columns = ['regime'])\n",
    "\n",
    "y_train = y.loc['2000-01-01':'2015-01-01']\n",
    "y_test = y.loc['2015-01-02':]"
   ]
  },
  {
   "cell_type": "code",
   "execution_count": null,
   "metadata": {},
   "outputs": [],
   "source": []
  }
 ],
 "metadata": {
  "kernelspec": {
   "display_name": "Python (py36)",
   "language": "python",
   "name": "py36"
  },
  "language_info": {
   "codemirror_mode": {
    "name": "ipython",
    "version": 3
   },
   "file_extension": ".py",
   "mimetype": "text/x-python",
   "name": "python",
   "nbconvert_exporter": "python",
   "pygments_lexer": "ipython3",
   "version": "3.6.4"
  }
 },
 "nbformat": 4,
 "nbformat_minor": 2
}
