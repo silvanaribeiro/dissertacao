{
 "cells": [
  {
   "cell_type": "code",
   "execution_count": 1,
   "metadata": {},
   "outputs": [],
   "source": [
    "from imputationLibrary import forwardFilling, hotDeck, meanImputation, movingAverage, splineInterpolation, separate, randomSampleImputation\n",
    "from imputationLibrary.util import util\n",
    "import pandas as pd\n",
    "from datetime import datetime, timedelta\n",
    "import numpy as np\n",
    "from tsmoothie.smoother import *\n",
    "import matplotlib.pyplot as plt"
   ]
  },
  {
   "cell_type": "code",
   "execution_count": 2,
   "metadata": {},
   "outputs": [],
   "source": [
    "INPUT = 'output/\\CompleteWeeklyIndexes'"
   ]
  },
  {
   "cell_type": "code",
   "execution_count": 3,
   "metadata": {},
   "outputs": [],
   "source": [
    "df = pd.read_csv(INPUT+'.csv', parse_dates=True, index_col=0)\n",
    "df_test = df.loc['2015-01-02':] #Selecting test data\n",
    "df_train = df.loc['2000-01-01':'2015-01-01'] #Selecting training data"
   ]
  },
  {
   "cell_type": "code",
   "execution_count": 4,
   "metadata": {},
   "outputs": [],
   "source": [
    "# Subsample para weekly\n",
    "\n",
    "# Generating weekly sampled dataset\n",
    "def generate_weekly(df, initial_friday):\n",
    "    df_friday = initial_friday #datetime(2000,1,7)\n",
    "\n",
    "    df_weekly = pd.DataFrame(columns = df.columns)\n",
    "    \n",
    "    while df_friday <= df.tail(1).index:\n",
    "        df_weekly = df_weekly.append(df.loc[df_friday])\n",
    "        df_friday+=timedelta(days=7)\n",
    "    return df_weekly"
   ]
  },
  {
   "cell_type": "code",
   "execution_count": 6,
   "metadata": {},
   "outputs": [
    {
     "name": "stderr",
     "output_type": "stream",
     "text": [
      "C:\\Users\\silva\\Anaconda3\\envs\\mestrado\\lib\\site-packages\\numpy\\core\\fromnumeric.py:58: FutureWarning: Series.nonzero() is deprecated and will be removed in a future version.Use Series.to_numpy().nonzero() instead\n",
      "  return bound(*args, **kwds)\n",
      "C:\\Users\\silva\\Anaconda3\\envs\\mestrado\\lib\\site-packages\\numpy\\core\\fromnumeric.py:58: FutureWarning: Series.nonzero() is deprecated and will be removed in a future version.Use Series.to_numpy().nonzero() instead\n",
      "  return bound(*args, **kwds)\n",
      "C:\\Users\\silva\\Anaconda3\\envs\\mestrado\\lib\\site-packages\\numpy\\core\\fromnumeric.py:58: FutureWarning: Series.nonzero() is deprecated and will be removed in a future version.Use Series.to_numpy().nonzero() instead\n",
      "  return bound(*args, **kwds)\n",
      "C:\\Users\\silva\\Anaconda3\\envs\\mestrado\\lib\\site-packages\\numpy\\core\\fromnumeric.py:58: FutureWarning: Series.nonzero() is deprecated and will be removed in a future version.Use Series.to_numpy().nonzero() instead\n",
      "  return bound(*args, **kwds)\n",
      "C:\\Users\\silva\\Anaconda3\\envs\\mestrado\\lib\\site-packages\\numpy\\core\\fromnumeric.py:58: FutureWarning: Series.nonzero() is deprecated and will be removed in a future version.Use Series.to_numpy().nonzero() instead\n",
      "  return bound(*args, **kwds)\n",
      "C:\\Users\\silva\\Anaconda3\\envs\\mestrado\\lib\\site-packages\\numpy\\core\\fromnumeric.py:58: FutureWarning: Series.nonzero() is deprecated and will be removed in a future version.Use Series.to_numpy().nonzero() instead\n",
      "  return bound(*args, **kwds)\n",
      "C:\\Users\\silva\\Anaconda3\\envs\\mestrado\\lib\\site-packages\\numpy\\core\\fromnumeric.py:58: FutureWarning: Series.nonzero() is deprecated and will be removed in a future version.Use Series.to_numpy().nonzero() instead\n",
      "  return bound(*args, **kwds)\n",
      "C:\\Users\\silva\\Anaconda3\\envs\\mestrado\\lib\\site-packages\\numpy\\core\\fromnumeric.py:58: FutureWarning: Series.nonzero() is deprecated and will be removed in a future version.Use Series.to_numpy().nonzero() instead\n",
      "  return bound(*args, **kwds)\n",
      "C:\\Users\\silva\\Anaconda3\\envs\\mestrado\\lib\\site-packages\\numpy\\core\\fromnumeric.py:58: FutureWarning: Series.nonzero() is deprecated and will be removed in a future version.Use Series.to_numpy().nonzero() instead\n",
      "  return bound(*args, **kwds)\n",
      "C:\\Users\\silva\\Anaconda3\\envs\\mestrado\\lib\\site-packages\\numpy\\core\\fromnumeric.py:58: FutureWarning: Series.nonzero() is deprecated and will be removed in a future version.Use Series.to_numpy().nonzero() instead\n",
      "  return bound(*args, **kwds)\n",
      "C:\\Users\\silva\\Anaconda3\\envs\\mestrado\\lib\\site-packages\\numpy\\core\\fromnumeric.py:58: FutureWarning: Series.nonzero() is deprecated and will be removed in a future version.Use Series.to_numpy().nonzero() instead\n",
      "  return bound(*args, **kwds)\n",
      "C:\\Users\\silva\\Anaconda3\\envs\\mestrado\\lib\\site-packages\\numpy\\core\\fromnumeric.py:58: FutureWarning: Series.nonzero() is deprecated and will be removed in a future version.Use Series.to_numpy().nonzero() instead\n",
      "  return bound(*args, **kwds)\n",
      "C:\\Users\\silva\\Anaconda3\\envs\\mestrado\\lib\\site-packages\\numpy\\core\\fromnumeric.py:58: FutureWarning: Series.nonzero() is deprecated and will be removed in a future version.Use Series.to_numpy().nonzero() instead\n",
      "  return bound(*args, **kwds)\n",
      "C:\\Users\\silva\\Anaconda3\\envs\\mestrado\\lib\\site-packages\\numpy\\core\\fromnumeric.py:58: FutureWarning: Series.nonzero() is deprecated and will be removed in a future version.Use Series.to_numpy().nonzero() instead\n",
      "  return bound(*args, **kwds)\n",
      "C:\\Users\\silva\\Anaconda3\\envs\\mestrado\\lib\\site-packages\\numpy\\core\\fromnumeric.py:58: FutureWarning: Series.nonzero() is deprecated and will be removed in a future version.Use Series.to_numpy().nonzero() instead\n",
      "  return bound(*args, **kwds)\n",
      "C:\\Users\\silva\\Anaconda3\\envs\\mestrado\\lib\\site-packages\\numpy\\core\\fromnumeric.py:58: FutureWarning: Series.nonzero() is deprecated and will be removed in a future version.Use Series.to_numpy().nonzero() instead\n",
      "  return bound(*args, **kwds)\n",
      "C:\\Users\\silva\\Anaconda3\\envs\\mestrado\\lib\\site-packages\\numpy\\core\\fromnumeric.py:58: FutureWarning: Series.nonzero() is deprecated and will be removed in a future version.Use Series.to_numpy().nonzero() instead\n",
      "  return bound(*args, **kwds)\n",
      "C:\\Users\\silva\\Anaconda3\\envs\\mestrado\\lib\\site-packages\\numpy\\core\\fromnumeric.py:58: FutureWarning: Series.nonzero() is deprecated and will be removed in a future version.Use Series.to_numpy().nonzero() instead\n",
      "  return bound(*args, **kwds)\n",
      "C:\\Users\\silva\\Anaconda3\\envs\\mestrado\\lib\\site-packages\\numpy\\core\\fromnumeric.py:58: FutureWarning: Series.nonzero() is deprecated and will be removed in a future version.Use Series.to_numpy().nonzero() instead\n",
      "  return bound(*args, **kwds)\n",
      "C:\\Users\\silva\\Anaconda3\\envs\\mestrado\\lib\\site-packages\\numpy\\core\\fromnumeric.py:58: FutureWarning: Series.nonzero() is deprecated and will be removed in a future version.Use Series.to_numpy().nonzero() instead\n",
      "  return bound(*args, **kwds)\n",
      "C:\\Users\\silva\\Anaconda3\\envs\\mestrado\\lib\\site-packages\\numpy\\core\\fromnumeric.py:58: FutureWarning: Series.nonzero() is deprecated and will be removed in a future version.Use Series.to_numpy().nonzero() instead\n",
      "  return bound(*args, **kwds)\n",
      "C:\\Users\\silva\\Anaconda3\\envs\\mestrado\\lib\\site-packages\\numpy\\core\\fromnumeric.py:58: FutureWarning: Series.nonzero() is deprecated and will be removed in a future version.Use Series.to_numpy().nonzero() instead\n",
      "  return bound(*args, **kwds)\n",
      "C:\\Users\\silva\\Anaconda3\\envs\\mestrado\\lib\\site-packages\\numpy\\core\\fromnumeric.py:58: FutureWarning: Series.nonzero() is deprecated and will be removed in a future version.Use Series.to_numpy().nonzero() instead\n",
      "  return bound(*args, **kwds)\n",
      "C:\\Users\\silva\\Anaconda3\\envs\\mestrado\\lib\\site-packages\\numpy\\core\\fromnumeric.py:58: FutureWarning: Series.nonzero() is deprecated and will be removed in a future version.Use Series.to_numpy().nonzero() instead\n",
      "  return bound(*args, **kwds)\n",
      "C:\\Users\\silva\\Anaconda3\\envs\\mestrado\\lib\\site-packages\\numpy\\core\\fromnumeric.py:58: FutureWarning: Series.nonzero() is deprecated and will be removed in a future version.Use Series.to_numpy().nonzero() instead\n",
      "  return bound(*args, **kwds)\n",
      "C:\\Users\\silva\\Anaconda3\\envs\\mestrado\\lib\\site-packages\\numpy\\core\\fromnumeric.py:58: FutureWarning: Series.nonzero() is deprecated and will be removed in a future version.Use Series.to_numpy().nonzero() instead\n",
      "  return bound(*args, **kwds)\n",
      "C:\\Users\\silva\\Anaconda3\\envs\\mestrado\\lib\\site-packages\\numpy\\core\\fromnumeric.py:58: FutureWarning: Series.nonzero() is deprecated and will be removed in a future version.Use Series.to_numpy().nonzero() instead\n",
      "  return bound(*args, **kwds)\n",
      "C:\\Users\\silva\\Anaconda3\\envs\\mestrado\\lib\\site-packages\\numpy\\core\\fromnumeric.py:58: FutureWarning: Series.nonzero() is deprecated and will be removed in a future version.Use Series.to_numpy().nonzero() instead\n",
      "  return bound(*args, **kwds)\n",
      "C:\\Users\\silva\\Anaconda3\\envs\\mestrado\\lib\\site-packages\\numpy\\core\\fromnumeric.py:58: FutureWarning: Series.nonzero() is deprecated and will be removed in a future version.Use Series.to_numpy().nonzero() instead\n",
      "  return bound(*args, **kwds)\n",
      "C:\\Users\\silva\\Anaconda3\\envs\\mestrado\\lib\\site-packages\\numpy\\core\\fromnumeric.py:58: FutureWarning: Series.nonzero() is deprecated and will be removed in a future version.Use Series.to_numpy().nonzero() instead\n",
      "  return bound(*args, **kwds)\n"
     ]
    }
   ],
   "source": [
    "for i in range(0,30):\n",
    "    df_white_noise, df_seasonal, df_trended, df_trend_and_seasonal = separate.separate(df_train)\n",
    "    df_seasonal_train, df_seasonal_test = randomSampleImputation.input(df.loc['2000-01-01':'2015-01-01', df_seasonal.columns], df.loc['2015-01-02':, df_seasonal.columns], sliding_window_size = 0.03)\n",
    "    df_white_noise_train, df_white_noise_test =  meanImputation.input(df.loc['2000-01-01':'2015-01-01', df_white_noise.columns], df.loc['2015-01-02':, df_white_noise.columns])\n",
    "    df_trended_train, df_trended_test =  forwardFilling.input(df.loc['2000-01-01':'2015-01-01', df_trended.columns], df.loc['2015-01-02':, df_trended.columns])\n",
    "    df_trend_and_seasonal_train, df_trend_and_seasonal_test =  splineInterpolation.input(df.loc['2000-01-01':'2015-01-01', df_trend_and_seasonal.columns], df.loc['2015-01-02':, df_trend_and_seasonal.columns])\n",
    "    df_train = pd.concat([df_seasonal_train, df_white_noise_train, df_trended_train, df_trend_and_seasonal_train], axis=1, join='outer')\n",
    "    df_seasonal_test.index = df_white_noise_test.index\n",
    "    df_test = pd.concat([df_seasonal_test, df_white_noise_test, df_trended_test, df_trend_and_seasonal_test], axis=1, join='outer')\n",
    "\n",
    "    ### USE KALMAN FILTER TO SMOOTH ALL DATA (ONLY VISUALIZATION PURPOSE) ###\n",
    "\n",
    "    smoother_train = KalmanSmoother(component='level_longseason', \n",
    "                              component_noise={'level':0.1, 'longseason':0.1}, \n",
    "                              n_longseasons=365)\n",
    "    smoother_train.smooth(df_train.T)\n",
    "\n",
    "    smoother_test = KalmanSmoother(component='level_longseason', \n",
    "                              component_noise={'level':0.1, 'longseason':0.1}, \n",
    "                              n_longseasons=365)\n",
    "    smoother_test.smooth(df_test.T)\n",
    "\n",
    "    df_train = pd.DataFrame(data = smoother_train.smooth_data.T, index = df_train.index, columns= df_train.columns)\n",
    "    df_test = pd.DataFrame(data = smoother_test.smooth_data.T, index = df_test.index, columns= df_test.columns)\n",
    "\n",
    "    df_train_weekly = generate_weekly(df_train, datetime(2000,1,7))\n",
    "    df_test_weekly = generate_weekly(df_test, datetime(2015,1,2))\n",
    "\n",
    "    df_train_weekly.to_csv(r'output\\/CompleteIndexesWeeklyTrainNatureKalman_'+str(i)+'.csv', index = True)\n",
    "    df_test_weekly.to_csv(r'output\\/CompleteIndexesWeeklyTestNatureKalman_'+str(i)+'.csv', index = True)"
   ]
  },
  {
   "cell_type": "code",
   "execution_count": null,
   "metadata": {},
   "outputs": [],
   "source": []
  }
 ],
 "metadata": {
  "kernelspec": {
   "display_name": "Mestrado",
   "language": "python",
   "name": "mestrado"
  },
  "language_info": {
   "codemirror_mode": {
    "name": "ipython",
    "version": 3
   },
   "file_extension": ".py",
   "mimetype": "text/x-python",
   "name": "python",
   "nbconvert_exporter": "python",
   "pygments_lexer": "ipython3",
   "version": "3.6.10"
  }
 },
 "nbformat": 4,
 "nbformat_minor": 2
}
