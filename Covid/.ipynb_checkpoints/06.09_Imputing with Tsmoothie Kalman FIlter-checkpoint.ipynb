{
 "cells": [
  {
   "cell_type": "code",
   "execution_count": 1,
   "metadata": {},
   "outputs": [],
   "source": [
    "import pandas as pd\n",
    "from datetime import datetime, timedelta\n",
    "import numpy as np\n",
    "from tsmoothie.smoother import *\n",
    "import matplotlib.pyplot as plt"
   ]
  },
  {
   "cell_type": "code",
   "execution_count": 2,
   "metadata": {},
   "outputs": [],
   "source": [
    "INPUT = 'output/\\CompleteWeeklyIndexes'"
   ]
  },
  {
   "cell_type": "code",
   "execution_count": 3,
   "metadata": {},
   "outputs": [],
   "source": [
    "df = pd.read_csv(r'output\\/CompleteCovid.csv',index_col=0)\n",
    "df_train = df.loc['2020-01-22':'2020-02-27'].dropna(how='all', axis=1) #Selecting training data\n",
    "df_test = df.loc['2020-02-28':, df_train.columns] #Selecting test data"
   ]
  },
  {
   "cell_type": "code",
   "execution_count": null,
   "metadata": {},
   "outputs": [],
   "source": [
    "for i in range(0,30):\n",
    "    ### USE KALMAN FILTER TO SMOOTH ALL DATA (ONLY VISUALIZATION PURPOSE) ###\n",
    "\n",
    "    smoother_train = KalmanSmoother(component='level_longseason', \n",
    "                              component_noise={'level':0.1, 'longseason':0.1}, \n",
    "                              n_longseasons=365)\n",
    "    smoother_train = smoother_train.smooth(df_train.T)\n",
    "\n",
    "    smoother_test = KalmanSmoother(component='level_longseason', \n",
    "                              component_noise={'level':0.1, 'longseason':0.1}, \n",
    "                              n_longseasons=365)\n",
    "    smoother_test.smooth(df_test.T)\n",
    "\n",
    "    df_train_complete = pd.DataFrame(data = smoother_train.smooth_data.T, index = df_train.index, columns= df_train.columns)\n",
    "    df_test_complete = pd.DataFrame(data = smoother_test.smooth_data.T, index = df_test.index, columns= df_test.columns)\n",
    "    df_train_complete.to_csv(r'output\\/CompleteCovidTrainKalman_'+str(i)+'.csv', index = True)\n",
    "    df_test_complete.to_csv(r'output\\/CompleteCovidTestKalman_'+str(i)+'.csv', index = True)"
   ]
  },
  {
   "cell_type": "code",
   "execution_count": null,
   "metadata": {
    "scrolled": true
   },
   "outputs": [],
   "source": [
    "for i, name in enumerate(df_train.columns):\n",
    "    plt.figure(figsize=(8,4))\n",
    "    plt.plot(df_train.index, smoother_train.data[i], label=name, alpha=0.3)\n",
    "    plt.plot(df_train.index, smoother_train.smooth_data[i], label=name+' smooth')\n",
    "    plt.legend(); plt.show()"
   ]
  },
  {
   "cell_type": "code",
   "execution_count": null,
   "metadata": {
    "scrolled": true
   },
   "outputs": [],
   "source": [
    "for i, name in enumerate(df_test.columns):\n",
    "    plt.figure(figsize=(8,4))\n",
    "    plt.plot(df_test.index, smoother_test.data[i], label=name, alpha=0.3)\n",
    "    plt.plot(df_test.index, smoother_test.smooth_data[i], label=name+' smooth')\n",
    "    plt.legend(); plt.show()"
   ]
  },
  {
   "cell_type": "code",
   "execution_count": null,
   "metadata": {},
   "outputs": [],
   "source": []
  }
 ],
 "metadata": {
  "kernelspec": {
   "display_name": "Python 3",
   "language": "python",
   "name": "python3"
  },
  "language_info": {
   "codemirror_mode": {
    "name": "ipython",
    "version": 3
   },
   "file_extension": ".py",
   "mimetype": "text/x-python",
   "name": "python",
   "nbconvert_exporter": "python",
   "pygments_lexer": "ipython3",
   "version": "3.6.10"
  }
 },
 "nbformat": 4,
 "nbformat_minor": 4
}
