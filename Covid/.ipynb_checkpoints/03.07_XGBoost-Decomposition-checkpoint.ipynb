{
 "cells": [
  {
   "cell_type": "code",
   "execution_count": 1,
   "metadata": {},
   "outputs": [],
   "source": [
    "import numpy as np\n",
    "import pandas as pd\n",
    "from datetime import datetime\n",
    "\n",
    "from sklearn.datasets import load_breast_cancer\n",
    "from sklearn.metrics import confusion_matrix\n",
    "from sklearn.model_selection import GridSearchCV\n",
    "from sklearn.metrics import mean_squared_error as mse\n",
    "from sklearn.model_selection import TimeSeriesSplit\n",
    "\n",
    "import matplotlib.pyplot as plt\n",
    "\n",
    "import xgboost as xgb\n",
    "\n",
    "import warnings\n",
    "warnings.filterwarnings('ignore')"
   ]
  },
  {
   "cell_type": "code",
   "execution_count": 2,
   "metadata": {},
   "outputs": [],
   "source": [
    "def read_csv(file):\n",
    "    df = pd.read_csv(file, parse_dates=True, index_col=0)\n",
    "    return df"
   ]
  },
  {
   "cell_type": "markdown",
   "metadata": {},
   "source": [
    "## XGBoost for Decomposition imputed dataset\n"
   ]
  },
  {
   "cell_type": "code",
   "execution_count": 3,
   "metadata": {
    "scrolled": true
   },
   "outputs": [
    {
     "ename": "ValueError",
     "evalue": "feature_names mismatch: ['Asia_deaths', 'Asia_recovered', 'Europe_confirmed_cases', 'Europe_deaths', 'Europe_recovered', 'Americas_confirmed_cases', 'Americas_deaths', 'Americas_recovered', 'Oceania_confirmed_cases', 'Oceania_deaths', 'Oceania_recovered', 'Africa_confirmed_cases', 'Africa_deaths', 'Africa_recovered'] ['Asia_confirmed_cases', 'Asia_deaths', 'Asia_recovered', 'Europe_confirmed_cases', 'Europe_deaths', 'Europe_recovered', 'Americas_confirmed_cases', 'Americas_deaths', 'Americas_recovered', 'Oceania_confirmed_cases', 'Oceania_deaths', 'Oceania_recovered', 'Africa_confirmed_cases', 'Africa_deaths', 'Africa_recovered']\ntraining data did not have the following fields: Asia_confirmed_cases",
     "output_type": "error",
     "traceback": [
      "\u001b[1;31m---------------------------------------------------------------------------\u001b[0m",
      "\u001b[1;31mValueError\u001b[0m                                Traceback (most recent call last)",
      "\u001b[1;32m<ipython-input-3-faa965e6f1b5>\u001b[0m in \u001b[0;36m<module>\u001b[1;34m\u001b[0m\n\u001b[0;32m     20\u001b[0m \u001b[0mmodel\u001b[0m \u001b[1;33m=\u001b[0m \u001b[0mxgb_model\u001b[0m\u001b[1;33m.\u001b[0m\u001b[0mfit\u001b[0m\u001b[1;33m(\u001b[0m\u001b[0mX_train\u001b[0m\u001b[1;33m,\u001b[0m \u001b[0my_train\u001b[0m\u001b[1;33m)\u001b[0m\u001b[1;33m\u001b[0m\u001b[1;33m\u001b[0m\u001b[0m\n\u001b[0;32m     21\u001b[0m \u001b[1;33m\u001b[0m\u001b[0m\n\u001b[1;32m---> 22\u001b[1;33m \u001b[0my_pred\u001b[0m \u001b[1;33m=\u001b[0m \u001b[0mmodel\u001b[0m\u001b[1;33m.\u001b[0m\u001b[0mpredict\u001b[0m\u001b[1;33m(\u001b[0m\u001b[0mX_test\u001b[0m\u001b[1;33m)\u001b[0m\u001b[1;33m\u001b[0m\u001b[1;33m\u001b[0m\u001b[0m\n\u001b[0m\u001b[0;32m     23\u001b[0m \u001b[1;33m\u001b[0m\u001b[0m\n\u001b[0;32m     24\u001b[0m \u001b[0mMSE\u001b[0m \u001b[1;33m=\u001b[0m \u001b[0mmse\u001b[0m\u001b[1;33m(\u001b[0m\u001b[0my_test\u001b[0m\u001b[1;33m,\u001b[0m \u001b[0my_pred\u001b[0m\u001b[1;33m)\u001b[0m\u001b[1;33m\u001b[0m\u001b[1;33m\u001b[0m\u001b[0m\n",
      "\u001b[1;32m~\\Anaconda3\\envs\\mestrado\\lib\\site-packages\\xgboost\\sklearn.py\u001b[0m in \u001b[0;36mpredict\u001b[1;34m(self, data, output_margin, ntree_limit, validate_features, base_margin)\u001b[0m\n\u001b[0;32m    886\u001b[0m             \u001b[0moutput_margin\u001b[0m\u001b[1;33m=\u001b[0m\u001b[0moutput_margin\u001b[0m\u001b[1;33m,\u001b[0m\u001b[1;33m\u001b[0m\u001b[1;33m\u001b[0m\u001b[0m\n\u001b[0;32m    887\u001b[0m             \u001b[0mntree_limit\u001b[0m\u001b[1;33m=\u001b[0m\u001b[0mntree_limit\u001b[0m\u001b[1;33m,\u001b[0m\u001b[1;33m\u001b[0m\u001b[1;33m\u001b[0m\u001b[0m\n\u001b[1;32m--> 888\u001b[1;33m             validate_features=validate_features)\n\u001b[0m\u001b[0;32m    889\u001b[0m         \u001b[1;32mif\u001b[0m \u001b[0moutput_margin\u001b[0m\u001b[1;33m:\u001b[0m\u001b[1;33m\u001b[0m\u001b[1;33m\u001b[0m\u001b[0m\n\u001b[0;32m    890\u001b[0m             \u001b[1;31m# If output_margin is active, simply return the scores\u001b[0m\u001b[1;33m\u001b[0m\u001b[1;33m\u001b[0m\u001b[1;33m\u001b[0m\u001b[0m\n",
      "\u001b[1;32m~\\Anaconda3\\envs\\mestrado\\lib\\site-packages\\xgboost\\core.py\u001b[0m in \u001b[0;36mpredict\u001b[1;34m(self, data, output_margin, ntree_limit, pred_leaf, pred_contribs, approx_contribs, pred_interactions, validate_features, training)\u001b[0m\n\u001b[0;32m   1569\u001b[0m \u001b[1;33m\u001b[0m\u001b[0m\n\u001b[0;32m   1570\u001b[0m         \u001b[1;32mif\u001b[0m \u001b[0mvalidate_features\u001b[0m\u001b[1;33m:\u001b[0m\u001b[1;33m\u001b[0m\u001b[1;33m\u001b[0m\u001b[0m\n\u001b[1;32m-> 1571\u001b[1;33m             \u001b[0mself\u001b[0m\u001b[1;33m.\u001b[0m\u001b[0m_validate_features\u001b[0m\u001b[1;33m(\u001b[0m\u001b[0mdata\u001b[0m\u001b[1;33m)\u001b[0m\u001b[1;33m\u001b[0m\u001b[1;33m\u001b[0m\u001b[0m\n\u001b[0m\u001b[0;32m   1572\u001b[0m \u001b[1;33m\u001b[0m\u001b[0m\n\u001b[0;32m   1573\u001b[0m         \u001b[0mlength\u001b[0m \u001b[1;33m=\u001b[0m \u001b[0mc_bst_ulong\u001b[0m\u001b[1;33m(\u001b[0m\u001b[1;33m)\u001b[0m\u001b[1;33m\u001b[0m\u001b[1;33m\u001b[0m\u001b[0m\n",
      "\u001b[1;32m~\\Anaconda3\\envs\\mestrado\\lib\\site-packages\\xgboost\\core.py\u001b[0m in \u001b[0;36m_validate_features\u001b[1;34m(self, data)\u001b[0m\n\u001b[0;32m   2129\u001b[0m \u001b[1;33m\u001b[0m\u001b[0m\n\u001b[0;32m   2130\u001b[0m                 raise ValueError(msg.format(self.feature_names,\n\u001b[1;32m-> 2131\u001b[1;33m                                             data.feature_names))\n\u001b[0m\u001b[0;32m   2132\u001b[0m \u001b[1;33m\u001b[0m\u001b[0m\n\u001b[0;32m   2133\u001b[0m     def get_split_value_histogram(self, feature, fmap='', bins=None,\n",
      "\u001b[1;31mValueError\u001b[0m: feature_names mismatch: ['Asia_deaths', 'Asia_recovered', 'Europe_confirmed_cases', 'Europe_deaths', 'Europe_recovered', 'Americas_confirmed_cases', 'Americas_deaths', 'Americas_recovered', 'Oceania_confirmed_cases', 'Oceania_deaths', 'Oceania_recovered', 'Africa_confirmed_cases', 'Africa_deaths', 'Africa_recovered'] ['Asia_confirmed_cases', 'Asia_deaths', 'Asia_recovered', 'Europe_confirmed_cases', 'Europe_deaths', 'Europe_recovered', 'Americas_confirmed_cases', 'Americas_deaths', 'Americas_recovered', 'Oceania_confirmed_cases', 'Oceania_deaths', 'Oceania_recovered', 'Africa_confirmed_cases', 'Africa_deaths', 'Africa_recovered']\ntraining data did not have the following fields: Asia_confirmed_cases"
     ]
    }
   ],
   "source": [
    "y_true = pd.read_csv(r'output\\/CompleteCovid.csv',index_col=0).Asia_confirmed_cases\n",
    "y_true_train = y_true.loc['2020-01-22 09:00:00':'2020-02-26 02:00:00']\n",
    "y_true_test =  y_true.loc['2020-02-26 02:30:00':]\n",
    "\n",
    "X_train = read_csv('output/\\CompleteCovidTrain_decomp_0.csv')\n",
    "X_test = read_csv('output/\\CompleteCovidTest_decomp_0.csv')\n",
    "\n",
    "y_train = X_train.Asia_confirmed_cases\n",
    "y_test = X_test.Asia_confirmed_cases\n",
    "\n",
    "X_train = X_train.drop('Asia_confirmed_cases', axis=1)\n",
    "\n",
    "\n",
    "xgb_model = xgb.XGBClassifier(objective=\"reg:squarederror\",\n",
    "                                  eval_metric = 'rmse',\n",
    "                                  max_depth=3,\n",
    "                                  n_estimators=100,\n",
    "                                  learning_rate=0.2\n",
    "                              )\n",
    "model = xgb_model.fit(X_train, y_train)\n",
    "\n",
    "y_pred = model.predict(X_test)\n",
    "\n",
    "MSE = mse(y_test, y_pred)\n",
    "RMSE = np.sqrt(MSE)\n",
    "\n",
    "print(\"\\nRMSE: \", np.round(RMSE, 2))\n",
    "\n",
    "\n",
    "y_true_test_reduced = pd.concat([y_true_test, y_test], axis=1).dropna().iloc[:, 0]\n",
    "y_pred_reduced = pd.concat([y_true_test, pd.DataFrame(data=y_pred, index=y_true_test.index)], axis=1).dropna().iloc[:, 1]\n",
    "\n",
    "MSE_real = mse(y_true_test_reduced, y_pred_reduced)\n",
    "RMSE_real = np.sqrt(MSE_real)\n",
    "\n",
    "print(\"\\nRMSE with only real values: \", np.round(RMSE_real, 2))"
   ]
  },
  {
   "cell_type": "code",
   "execution_count": null,
   "metadata": {},
   "outputs": [],
   "source": [
    "fig,axes=plt.subplots(1,1)\n",
    "fig.set_figheight(8)\n",
    "fig.set_figwidth(25)\n",
    "axes.tick_params(labelrotation=45)\n",
    "axes.xaxis.set_major_locator(plt.MaxNLocator(60)) \n",
    "axes.plot(y_true_test_reduced.index, y_true_test_reduced.values, label='Real')\n",
    "axes.plot(y_pred_reduced.index, y_pred_reduced.values, label='Predicted')\n",
    "axes.set_title(\"Asia Confirmed Cases Real x Predicted\")\n",
    "axes.legend()\n",
    "plt.show()"
   ]
  },
  {
   "cell_type": "code",
   "execution_count": null,
   "metadata": {},
   "outputs": [],
   "source": []
  }
 ],
 "metadata": {
  "kernelspec": {
   "display_name": "Python 3",
   "language": "python",
   "name": "python3"
  },
  "language_info": {
   "codemirror_mode": {
    "name": "ipython",
    "version": 3
   },
   "file_extension": ".py",
   "mimetype": "text/x-python",
   "name": "python",
   "nbconvert_exporter": "python",
   "pygments_lexer": "ipython3",
   "version": "3.6.10"
  }
 },
 "nbformat": 4,
 "nbformat_minor": 4
}
