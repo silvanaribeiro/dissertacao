{
 "cells": [
  {
   "cell_type": "code",
   "execution_count": 1,
   "metadata": {},
   "outputs": [],
   "source": [
    "from imputationLibrary import forwardFilling, hotDeck, meanImputation, movingAverage, splineInterpolation, separate, randomSampleImputation\n",
    "from imputationLibrary.util import util\n",
    "import pandas as pd\n",
    "from datetime import datetime, timedelta\n",
    "import numpy as np"
   ]
  },
  {
   "cell_type": "code",
   "execution_count": 2,
   "metadata": {},
   "outputs": [],
   "source": [
    "INPUT = 'output/\\CompleteCovid'"
   ]
  },
  {
   "cell_type": "code",
   "execution_count": 6,
   "metadata": {},
   "outputs": [],
   "source": [
    "df = pd.read_csv(r'output\\/CompleteCovid.csv',index_col=0)\n",
    "period = 1\n",
    "df_train = df.loc['2020-01-22':'2020-02-27'].dropna(how='all', axis=1) #Selecting training data\n",
    "df_test = df.loc['2020-02-28':, df_train.columns] #Selecting test data\n",
    "df = df_train"
   ]
  },
  {
   "cell_type": "code",
   "execution_count": null,
   "metadata": {},
   "outputs": [
    {
     "name": "stdout",
     "output_type": "stream",
     "text": [
      "Could not determine nature of the feature Ontario_longitude and it will be assigned to a group randomly.\n",
      "Could not determine nature of the feature New South Wales_latitude and it will be assigned to a group randomly.\n",
      "Could not determine nature of the feature Victoria_latitude and it will be assigned to a group randomly.\n",
      "Could not determine nature of the feature British Columbia_longitude and it will be assigned to a group randomly.\n",
      "Could not determine nature of the feature Queensland_latitude and it will be assigned to a group randomly.\n",
      "Could not determine nature of the feature South Australia_latitude and it will be assigned to a group randomly.\n",
      "Could not determine nature of the feature London, ON_longitude and it will be assigned to a group randomly.\n",
      "Could not determine nature of the feature Toronto, ON_longitude and it will be assigned to a group randomly.\n",
      "Could not determine nature of the feature New South Wales_latitude and it will be assigned to a group randomly.\n",
      "Could not determine nature of the feature British Columbia_longitude and it will be assigned to a group randomly.\n",
      "Could not determine nature of the feature South Australia_latitude and it will be assigned to a group randomly.\n",
      "Could not determine nature of the feature Victoria_latitude and it will be assigned to a group randomly.\n",
      "Could not determine nature of the feature Queensland_latitude and it will be assigned to a group randomly.\n",
      "Could not determine nature of the feature London, ON_longitude and it will be assigned to a group randomly.\n",
      "Could not determine nature of the feature Toronto, ON_longitude and it will be assigned to a group randomly.\n",
      "Could not determine nature of the feature Ontario_longitude and it will be assigned to a group randomly.\n"
     ]
    }
   ],
   "source": [
    "for i in range(0,30):\n",
    "    df_white_noise, df_seasonal, df_trended, df_trend_and_seasonal = separate.separate(df_train, period)\n",
    "    df_seasonal_train, df_seasonal_test = randomSampleImputation.input(df_train.loc[:, df_seasonal.columns], df_test.loc[:, df_seasonal.columns], sliding_window_size = 0.03)\n",
    "    df_white_noise_train, df_white_noise_test =  meanImputation.input(df_train.loc[:, df_white_noise.columns], df_test.loc[:, df_white_noise.columns])\n",
    "    df_trended_train, df_trended_test =  forwardFilling.input(df_train.loc[:, df_trended.columns], df_test.loc[:, df_trended.columns])\n",
    "    df_trend_and_seasonal_train, df_trend_and_seasonal_test =  splineInterpolation.input(df_train.loc[:, df_trend_and_seasonal.columns], df_test.loc[:, df_trend_and_seasonal.columns])\n",
    "    df_train = pd.concat([df_seasonal_train, df_white_noise_train, df_trended_train, df_trend_and_seasonal_train], axis=1, join='outer')\n",
    "    df_test = pd.concat([df_seasonal_test, df_white_noise_test, df_trended_test, df_trend_and_seasonal_test], axis=1, join='outer')\n",
    "    df_train.to_csv(r'output\\/CompleteCovidNatureTrain_'+str(i)+'.csv', index = True)\n",
    "    df_test.to_csv(r'output\\/CompleteCovidNatureTest_'+str(i)+'.csv', index = True)\n",
    "    "
   ]
  },
  {
   "cell_type": "code",
   "execution_count": 21,
   "metadata": {
    "scrolled": true
   },
   "outputs": [
    {
     "data": {
      "text/plain": [
       "Index(['Hubei_latitude', 'Hubei_recovered', 'Guangdong_latitude',\n",
       "       'Guangdong_longitude', 'Guangdong_deaths', 'Guangdong_recovered',\n",
       "       'Zhejiang_longitude', 'Zhejiang_deaths', 'Zhejiang_recovered',\n",
       "       'Beijing_latitude',\n",
       "       ...\n",
       "       'Omaha, NE (From Diamond Princess)_latitude',\n",
       "       'Omaha, NE (From Diamond Princess)_longitude',\n",
       "       'Omaha, NE (From Diamond Princess)_confirmed_cases',\n",
       "       'Omaha, NE (From Diamond Princess)_deaths',\n",
       "       'Omaha, NE (From Diamond Princess)_recovered',\n",
       "       'Unassigned Location (From Diamond Princess)_latitude',\n",
       "       'Unassigned Location (From Diamond Princess)_longitude',\n",
       "       'Unassigned Location (From Diamond Princess)_confirmed_cases',\n",
       "       'Unassigned Location (From Diamond Princess)_deaths',\n",
       "       'Unassigned Location (From Diamond Princess)_recovered'],\n",
       "      dtype='object', length=288)"
      ]
     },
     "execution_count": 21,
     "metadata": {},
     "output_type": "execute_result"
    }
   ],
   "source": [
    " df_white_noise.columns"
   ]
  },
  {
   "cell_type": "code",
   "execution_count": 22,
   "metadata": {},
   "outputs": [
    {
     "data": {
      "text/plain": [
       "Index(['Ontario_longitude', 'Queensland_latitude', 'South Australia_latitude'], dtype='object')"
      ]
     },
     "execution_count": 22,
     "metadata": {},
     "output_type": "execute_result"
    }
   ],
   "source": [
    "df_seasonal.columns"
   ]
  },
  {
   "cell_type": "code",
   "execution_count": 23,
   "metadata": {},
   "outputs": [
    {
     "data": {
      "text/plain": [
       "Index(['Hubei_longitude', 'Zhejiang_latitude', 'Chongqing_latitude',\n",
       "       'Chongqing_longitude', 'Guangxi_latitude', 'Anhui_longitude',\n",
       "       'Sichuan_longitude', 'Fujian_latitude', 'Henan_latitude',\n",
       "       'Jiangsu_latitude', 'Hainan_confirmed_cases', 'Tianjin_confirmed_cases',\n",
       "       'Yunnan_latitude', 'Liaoning_longitude', 'Jilin_longitude',\n",
       "       'Xinjiang_longitude', 'Ningxia_longitude', 'Hebei_latitude',\n",
       "       'Shanxi_longitude', 'Ontario_latitude', 'New South Wales_latitude',\n",
       "       'Victoria_latitude', 'Bavaria_latitude', 'British Columbia_latitude',\n",
       "       'Queensland_longitude', 'London, ON_latitude', 'Toronto, ON_latitude',\n",
       "       'Toronto, ON_longitude'],\n",
       "      dtype='object')"
      ]
     },
     "execution_count": 23,
     "metadata": {},
     "output_type": "execute_result"
    }
   ],
   "source": [
    "df_trended.columns"
   ]
  },
  {
   "cell_type": "code",
   "execution_count": 24,
   "metadata": {},
   "outputs": [
    {
     "data": {
      "text/plain": [
       "Index(['Jilin_deaths', 'Hubei_confirmed_cases', 'Hubei_deaths',\n",
       "       'Guangdong_confirmed_cases', 'Zhejiang_confirmed_cases',\n",
       "       'Beijing_confirmed_cases', 'Beijing_deaths',\n",
       "       'Chongqing_confirmed_cases', 'Chongqing_deaths',\n",
       "       'Hunan_confirmed_cases', 'Guangxi_confirmed_cases', 'Guangxi_deaths',\n",
       "       'Shanghai_confirmed_cases', 'Shanghai_deaths',\n",
       "       'Jiangxi_confirmed_cases', 'Anhui_confirmed_cases', 'Anhui_deaths',\n",
       "       'Sichuan_confirmed_cases', 'Sichuan_deaths', 'Shandong_confirmed_cases',\n",
       "       'Fujian_confirmed_cases', 'Henan_confirmed_cases',\n",
       "       'Jiangsu_confirmed_cases', 'Hainan_deaths', 'Tianjin_deaths',\n",
       "       'Shaanxi_confirmed_cases', 'Yunnan_confirmed_cases',\n",
       "       'Liaoning_confirmed_cases', 'Liaoning_deaths',\n",
       "       'Heilongjiang_confirmed_cases', 'Heilongjiang_deaths',\n",
       "       'Guizhou_confirmed_cases', 'Guizhou_deaths', 'Jilin_confirmed_cases',\n",
       "       'Xinjiang_confirmed_cases', 'Ningxia_confirmed_cases',\n",
       "       'Hebei_confirmed_cases', 'Gansu_confirmed_cases',\n",
       "       'Shanxi_confirmed_cases', 'Inner Mongolia_confirmed_cases',\n",
       "       'Qinghai_longitude'],\n",
       "      dtype='object')"
      ]
     },
     "execution_count": 24,
     "metadata": {},
     "output_type": "execute_result"
    }
   ],
   "source": [
    "df_trend_and_seasonal .columns"
   ]
  },
  {
   "cell_type": "code",
   "execution_count": null,
   "metadata": {},
   "outputs": [],
   "source": []
  }
 ],
 "metadata": {
  "kernelspec": {
   "display_name": "Mestrado",
   "language": "python",
   "name": "mestrado"
  },
  "language_info": {
   "codemirror_mode": {
    "name": "ipython",
    "version": 3
   },
   "file_extension": ".py",
   "mimetype": "text/x-python",
   "name": "python",
   "nbconvert_exporter": "python",
   "pygments_lexer": "ipython3",
   "version": "3.6.10"
  }
 },
 "nbformat": 4,
 "nbformat_minor": 2
}
