{
 "cells": [
  {
   "cell_type": "code",
   "execution_count": 1,
   "metadata": {},
   "outputs": [],
   "source": [
    "from imputationLibrary import forwardFilling, hotDeck, meanImputation, movingAverage, splineInterpolation, separate, randomSampleImputation\n",
    "from imputationLibrary.util import util\n",
    "import pandas as pd\n",
    "from datetime import datetime, timedelta\n",
    "import numpy as np\n",
    "from tsmoothie.smoother import *\n",
    "import matplotlib.pyplot as plt"
   ]
  },
  {
   "cell_type": "code",
   "execution_count": 2,
   "metadata": {},
   "outputs": [],
   "source": [
    "INPUT = 'output/\\CompleteCovid'"
   ]
  },
  {
   "cell_type": "code",
   "execution_count": 3,
   "metadata": {},
   "outputs": [],
   "source": [
    "df = pd.read_csv(r'output\\/CompleteCovid.csv',index_col=0)\n",
    "df_train = df.loc['2020-01-22':'2020-02-27'].dropna(how='all', axis=1) #Selecting training data\n",
    "df_test = df.loc['2020-02-28':, df_train.columns] #Selecting test data\n",
    "period = 1"
   ]
  },
  {
   "cell_type": "code",
   "execution_count": 4,
   "metadata": {},
   "outputs": [
    {
     "name": "stderr",
     "output_type": "stream",
     "text": [
      "C:\\Users\\silva\\Anaconda3\\envs\\mestrado\\lib\\site-packages\\numpy\\core\\fromnumeric.py:58: FutureWarning: Series.nonzero() is deprecated and will be removed in a future version.Use Series.to_numpy().nonzero() instead\n",
      "  return bound(*args, **kwds)\n",
      "C:\\Users\\silva\\Anaconda3\\envs\\mestrado\\lib\\site-packages\\ipykernel_launcher.py:8: FutureWarning: Sorting because non-concatenation axis is not aligned. A future version\n",
      "of pandas will change to not sort by default.\n",
      "\n",
      "To accept the future behavior, pass 'sort=False'.\n",
      "\n",
      "To retain the current behavior and silence the warning, pass 'sort=True'.\n",
      "\n",
      "  \n"
     ]
    },
    {
     "name": "stdout",
     "output_type": "stream",
     "text": [
      "Could not determine nature of the feature Fujian_deaths and it will be assigned to a group randomly.\n",
      "Could not determine nature of the feature Shaanxi_deaths and it will be assigned to a group randomly.\n",
      "Could not determine nature of the feature Fujian_deaths and it will be assigned to a group randomly.\n",
      "Could not determine nature of the feature Shaanxi_deaths and it will be assigned to a group randomly.\n",
      "Could not determine nature of the feature Fujian_deaths and it will be assigned to a group randomly.\n",
      "Could not determine nature of the feature Fujian_deaths and it will be assigned to a group randomly.\n",
      "Could not determine nature of the feature Shaanxi_deaths and it will be assigned to a group randomly.\n",
      "Could not determine nature of the feature Fujian_deaths and it will be assigned to a group randomly.\n",
      "Could not determine nature of the feature Shaanxi_deaths and it will be assigned to a group randomly.\n",
      "Could not determine nature of the feature Fujian_deaths and it will be assigned to a group randomly.\n",
      "Could not determine nature of the feature Shaanxi_deaths and it will be assigned to a group randomly.\n",
      "Could not determine nature of the feature Shaanxi_deaths and it will be assigned to a group randomly.\n",
      "Could not determine nature of the feature Fujian_deaths and it will be assigned to a group randomly.\n",
      "Could not determine nature of the feature Shaanxi_deaths and it will be assigned to a group randomly.\n",
      "Could not determine nature of the feature Fujian_deaths and it will be assigned to a group randomly.\n",
      "Could not determine nature of the feature Fujian_deaths and it will be assigned to a group randomly.\n",
      "Could not determine nature of the feature Shaanxi_deaths and it will be assigned to a group randomly.\n",
      "Could not determine nature of the feature Fujian_deaths and it will be assigned to a group randomly.\n",
      "Could not determine nature of the feature Shaanxi_deaths and it will be assigned to a group randomly.\n",
      "Could not determine nature of the feature Shaanxi_deaths and it will be assigned to a group randomly.\n",
      "Could not determine nature of the feature Fujian_deaths and it will be assigned to a group randomly.\n",
      "Could not determine nature of the feature Shaanxi_deaths and it will be assigned to a group randomly.\n",
      "Could not determine nature of the feature Fujian_deaths and it will be assigned to a group randomly.\n",
      "Could not determine nature of the feature Shaanxi_deaths and it will be assigned to a group randomly.\n",
      "Could not determine nature of the feature Fujian_deaths and it will be assigned to a group randomly.\n",
      "Could not determine nature of the feature Shaanxi_deaths and it will be assigned to a group randomly.\n",
      "Could not determine nature of the feature Fujian_deaths and it will be assigned to a group randomly.\n",
      "Could not determine nature of the feature Shaanxi_deaths and it will be assigned to a group randomly.\n",
      "Could not determine nature of the feature Fujian_deaths and it will be assigned to a group randomly.\n",
      "Could not determine nature of the feature Fujian_deaths and it will be assigned to a group randomly.\n",
      "Could not determine nature of the feature Shaanxi_deaths and it will be assigned to a group randomly.\n",
      "Could not determine nature of the feature Fujian_deaths and it will be assigned to a group randomly.\n",
      "Could not determine nature of the feature Shaanxi_deaths and it will be assigned to a group randomly.\n",
      "Could not determine nature of the feature Shaanxi_deaths and it will be assigned to a group randomly.\n",
      "Could not determine nature of the feature Fujian_deaths and it will be assigned to a group randomly.\n",
      "Could not determine nature of the feature Shaanxi_deaths and it will be assigned to a group randomly.\n",
      "Could not determine nature of the feature Fujian_deaths and it will be assigned to a group randomly.\n",
      "Could not determine nature of the feature Shaanxi_deaths and it will be assigned to a group randomly.\n",
      "Could not determine nature of the feature Fujian_deaths and it will be assigned to a group randomly.\n",
      "Could not determine nature of the feature Shaanxi_deaths and it will be assigned to a group randomly.\n",
      "Could not determine nature of the feature Fujian_deaths and it will be assigned to a group randomly.\n",
      "Could not determine nature of the feature Shaanxi_deaths and it will be assigned to a group randomly.\n",
      "Could not determine nature of the feature Fujian_deaths and it will be assigned to a group randomly.\n",
      "Could not determine nature of the feature Fujian_deaths and it will be assigned to a group randomly.\n",
      "Could not determine nature of the feature Shaanxi_deaths and it will be assigned to a group randomly.\n"
     ]
    }
   ],
   "source": [
    "for i in range(0,30):\n",
    "    df_white_noise, df_seasonal, df_trended, df_trend_and_seasonal = separate.separate(df_train, period)\n",
    "    df_seasonal_train, df_seasonal_test = randomSampleImputation.input(df_train.loc[:, df_seasonal.columns], df_test.loc[:, df_seasonal.columns], sliding_window_size = 0.03)\n",
    "    df_white_noise_train, df_white_noise_test =  meanImputation.input(df_train.loc[:, df_white_noise.columns], df_test.loc[:, df_white_noise.columns])\n",
    "    df_trended_train, df_trended_test =  forwardFilling.input(df_train.loc[:, df_trended.columns], df_test.loc[:, df_trended.columns])\n",
    "    df_trend_and_seasonal_train, df_trend_and_seasonal_test =  splineInterpolation.input(df_train.loc[:, df_trend_and_seasonal.columns], df_test.loc[:, df_trend_and_seasonal.columns])\n",
    "    df_train = pd.concat([df_seasonal_train, df_white_noise_train, df_trended_train, df_trend_and_seasonal_train], axis=1, join='outer')\n",
    "    df_test = pd.concat([df_seasonal_test, df_white_noise_test, df_trended_test, df_trend_and_seasonal_test], axis=1, join='outer')\n",
    "\n",
    "\n",
    "    ### USE KALMAN FILTER TO SMOOTH ALL DATA (ONLY VISUALIZATION PURPOSE) ###\n",
    "\n",
    "    smoother_train = KalmanSmoother(component='level_longseason', \n",
    "                              component_noise={'level':0.1, 'longseason':0.1}, \n",
    "                              n_longseasons=365)\n",
    "    smoother_train.smooth(df_train.T)\n",
    "\n",
    "    smoother_test = KalmanSmoother(component='level_longseason', \n",
    "                              component_noise={'level':0.1, 'longseason':0.1}, \n",
    "                              n_longseasons=365)\n",
    "    smoother_test.smooth(df_test.T)\n",
    "\n",
    "    df_train = pd.DataFrame(data = smoother_train.smooth_data.T, index = df_train.index, columns= df_train.columns)\n",
    "    df_test = pd.DataFrame(data = smoother_test.smooth_data.T, index = df_test.index, columns= df_test.columns)\n",
    "\n",
    "    df_train.to_csv(r'output\\/CompleteCovidNatureKalmanTrain_'+str(i)+'.csv', index = True)\n",
    "    df_test.to_csv(r'output\\/CompleteCovidNatureKalmanTest_'+str(i)+'.csv', index = True)"
   ]
  },
  {
   "cell_type": "code",
   "execution_count": null,
   "metadata": {},
   "outputs": [],
   "source": []
  }
 ],
 "metadata": {
  "kernelspec": {
   "display_name": "Mestrado",
   "language": "python",
   "name": "mestrado"
  },
  "language_info": {
   "codemirror_mode": {
    "name": "ipython",
    "version": 3
   },
   "file_extension": ".py",
   "mimetype": "text/x-python",
   "name": "python",
   "nbconvert_exporter": "python",
   "pygments_lexer": "ipython3",
   "version": "3.6.10"
  }
 },
 "nbformat": 4,
 "nbformat_minor": 2
}
