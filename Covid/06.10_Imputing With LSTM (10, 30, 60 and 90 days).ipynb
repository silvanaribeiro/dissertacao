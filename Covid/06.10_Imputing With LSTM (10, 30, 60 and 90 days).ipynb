{
 "cells": [
  {
   "cell_type": "code",
   "execution_count": 9,
   "metadata": {},
   "outputs": [],
   "source": [
    "import matplotlib.pyplot as plt\n",
    "import pandas as pd\n",
    "import datetime as dt\n",
    "import os\n",
    "import numpy as np\n",
    "import math\n",
    "import keras\n",
    "from keras.models import Sequential\n",
    "from keras.layers import Dense\n",
    "from keras.layers import LSTM\n",
    "from keras.layers import Dropout\n",
    "from keras.layers import *\n",
    "from sklearn.preprocessing import MinMaxScaler\n",
    "from sklearn.metrics import mean_squared_error\n",
    "from sklearn.metrics import mean_absolute_error\n",
    "from sklearn.model_selection import train_test_split\n",
    "from keras.callbacks import EarlyStopping\n",
    "from keras.layers import Masking"
   ]
  },
  {
   "cell_type": "code",
   "execution_count": 10,
   "metadata": {},
   "outputs": [],
   "source": [
    "days = 30"
   ]
  },
  {
   "cell_type": "code",
   "execution_count": 11,
   "metadata": {},
   "outputs": [],
   "source": [
    "def scale(training_set):\n",
    "    # Feature Scaling\n",
    "    sc = MinMaxScaler(feature_range = (0, 1))\n",
    "    training_set_scaled = sc.fit_transform(training_set)\n",
    "    # Creating a data structure with 'days' time-steps and 1 output\n",
    "    X_train = []\n",
    "    y_train = []\n",
    "    for i in range(days, training_set.shape[0]):\n",
    "        X_train.append(training_set_scaled[i-days:i, 0])\n",
    "        y_train.append(training_set_scaled[i, 0])\n",
    "    X_train, y_train = np.array(X_train), np.array(y_train)\n",
    "    X_train = np.reshape(X_train, (X_train.shape[0], X_train.shape[1], 1))\n",
    "    return X_train, y_train, sc"
   ]
  },
  {
   "cell_type": "code",
   "execution_count": 12,
   "metadata": {},
   "outputs": [],
   "source": [
    "def train_LSTM(X_train, y_train):\n",
    "    model = Sequential()\n",
    "    model.add(Masking(mask_value=-1, input_shape = (X_train.shape[1], 1)))\n",
    "    #Adding the first LSTM layer and some Dropout regularisation\n",
    "    model.add(LSTM(units = 50, return_sequences = True, input_shape = (X_train.shape[1], 1)))\n",
    "    model.add(Dropout(0.2))\n",
    "    # Adding a second LSTM layer and some Dropout regularisation\n",
    "    model.add(LSTM(units = 50, return_sequences = True))\n",
    "    model.add(Dropout(0.2))\n",
    "    # Adding a third LSTM layer and some Dropout regularisation\n",
    "    model.add(LSTM(units = 50, return_sequences = True))\n",
    "    model.add(Dropout(0.2))\n",
    "    # Adding a fourth LSTM layer and some Dropout regularisation\n",
    "    model.add(LSTM(units = 50))\n",
    "    model.add(Dropout(0.2))\n",
    "    # Adding the output layer\n",
    "    model.add(Dense(units = 1))\n",
    "\n",
    "    # Compiling the RNN\n",
    "    model.compile(optimizer = 'adam', loss = 'mean_squared_error')\n",
    "\n",
    "    # Fitting the RNN to the Training set\n",
    "    model.fit(X_train, y_train, epochs = 30, batch_size = 32)\n",
    "    return model"
   ]
  },
  {
   "cell_type": "code",
   "execution_count": 13,
   "metadata": {},
   "outputs": [],
   "source": [
    "def predict(dataset_train, dataset_test, model, sc):\n",
    "    dataset_total = pd.concat((dataset_train, dataset_test), axis = 0)\n",
    "    inputs = dataset_total[len(dataset_total) - dataset_test.shape[0] - days:].values\n",
    "    inputs = inputs.reshape(-1,1)\n",
    "    inputs = sc.transform(inputs)\n",
    "    X_test = []\n",
    "    for i in range(days, inputs.shape[0]):\n",
    "        X_test.append(inputs[i-days:i, 0])\n",
    "    X_test = np.array(X_test)\n",
    "    X_test = np.reshape(X_test, (X_test.shape[0], X_test.shape[1], 1))\n",
    "    print(X_test.shape)\n",
    "    # (273, 'days', 1)\n",
    "    predicted_stock_price = model.predict(X_test)\n",
    "    predicted_stock_price = sc.inverse_transform(predicted_stock_price)\n",
    "    return X_test, predicted_stock_price"
   ]
  },
  {
   "cell_type": "code",
   "execution_count": 14,
   "metadata": {},
   "outputs": [],
   "source": [
    "def plot_results(dataset_test, predicted_stock_price):\n",
    "    # Visualising the results\n",
    "    plt.plot(dataset_test.values, color = 'red', label = 'Real')\n",
    "    plt.plot(predicted_stock_price, color = 'blue', label = 'Predicted')\n",
    "    plt.xticks(np.arange(0,dataset_test.shape[0],50))\n",
    "    plt.xlabel('Time')\n",
    "    plt.ylabel('Index')\n",
    "    plt.legend()\n",
    "    plt.show()"
   ]
  },
  {
   "cell_type": "code",
   "execution_count": 15,
   "metadata": {},
   "outputs": [],
   "source": [
    "def impute_with_prediction(df_orig, df_imputed):\n",
    "    for i in df_orig.index:\n",
    "        if pd.isna(df_orig.loc[i]):\n",
    "            df_orig.at[i] = df_imputed.loc[i]\n",
    "    return df_orig"
   ]
  },
  {
   "cell_type": "code",
   "execution_count": 16,
   "metadata": {},
   "outputs": [],
   "source": [
    "df = pd.read_csv(r'output\\/CompleteCovid.csv',index_col=0)"
   ]
  },
  {
   "cell_type": "code",
   "execution_count": null,
   "metadata": {},
   "outputs": [],
   "source": [
    "for i in range(0,30):\n",
    "    df_train_complete = None\n",
    "    df_test_complete = None\n",
    "    for col in df.columns:       \n",
    "        \n",
    "        test_set = df.loc['2020-02-28':, col].fillna(-1).values #Selecting test data\n",
    "        training_set = df.loc['2020-01-22':'2020-02-27', col].fillna(-1).values #Selecting training data\n",
    "        training_set = training_set.reshape(-1, 1)\n",
    "        X_train, y_train, sc = scale(training_set)\n",
    "        model = train_LSTM(X_train, y_train)\n",
    "        # Dados de treinamento\n",
    "        predicted_stock_price_train = model.predict(X_train)\n",
    "        predicted_stock_price_train = sc.inverse_transform(predicted_stock_price_train)\n",
    "        #plot_results(df.loc['2000-01-01':'2015-01-01', col].fillna(-1), predicted_stock_price_train)\n",
    "        # Dados de teste\n",
    "        X_test, predicted_stock_price = predict(df.loc['2020-01-22':'2020-02-27', col].fillna(-1), df.loc['2020-02-28':, col].fillna(-1), model, sc)\n",
    "        #plot_results(df.loc['2015-01-02':, col].fillna(-1), predicted_stock_price)\n",
    "\n",
    "        vazio = np.empty(days)\n",
    "        predicted_stock_price_train = np.append(vazio, predicted_stock_price_train)\n",
    "        series_complete_train = impute_with_prediction(df.loc['2020-01-22':'2020-02-27', col], pd.DataFrame(index=df.loc['2020-01-22':'2020-02-27', col].index, data=predicted_stock_price_train))\n",
    "        df_train_complete = pd.concat([df_train_complete, pd.DataFrame(index=df.loc['2020-01-22':'2020-02-27', col].index, data=series_complete_train, columns=[col])], axis=1, join='outer')\n",
    "        df_test_complete = pd.concat([df_test_complete, pd.DataFrame(data=predicted_stock_price, index = df.loc['2020-02-28':, col].index, columns = [col])], axis=1, join='outer')\n",
    "    df_train_complete.to_csv(r'output\\/lstm\\/CompleteCovidTrainLSTM30_'+str(i)+'.csv', index = True)\n",
    "    df_test_complete.to_csv(r'output\\/lstm\\/CompleteCovidTestLSTM30_'+str(i)+'.csv', index = True)"
   ]
  },
  {
   "cell_type": "code",
   "execution_count": null,
   "metadata": {},
   "outputs": [],
   "source": []
  }
 ],
 "metadata": {
  "kernelspec": {
   "display_name": "Mestrado",
   "language": "python",
   "name": "mestrado"
  },
  "language_info": {
   "codemirror_mode": {
    "name": "ipython",
    "version": 3
   },
   "file_extension": ".py",
   "mimetype": "text/x-python",
   "name": "python",
   "nbconvert_exporter": "python",
   "pygments_lexer": "ipython3",
   "version": "3.6.10"
  }
 },
 "nbformat": 4,
 "nbformat_minor": 4
}
