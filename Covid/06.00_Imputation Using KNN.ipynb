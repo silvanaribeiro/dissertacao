{
 "cells": [
  {
   "cell_type": "markdown",
   "metadata": {},
   "source": [
    "## This notebook inputs the missing values using KNN"
   ]
  },
  {
   "cell_type": "code",
   "execution_count": 1,
   "metadata": {},
   "outputs": [],
   "source": [
    "import pandas as pd\n",
    "from datetime import datetime\n",
    "import numpy as np\n",
    "from sklearn.impute import KNNImputer\n",
    "from sklearn import preprocessing"
   ]
  },
  {
   "cell_type": "markdown",
   "metadata": {},
   "source": [
    "#### Choose wether the imputation should be done on the data set with daily or weekly granularity"
   ]
  },
  {
   "cell_type": "code",
   "execution_count": 2,
   "metadata": {},
   "outputs": [],
   "source": [
    "INPUT, OUTPUT = 'output/\\CompleteCovid', 'output/\\KNNCovidImputed'"
   ]
  },
  {
   "cell_type": "code",
   "execution_count": 3,
   "metadata": {
    "scrolled": true
   },
   "outputs": [],
   "source": [
    "df = pd.read_csv(r'output\\/CompleteCovid.csv',index_col=0)\n",
    "df_train = df.loc['2020-01-22':'2020-02-27'].dropna(how='all', axis=1) #Selecting training data\n",
    "df_test = df.loc['2020-02-28':, df_train.columns] #Selecting test data\n",
    "df = df_train"
   ]
  },
  {
   "cell_type": "code",
   "execution_count": 4,
   "metadata": {},
   "outputs": [
    {
     "data": {
      "text/plain": [
       "(1278, 360)"
      ]
     },
     "execution_count": 4,
     "metadata": {},
     "output_type": "execute_result"
    }
   ],
   "source": [
    "df.shape"
   ]
  },
  {
   "cell_type": "code",
   "execution_count": 5,
   "metadata": {},
   "outputs": [
    {
     "data": {
      "text/plain": [
       "(519, 360)"
      ]
     },
     "execution_count": 5,
     "metadata": {},
     "output_type": "execute_result"
    }
   ],
   "source": [
    "df_test.shape"
   ]
  },
  {
   "cell_type": "code",
   "execution_count": 6,
   "metadata": {},
   "outputs": [],
   "source": [
    "for i in range(0,30):\n",
    "    #Scaled data has zero mean and unit variance\n",
    "    scaler = preprocessing.StandardScaler()\n",
    "    scaler.fit(df)\n",
    "    array = scaler.transform(df)\n",
    "    array_test = scaler.transform(df_test)\n",
    "    df_scaled = pd.DataFrame(data=array, index=df.index, columns=df.columns)\n",
    "    df_test_scaled = pd.DataFrame(data=array_test, index=df_test.index, columns=df_test.columns)\n",
    "    \n",
    "    imp = KNNImputer(n_neighbors=5, weights=\"uniform\")\n",
    "    imp.fit(df_scaled)\n",
    "    df_imputed = imp.transform(df_scaled)\n",
    "    df_test_imputed = imp.transform(df_test_scaled)\n",
    "    df_final = pd.DataFrame(data=df_imputed, index=df.index, columns=df.columns)\n",
    "    df_test_final = pd.DataFrame(data=df_test_imputed, index=df_test.index, columns=df_test.columns)\n",
    "    # Descaling the data\n",
    "    array_2 = scaler.inverse_transform(df_final)\n",
    "    df_final2 = pd.DataFrame(data=array_2, index=df.index, columns=df.columns)\n",
    "\n",
    "    array_test_2 = scaler.inverse_transform(df_test_final)\n",
    "    df_test_final2 = pd.DataFrame(data=array_test_2, index=df_test.index, columns=df_test.columns)\n",
    "    df_final2.to_csv(OUTPUT+\"_\"+str(i)+'_training.csv', index = True)\n",
    "    df_test_final2.to_csv(OUTPUT+\"_\"+str(i)+'_test.csv', index = True)"
   ]
  },
  {
   "cell_type": "code",
   "execution_count": null,
   "metadata": {},
   "outputs": [],
   "source": []
  }
 ],
 "metadata": {
  "kernelspec": {
   "display_name": "Python 3",
   "language": "python",
   "name": "python3"
  },
  "language_info": {
   "codemirror_mode": {
    "name": "ipython",
    "version": 3
   },
   "file_extension": ".py",
   "mimetype": "text/x-python",
   "name": "python",
   "nbconvert_exporter": "python",
   "pygments_lexer": "ipython3",
   "version": "3.6.10"
  }
 },
 "nbformat": 4,
 "nbformat_minor": 4
}
