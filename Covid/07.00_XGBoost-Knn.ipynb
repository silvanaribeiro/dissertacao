{
 "cells": [
  {
   "cell_type": "code",
   "execution_count": 2,
   "metadata": {},
   "outputs": [],
   "source": [
    "import numpy as np\n",
    "import pandas as pd\n",
    "from datetime import datetime\n",
    "\n",
    "from sklearn.datasets import load_breast_cancer\n",
    "from sklearn.metrics import confusion_matrix\n",
    "from sklearn.model_selection import GridSearchCV\n",
    "from sklearn.metrics import mean_squared_error as mse\n",
    "from sklearn.model_selection import TimeSeriesSplit\n",
    "\n",
    "import matplotlib.pyplot as plt\n",
    "\n",
    "import xgboost as xgb\n",
    "\n",
    "import warnings\n",
    "warnings.filterwarnings('ignore')"
   ]
  },
  {
   "cell_type": "code",
   "execution_count": 24,
   "metadata": {},
   "outputs": [],
   "source": [
    "def read_csv(file):\n",
    "    df = pd.read_csv(file, parse_dates=True, index_col=0)\n",
    "    return df"
   ]
  },
  {
   "cell_type": "markdown",
   "metadata": {},
   "source": [
    "## XGBoost for KNN imputed dataset\n"
   ]
  },
  {
   "cell_type": "code",
   "execution_count": 34,
   "metadata": {
    "scrolled": true
   },
   "outputs": [
    {
     "name": "stdout",
     "output_type": "stream",
     "text": [
      "\n",
      "RMSE:  7880.59\n",
      "\n",
      "RMSE with only real values:  13370.38\n"
     ]
    }
   ],
   "source": [
    "y_true = pd.read_csv(r'output\\/CompleteCovid.csv',index_col=0).Asia_confirmed_cases\n",
    "y_true_train = y_true.loc['2020-01-22 09:00:00':'2020-02-26 02:00:00']\n",
    "y_true_test =  y_true.loc['2020-02-26 02:30:00':]\n",
    "\n",
    "X_train = read_csv('output/\\KNNCovidImputed_0_training.csv')\n",
    "X_test = read_csv('output/\\KNNCovidImputed_0_test.csv')\n",
    "\n",
    "y_train = X_train.Asia_confirmed_cases\n",
    "y_test = X_test.Asia_confirmed_cases\n",
    "\n",
    "X_train = X_train.drop('Asia_confirmed_cases', axis=1)\n",
    "X_test = X_test.drop('Asia_confirmed_cases', axis=1)\n",
    "\n",
    "\n",
    "xgb_model = xgb.XGBClassifier(objective=\"reg:squarederror\",\n",
    "                                  eval_metric = 'rmse',\n",
    "                                  max_depth=3,\n",
    "                                  n_estimators=150,\n",
    "                                  learning_rate=0.001\n",
    "                              )\n",
    "model = xgb_model.fit(X_train, y_train)\n",
    "\n",
    "y_pred = model.predict(X_test)\n",
    "\n",
    "MSE = mse(y_test, y_pred)\n",
    "RMSE = np.sqrt(MSE)\n",
    "\n",
    "print(\"\\nRMSE: \", np.round(RMSE, 2))\n",
    "\n",
    "\n",
    "y_true_test_reduced = pd.concat([y_true_test, y_test], axis=1).dropna().iloc[:, 0]\n",
    "y_pred_reduced = pd.concat([y_true_test, pd.DataFrame(data=y_pred, index=y_true_test.index)], axis=1).dropna().iloc[:, 1]\n",
    "\n",
    "MSE_real = mse(y_true_test_reduced, y_pred_reduced)\n",
    "RMSE_real = np.sqrt(MSE_real)\n",
    "\n",
    "print(\"\\nRMSE with only real values: \", np.round(RMSE_real, 2))"
   ]
  },
  {
   "cell_type": "code",
   "execution_count": 41,
   "metadata": {},
   "outputs": [],
   "source": [
    "def run_experiment_multiple_times(n=30):\n",
    "    result_dict = {}\n",
    "    result_dict= {'rmse':0, 'true_rmse':0, 'best_model':None, 'best_rmse':0, 'best_true_rmse':0}\n",
    "    y_true = pd.read_csv(r'output\\/CompleteCovid.csv',index_col=0).Asia_confirmed_cases\n",
    "    y_true_train = y_true.loc['2020-01-22 09:00:00':'2020-02-26 02:00:00']\n",
    "    y_true_test =  y_true.loc['2020-02-26 02:30:00':]\n",
    "\n",
    "    for i in range(0,n):\n",
    "        X_train = read_csv('output/\\KNNCovidImputed_'+str(i)+'_training.csv')\n",
    "        X_test = read_csv('output/\\KNNCovidImputed_'+str(i)+'_test.csv')\n",
    "        \n",
    "        y_train = X_train.Asia_confirmed_cases\n",
    "        y_test = X_test.Asia_confirmed_cases\n",
    "        \n",
    "        xgb_model = xgb.XGBClassifier(objective=\"reg:squarederror\",\n",
    "                                          eval_metric = 'rmse',\n",
    "                                          max_depth=3,\n",
    "                                          n_estimators=150,\n",
    "                                          learning_rate=0.001\n",
    "                                      )\n",
    "        model = xgb_model.fit(X_train, y_train)\n",
    "\n",
    "        y_pred = model.predict(X_test)\n",
    "\n",
    "        MSE = mse(y_test, y_pred)\n",
    "        RMSE = np.sqrt(MSE)\n",
    "        \n",
    "        y_true_test_reduced = pd.concat([y_true_test, y_test], axis=1).dropna().iloc[:, 0]\n",
    "        y_pred_reduced = pd.concat([y_true_test, pd.DataFrame(data=y_pred, index=y_true_test.index)], axis=1).dropna().iloc[:, 1]\n",
    "\n",
    "        MSE_real = mse(y_true_test_reduced, y_pred_reduced)\n",
    "        RMSE_real = np.sqrt(MSE_real)\n",
    "\n",
    "        \n",
    "        print('Round', i, \"rmse\", RMSE)\n",
    "        result_dict['rmse'] += RMSE\n",
    "        result_dict['true_rmse'] += RMSE_real\n",
    "        if result_dict['best_rmse'] < RMSE:\n",
    "            result_dict['best_rmse'] = RMSE\n",
    "            result_dict['best_model'] = model\n",
    "            result_dict['best_true_rmse'] = RMSE_real\n",
    "\n",
    "    result_dict['rmse'] = result_dict['rmse']/n\n",
    "    result_dict['true_rmse'] = result_dict['true_rmse']/n\n",
    "    return result_dict     "
   ]
  },
  {
   "cell_type": "code",
   "execution_count": null,
   "metadata": {},
   "outputs": [
    {
     "name": "stdout",
     "output_type": "stream",
     "text": [
      "Round 0 rmse 7878.845507043332\n"
     ]
    }
   ],
   "source": [
    "result_dict = run_experiment_multiple_times(n=30)"
   ]
  },
  {
   "cell_type": "code",
   "execution_count": null,
   "metadata": {},
   "outputs": [],
   "source": [
    "result_dict"
   ]
  },
  {
   "cell_type": "code",
   "execution_count": null,
   "metadata": {},
   "outputs": [],
   "source": []
  }
 ],
 "metadata": {
  "kernelspec": {
   "display_name": "Python 3",
   "language": "python",
   "name": "python3"
  },
  "language_info": {
   "codemirror_mode": {
    "name": "ipython",
    "version": 3
   },
   "file_extension": ".py",
   "mimetype": "text/x-python",
   "name": "python",
   "nb