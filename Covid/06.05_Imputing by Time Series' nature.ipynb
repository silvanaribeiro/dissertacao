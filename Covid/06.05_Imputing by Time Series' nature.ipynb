{
 "cells": [
  {
   "cell_type": "code",
   "execution_count": 1,
   "metadata": {},
   "outputs": [],
   "source": [
    "from imputationLibrary import forwardFilling, hotDeck, meanImputation, movingAverage, splineInterpolation, separate, randomSampleImputation\n",
    "from imputationLibrary.util import util\n",
    "import pandas as pd\n",
    "from datetime import datetime, timedelta\n",
    "import numpy as np"
   ]
  },
  {
   "cell_type": "code",
   "execution_count": 2,
   "metadata": {},
   "outputs": [],
   "source": [
    "INPUT = 'output/\\CompleteCovid'"
   ]
  },
  {
   "cell_type": "code",
   "execution_count": 3,
   "metadata": {},
   "outputs": [],
   "source": [
    "df = pd.read_csv(r'output\\/CompleteCovid.csv',index_col=0, parse_dates=True)\n",
    "df_train = df.loc['2020-01-22 09:00:00':'2020-02-26 02:00:00'].dropna(how='all', axis=1) #Selecting training data\n",
    "df_test = df.loc['2020-02-26 03:00:00':, df_train.columns] #Selecting test data\n",
    "period=60"
   ]
  },
  {
   "cell_type": "code",
   "execution_count": 18,
   "metadata": {},
   "outputs": [
    {
     "name": "stdout",
     "output_type": "stream",
     "text": [
      "Could not determine nature of the feature Ontario_longitude and it will be assigned to a group randomly.\n",
      "Could not determine nature of the feature London, ON_longitude and it will be assigned to a group randomly.\n",
      "Could not determine nature of the feature British Columbia_longitude and it will be assigned to a group randomly.\n",
      "Could not determine nature of the feature Toronto, ON_longitude and it will be assigned to a group randomly.\n"
     ]
    }
   ],
   "source": [
    "df_white_noise, df_seasonal, df_trended, df_trend_and_seasonal = separate.separate(df_train, period)\n",
    "df_seasonal_train, df_seasonal_test = randomSampleImputation.input(df_train.loc[:, df_seasonal.columns], df_test.loc[:, df_seasonal.columns], sliding_window_size = 0.03)\n",
    "df_white_noise_train, df_white_noise_test =  meanImputation.input(df_train.loc[:, df_white_noise.columns], df_test.loc[:, df_white_noise.columns])\n",
    "df_trended_train, df_trended_test =  forwardFilling.input(df_train.loc[:, df_trended.columns], df_test.loc[:, df_trended.columns])\n",
    "df_trend_and_seasonal_train, df_trend_and_seasonal_test =  splineInterpolation.input(df_train.loc[:, df_trend_and_seasonal.columns], df_test.loc[:, df_trend_and_seasonal.columns])\n",
    "df_train = pd.concat([df_seasonal_train, df_white_noise_train, df_trended_train, df_trend_and_seasonal_train], axis=1, join='outer')\n",
    "df_test = pd.concat([df_seasonal_test, df_white_noise_test, df_trended_test, df_trend_and_seasonal_test], axis=1, join='outer')\n",
    "df_train.to_csv(r'output\\/CompleteCovidNatureTrain_0.csv', index = True)\n",
    "df_test.to_csv(r'output\\/CompleteCovidNatureTest_0.csv', index = True)\n",
    "    "
   ]
  },
  {
   "cell_type": "code",
   "execution_count": 19,
   "metadata": {
    "scrolled": true
   },
   "outputs": [
    {
     "data": {
      "text/plain": [
       "Index(['London, ON_longitude', 'Hubei_recovered', 'Zhejiang_deaths',\n",
       "       'Beijing_deaths', 'Beijing_recovered', 'Chongqing_recovered',\n",
       "       'Guangxi_recovered', 'Shanghai_recovered', 'Jiangxi_deaths',\n",
       "       'Jiangxi_recovered',\n",
       "       ...\n",
       "       'Lackland, TX (From Diamond Princess)_deaths',\n",
       "       'Lackland, TX (From Diamond Princess)_recovered',\n",
       "       'Omaha, NE (From Diamond Princess)_longitude',\n",
       "       'Omaha, NE (From Diamond Princess)_confirmed_cases',\n",
       "       'Omaha, NE (From Diamond Princess)_deaths',\n",
       "       'Omaha, NE (From Diamond Princess)_recovered',\n",
       "       'Unassigned Location (From Diamond Princess)_longitude',\n",
       "       'Unassigned Location (From Diamond Princess)_confirmed_cases',\n",
       "       'Unassigned Location (From Diamond Princess)_deaths',\n",
       "       'Unassigned Location (From Diamond Princess)_recovered'],\n",
       "      dtype='object', length=217)"
      ]
     },
     "execution_count": 19,
     "metadata": {},
     "output_type": "execute_result"
    }
   ],
   "source": [
    "df_white_noise.columns"
   ]
  },
  {
   "cell_type": "code",
   "execution_count": 20,
   "metadata": {},
   "outputs": [
    {
     "data": {
      "text/plain": [
       "Index(['Toronto, ON_longitude'], dtype='object')"
      ]
     },
     "execution_count": 20,
     "metadata": {},
     "output_type": "execute_result"
    }
   ],
   "source": [
    "df_seasonal.columns"
   ]
  },
  {
   "cell_type": "code",
   "execution_count": 21,
   "metadata": {},
   "outputs": [
    {
     "data": {
      "text/plain": [
       "Index(['Ontario_longitude', 'Hubei_latitude', 'Hubei_longitude',\n",
       "       'Beijing_latitude', 'Beijing_longitude', 'Guangxi_latitude',\n",
       "       'Guangxi_longitude', 'Shanghai_latitude', 'Shanghai_longitude',\n",
       "       'Jiangxi_latitude', 'Jiangxi_longitude', 'Anhui_latitude',\n",
       "       'Anhui_longitude', 'Shandong_latitude', 'Shandong_longitude',\n",
       "       'Fujian_latitude', 'Fujian_longitude', 'Jiangsu_latitude',\n",
       "       'Jiangsu_longitude', 'Hainan_latitude', 'Hainan_longitude',\n",
       "       'Hainan_confirmed_cases', 'Tianjin_latitude', 'Tianjin_longitude',\n",
       "       'Shaanxi_latitude', 'Shaanxi_longitude', 'Yunnan_latitude',\n",
       "       'Yunnan_longitude', 'Liaoning_latitude', 'Liaoning_longitude',\n",
       "       'Heilongjiang_latitude', 'Heilongjiang_longitude', 'Guizhou_latitude',\n",
       "       'Guizhou_longitude', 'Jilin_latitude', 'Jilin_longitude',\n",
       "       'Xinjiang_latitude', 'Xinjiang_longitude', 'Ningxia_latitude',\n",
       "       'Ningxia_longitude', 'Hebei_latitude', 'Hebei_longitude',\n",
       "       'Gansu_latitude', 'Gansu_longitude', 'Shanxi_latitude',\n",
       "       'Shanxi_longitude', 'Inner Mongolia_latitude',\n",
       "       'Inner Mongolia_longitude', 'Qinghai_latitude', 'Qinghai_longitude',\n",
       "       'Tibet_latitude', 'Tibet_longitude', 'Washington_latitude',\n",
       "       'Chicago_latitude', 'Illinois_latitude', 'California_latitude',\n",
       "       'Arizona_latitude', 'Ontario_latitude', 'New South Wales_longitude',\n",
       "       'Victoria_longitude', 'British Columbia_latitude',\n",
       "       'Queensland_longitude', 'South Australia_longitude',\n",
       "       'Chicago, IL_latitude', 'Boston, MA_latitude', 'Seattle, WA_latitude',\n",
       "       'Tempe, AZ_latitude', 'Los Angeles, CA_latitude', 'Orange, CA_latitude',\n",
       "       'Santa Clara, CA_latitude', 'San Benito, CA_latitude',\n",
       "       'London, ON_latitude', 'Toronto, ON_latitude', 'Madison, WI_latitude',\n",
       "       'San Diego County, CA_latitude', 'San Antonio, TX_latitude',\n",
       "       'Humboldt County, CA_latitude', 'Sacramento County, CA_latitude',\n",
       "       'Ashland, NE_latitude', 'Travis, CA_latitude', 'Lackland, TX_latitude',\n",
       "       'Travis, CA (From Diamond Princess)_latitude',\n",
       "       'Lackland, TX (From Diamond Princess)_latitude',\n",
       "       'Omaha, NE (From Diamond Princess)_latitude',\n",
       "       'Unassigned Location (From Diamond Princess)_latitude',\n",
       "       'Guangdong_confirmed_cases', 'Zhejiang_confirmed_cases',\n",
       "       'Chongqing_latitude', 'Chongqing_confirmed_cases', 'Hunan_longitude',\n",
       "       'Hunan_confirmed_cases', 'Henan_longitude', 'Henan_confirmed_cases',\n",
       "       'Hebei_confirmed_cases', 'British Columbia_longitude'],\n",
       "      dtype='object')"
      ]
     },
     "execution_count": 21,
     "metadata": {},
     "output_type": "execute_result"
    }
   ],
   "source": [
    "df_trended.columns"
   ]
  },
  {
   "cell_type": "code",
   "execution_count": 22,
   "metadata": {},
   "outputs": [
    {
     "data": {
      "text/plain": [
       "Index(['Hubei_confirmed_cases', 'Hubei_deaths', 'Guangdong_deaths',\n",
       "       'Guangdong_recovered', 'Zhejiang_recovered', 'Beijing_confirmed_cases',\n",
       "       'Chongqing_deaths', 'Hunan_deaths', 'Hunan_recovered',\n",
       "       'Guangxi_confirmed_cases', 'Guangxi_deaths', 'Shanghai_confirmed_cases',\n",
       "       'Shanghai_deaths', 'Jiangxi_confirmed_cases', 'Anhui_confirmed_cases',\n",
       "       'Anhui_deaths', 'Sichuan_confirmed_cases', 'Sichuan_deaths',\n",
       "       'Shandong_confirmed_cases', 'Fujian_confirmed_cases', 'Henan_deaths',\n",
       "       'Jiangsu_confirmed_cases', 'Hainan_deaths', 'Tianjin_confirmed_cases',\n",
       "       'Tianjin_deaths', 'Shaanxi_confirmed_cases', 'Yunnan_confirmed_cases',\n",
       "       'Liaoning_confirmed_cases', 'Heilongjiang_confirmed_cases',\n",
       "       'Heilongjiang_deaths', 'Guizhou_confirmed_cases',\n",
       "       'Jilin_confirmed_cases', 'Jilin_deaths', 'Xinjiang_confirmed_cases',\n",
       "       'Ningxia_confirmed_cases', 'Gansu_confirmed_cases',\n",
       "       'Shanxi_confirmed_cases', 'Inner Mongolia_confirmed_cases',\n",
       "       'Guangdong_latitude', 'Guangdong_longitude', 'Zhejiang_latitude',\n",
       "       'Zhejiang_longitude', 'Chongqing_longitude', 'Hunan_latitude',\n",
       "       'Sichuan_latitude', 'Sichuan_longitude', 'Henan_latitude'],\n",
       "      dtype='object')"
      ]
     },
     "execution_count": 22,
     "metadata": {},
     "output_type": "execute_result"
    }
   ],
   "source": [
    "df_trend_and_seasonal .columns"
   ]
  },
  {
   "cell_type": "code",
   "execution_count": null,
   "metadata": {},
   "outputs": [],
   "source": []
  }
 ],
 "metadata": {
  "kernelspec": {
   "display_name": "Mestrado",
   "language": "python",
   "name": "mestrado"
  },
  "language_info": {
   "codemirror_mode": {
    "name": "ipython",
    "version": 3
   },
   "file_extension": ".py",
   "mimetype": "text/x-python",
   "name": "python",
   "nbconvert_exporter": "python",
   "pygments_lexer": "ipython3",
   "version": "3.6.10"
  }
 },
 "nbformat": 4,
 "nbformat_minor": 2
}
