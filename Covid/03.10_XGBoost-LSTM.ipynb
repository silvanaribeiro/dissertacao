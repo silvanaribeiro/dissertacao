{
 "cells": [
  {
   "cell_type": "code",
   "execution_count": 1,
   "metadata": {},
   "outputs": [],
   "source": [
    "import numpy as np\n",
    "import pandas as pd\n",
    "from datetime import datetime\n",
    "\n",
    "from sklearn.datasets import load_breast_cancer\n",
    "from sklearn.metrics import confusion_matrix\n",
    "from sklearn.model_selection import GridSearchCV\n",
    "from sklearn.metrics import mean_squared_error as mse\n",
    "from sklearn.model_selection import TimeSeriesSplit\n",
    "\n",
    "import matplotlib.pyplot as plt\n",
    "\n",
    "import xgboost as xgb\n",
    "\n",
    "import warnings\n",
    "warnings.filterwarnings('ignore')"
   ]
  },
  {
   "cell_type": "code",
   "execution_count": 2,
   "metadata": {},
   "outputs": [],
   "source": [
    "def read_csv(file):\n",
    "    df = pd.read_csv(file, parse_dates=True, index_col=0)\n",
    "    return df"
   ]
  },
  {
   "cell_type": "markdown",
   "metadata": {},
   "source": [
    "## XGBoost for LSTM imputed dataset\n"
   ]
  },
  {
   "cell_type": "code",
   "execution_count": 3,
   "metadata": {
    "scrolled": true
   },
   "outputs": [
    {
     "name": "stdout",
     "output_type": "stream",
     "text": [
      "\n",
      "RMSE:  145.12\n",
      "\n",
      "RMSE with only real values:  13761.07\n"
     ]
    }
   ],
   "source": [
    "y_true = pd.read_csv(r'output\\/CompleteCovid.csv',index_col=0).Asia_confirmed_cases\n",
    "y_true_train = y_true.loc['2020-01-22 09:00:00':'2020-02-26 02:00:00']\n",
    "y_true_test =  y_true.loc['2020-02-26 02:30:00':]\n",
    "\n",
    "X_train = read_csv('output/\\lstm/\\CompleteCovidTrainLSTM10_0.csv')\n",
    "X_test = read_csv('output/\\lstm/\\CompleteCovidTestLSTM10_0.csv')\n",
    "\n",
    "y_train = X_train.Asia_confirmed_cases\n",
    "y_test = X_test.Asia_confirmed_cases\n",
    "\n",
    "X_train = X_train.drop('Asia_confirmed_cases', axis=1)\n",
    "X_test = X_test.drop('Asia_confirmed_cases', axis=1)\n",
    "\n",
    "\n",
    "xgb_model = xgb.XGBClassifier(objective=\"reg:squarederror\",\n",
    "                                  eval_metric = 'rmse',\n",
    "                                  max_depth=3,\n",
    "                                  n_estimators=120,\n",
    "                                  learning_rate=0.2\n",
    "                              )\n",
    "model = xgb_model.fit(X_train, y_train)\n",
    "\n",
    "y_pred = model.predict(X_test)\n",
    "\n",
    "MSE = mse(y_test, y_pred)\n",
    "RMSE = np.sqrt(MSE)\n",
    "\n",
    "print(\"\\nRMSE: \", np.round(RMSE, 2))\n",
    "\n",
    "\n",
    "y_true_test_reduced = pd.concat([y_true_test, y_test], axis=1).dropna().iloc[:, 0]\n",
    "y_pred_reduced = pd.concat([y_true_test, pd.DataFrame(data=y_pred, index=y_true_test.index)], axis=1).dropna().iloc[:, 1]\n",
    "\n",
    "MSE_real = mse(y_true_test_reduced, y_pred_reduced)\n",
    "RMSE_real = np.sqrt(MSE_real)\n",
    "\n",
    "print(\"\\nRMSE with only real values: \", np.round(RMSE_real, 2))"
   ]
  },
  {
   "cell_type": "code",
   "execution_count": 4,
   "metadata": {},
   "outputs": [],
   "source": [
    "def run_experiment_multiple_times(n=30):\n",
    "    result_dict = {}\n",
    "    result_dict= {'rmse':0, 'true_rmse':0, 'best_model':None, 'best_rmse':999999999999, 'best_true_rmse':999999999999}\n",
    "    list_rmse = []\n",
    "    list_true_rmse = []\n",
    "    \n",
    "    for i in range(0,n):\n",
    "        y_true = pd.read_csv(r'output\\/CompleteCovid.csv',index_col=0).Asia_confirmed_cases\n",
    "        y_true_train = y_true.loc['2020-01-22 09:00:00':'2020-02-26 02:00:00']\n",
    "        y_true_test =  y_true.loc['2020-02-26 02:30:00':]\n",
    "\n",
    "        X_train = read_csv('output/\\lstm/\\CompleteCovidTrainLSTM10_'+str(i)+'.csv')\n",
    "        X_test = read_csv('output/\\lstm/\\CompleteCovidTestLSTM10_'+str(i)+'.csv')\n",
    "\n",
    "        y_train = X_train.Asia_confirmed_cases\n",
    "        y_test = X_test.Asia_confirmed_cases\n",
    "\n",
    "        X_train = X_train.drop('Asia_confirmed_cases', axis=1)\n",
    "        X_test = X_test.drop('Asia_confirmed_cases', axis=1)\n",
    "\n",
    "\n",
    "        xgb_model = xgb.XGBClassifier(objective=\"reg:squarederror\",\n",
    "                                          eval_metric = 'rmse',\n",
    "                                          max_depth=3,\n",
    "                                          n_estimators=120,\n",
    "                                          learning_rate=0.2\n",
    "                                      )\n",
    "        model = xgb_model.fit(X_train, y_train)\n",
    "\n",
    "\n",
    "        y_pred = model.predict(X_test)\n",
    "\n",
    "        MSE = mse(y_test, y_pred)\n",
    "        RMSE = np.sqrt(MSE)\n",
    "        \n",
    "        y_true_test_reduced = pd.concat([y_true_test, y_test], axis=1).dropna().iloc[:, 0]\n",
    "        y_pred_reduced = pd.concat([y_true_test, pd.DataFrame(data=y_pred, index=y_true_test.index)], axis=1).dropna().iloc[:, 1]\n",
    "\n",
    "        MSE_real = mse(y_true_test_reduced, y_pred_reduced)\n",
    "        RMSE_real = np.sqrt(MSE_real)\n",
    "\n",
    "        print('Round', i, \"rmse\", RMSE)\n",
    "        print('Round', i, \"true rmse\", RMSE_real)\n",
    "        result_dict['rmse'] += RMSE\n",
    "        result_dict['true_rmse'] += RMSE_real\n",
    "        list_rmse.append(RMSE)\n",
    "        list_true_rmse.append(RMSE_real)\n",
    "        if result_dict['best_rmse'] > RMSE:\n",
    "            result_dict['best_rmse'] = RMSE\n",
    "            result_dict['best_model'] = model\n",
    "            result_dict['best_true_rmse'] = RMSE_real\n",
    "    print(\"STD RMSE\", np.std(list_rmse, axis=0))\n",
    "    print(\"STD True RMSE\", np.std(list_true_rmse, axis=0))\n",
    "    result_dict['rmse'] = result_dict['rmse']/n\n",
    "    result_dict['true_rmse'] = result_dict['true_rmse']/n\n",
    "    return result_dict     "
   ]
  },
  {
   "cell_type": "code",
   "execution_count": 5,
   "metadata": {},
   "outputs": [
    {
     "name": "stdout",
     "output_type": "stream",
     "text": [
      "Round 0 rmse 145.1150478154896\n",
      "Round 0 true rmse 13761.06648674596\n",
      "Round 1 rmse 872.393587594378\n",
      "Round 1 true rmse 13830.000259458753\n",
      "Round 2 rmse 1006.1020001036724\n",
      "Round 2 true rmse 13738.069677496049\n",
      "Round 3 rmse 196.60543728158186\n",
      "Round 3 true rmse 13752.34565306203\n",
      "Round 4 rmse 608.2575743941794\n",
      "Round 4 true rmse 13745.741415385084\n",
      "Round 5 rmse 427.91107108986165\n",
      "Round 5 true rmse 13754.2140578529\n",
      "Round 6 rmse 1437.982875107631\n",
      "Round 6 true rmse 13830.408259530628\n",
      "Round 7 rmse 170.41614710419512\n",
      "Round 7 true rmse 13818.95421431877\n",
      "Round 8 rmse 777.3176476012706\n",
      "Round 8 true rmse 13895.798108563498\n",
      "Round 9 rmse 919.9148565239695\n",
      "Round 9 true rmse 13816.705685528888\n",
      "Round 10 rmse 293.9848801088175\n",
      "Round 10 true rmse 13680.423664882323\n",
      "Round 11 rmse 1197.8016150655287\n",
      "Round 11 true rmse 13830.654423849932\n",
      "Round 12 rmse 636.6786533385786\n",
      "Round 12 true rmse 13830.20878538115\n",
      "Round 13 rmse 106.64076448122971\n",
      "Round 13 true rmse 13841.619450329317\n",
      "Round 14 rmse 467.1745929735251\n",
      "Round 14 true rmse 13846.085153671242\n",
      "Round 15 rmse 980.1096353345748\n",
      "Round 15 true rmse 13847.72883989732\n",
      "Round 16 rmse 129.65632784517055\n",
      "Round 16 true rmse 13885.372435971443\n",
      "Round 17 rmse 994.5349060929245\n",
      "Round 17 true rmse 13885.337300194005\n",
      "Round 18 rmse 212.2579695235008\n",
      "Round 18 true rmse 13859.162288064737\n",
      "Round 19 rmse 467.9103214678352\n",
      "Round 19 true rmse 13884.644395309162\n",
      "Round 20 rmse 155.48010581356846\n",
      "Round 20 true rmse 13751.943463261317\n",
      "Round 21 rmse 572.106409761887\n",
      "Round 21 true rmse 13757.670109384107\n",
      "Round 22 rmse 313.68871153799995\n",
      "Round 22 true rmse 13713.275008413995\n",
      "Round 23 rmse 573.1381519045655\n",
      "Round 23 true rmse 13709.941628971055\n",
      "Round 24 rmse 1132.1476798312463\n",
      "Round 24 true rmse 13829.923276230176\n",
      "Round 25 rmse 106.60229292320615\n",
      "Round 25 true rmse 13836.686963456248\n",
      "Round 26 rmse 543.9543195652248\n",
      "Round 26 true rmse 13840.653518965211\n",
      "Round 27 rmse 899.5787910551842\n",
      "Round 27 true rmse 13851.287859694796\n",
      "Round 28 rmse 128.82906743867267\n",
      "Round 28 true rmse 13795.887482303075\n",
      "Round 29 rmse 275.651772527067\n",
      "Round 29 true rmse 13693.963510957099\n",
      "STD RMSE 375.82130690641173\n",
      "STD True RMSE 60.248012209797736\n"
     ]
    }
   ],
   "source": [
    "result_dict = run_experiment_multiple_times(n=30)"
   ]
  },
  {
   "cell_type": "code",
   "execution_count": 6,
   "metadata": {},
   "outputs": [
    {
     "data": {
      "text/plain": [
       "{'rmse': 558.3314404402178,\n",
       " 'true_rmse': 13803.85911257101,\n",
       " 'best_model': XGBClassifier(base_score=0.5, booster='gbtree', colsample_bylevel=1,\n",
       "               colsample_bynode=1, colsample_bytree=1, eval_metric='rmse',\n",
       "               gamma=0, gpu_id=-1, importance_type='gain',\n",
       "               interaction_constraints='', learning_rate=0.2, max_delta_step=0,\n",
       "               max_depth=3, min_child_weight=1, missing=nan,\n",
       "               monotone_constraints='()', n_estimators=120, n_jobs=0,\n",
       "               num_parallel_tree=1, objective='multi:softprob', random_state=0,\n",
       "               reg_alpha=0, reg_lambda=1, scale_pos_weight=None, subsample=1,\n",
       "               tree_method='exact', validate_parameters=1, verbosity=None),\n",
       " 'best_rmse': 106.60229292320615,\n",
       " 'best_true_rmse': 13836.686963456248}"
      ]
     },
     "execution_count": 6,
     "metadata": {},
     "output_type": "execute_result"
    }
   ],
   "source": [
    "result_dict"
   ]
  },
  {
   "cell_type": "code",
   "execution_count": null,
   "metadata": {},
   "outputs": [],
   "source": []
  },
  {
   "cell_type": "code",
   "execution_count": null,
   "metadata": {},
   "outputs": [],
   "source": []
  }
 ],
 "metadata": {
  "kernelspec": {
   "display_name": "Python 3",
   "language": "python",
   "name": "python3"
  },
  "language_info": {
   "codemirror_mode": {
    "name": "ipython",
    "version": 3
   },
   "file_extension": ".py",
   "mimetype": "text/x-python",
   "name": "python",
   "nbconvert_exporter": "python",
   "pygments_lexer": "ipython3",
   "version": "3.6.10"
  }
 },
 "nbformat": 4,
 "nbformat_minor": 4
}
