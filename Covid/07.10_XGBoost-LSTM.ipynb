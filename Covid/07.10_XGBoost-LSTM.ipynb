{
 "cells": [
  {
   "cell_type": "code",
   "execution_count": 1,
   "metadata": {},
   "outputs": [],
   "source": [
    "import numpy as np\n",
    "import pandas as pd\n",
    "from datetime import datetime\n",
    "\n",
    "from sklearn.datasets import load_breast_cancer\n",
    "from sklearn.metrics import confusion_matrix\n",
    "from sklearn.model_selection import GridSearchCV\n",
    "from sklearn.metrics import mean_squared_error as mse\n",
    "from sklearn.model_selection import TimeSeriesSplit\n",
    "\n",
    "import matplotlib.pyplot as plt\n",
    "\n",
    "import xgboost as xgb\n",
    "\n",
    "import warnings\n",
    "warnings.filterwarnings('ignore')"
   ]
  },
  {
   "cell_type": "code",
   "execution_count": 2,
   "metadata": {},
   "outputs": [],
   "source": [
    "def read_csv(file):\n",
    "    df = pd.read_csv(file, parse_dates=True, index_col=0)\n",
    "    return df"
   ]
  },
  {
   "cell_type": "markdown",
   "metadata": {},
   "source": [
    "## XGBoost for LSTM imputed dataset\n"
   ]
  },
  {
   "cell_type": "code",
   "execution_count": 3,
   "metadata": {
    "scrolled": true
   },
   "outputs": [
    {
     "name": "stdout",
     "output_type": "stream",
     "text": [
      "\n",
      "RMSE:  145.12\n",
      "\n",
      "RMSE with only real values:  13761.07\n"
     ]
    }
   ],
   "source": [
    "y_true = pd.read_csv(r'output\\/CompleteCovid.csv',index_col=0).Asia_confirmed_cases\n",
    "y_true_train = y_true.loc['2020-01-22 09:00:00':'2020-02-26 02:00:00']\n",
    "y_true_test =  y_true.loc['2020-02-26 02:30:00':]\n",
    "\n",
    "X_train = read_csv('output/\\lstm/\\CompleteCovidTrainLSTM10_0.csv')\n",
    "X_test = read_csv('output/\\lstm/\\CompleteCovidTestLSTM10_0.csv')\n",
    "\n",
    "y_train = X_train.Asia_confirmed_cases\n",
    "y_test = X_test.Asia_confirmed_cases\n",
    "\n",
    "X_train = X_train.drop('Asia_confirmed_cases', axis=1)\n",
    "X_test = X_test.drop('Asia_confirmed_cases', axis=1)\n",
    "\n",
    "\n",
    "xgb_model = xgb.XGBClassifier(objective=\"reg:squarederror\",\n",
    "                                  eval_metric = 'rmse',\n",
    "                                  max_depth=3,\n",
    "                                  n_estimators=120,\n",
    "                                  learning_rate=0.2\n",
    "                              )\n",
    "model = xgb_model.fit(X_train, y_train)\n",
    "\n",
    "y_pred = model.predict(X_test)\n",
    "\n",
    "MSE = mse(y_test, y_pred)\n",
    "RMSE = np.sqrt(MSE)\n",
    "\n",
    "print(\"\\nRMSE: \", np.round(RMSE, 2))\n",
    "\n",
    "\n",
    "y_true_test_reduced = pd.concat([y_true_test, y_test], axis=1).dropna().iloc[:, 0]\n",
    "y_pred_reduced = pd.concat([y_true_test, pd.DataFrame(data=y_pred, index=y_true_test.index)], axis=1).dropna().iloc[:, 1]\n",
    "\n",
    "MSE_real = mse(y_true_test_reduced, y_pred_reduced)\n",
    "RMSE_real = np.sqrt(MSE_real)\n",
    "\n",
    "print(\"\\nRMSE with only real values: \", np.round(RMSE_real, 2))"
   ]
  },
  {
   "cell_type": "code",
   "execution_count": 10,
   "metadata": {},
   "outputs": [],
   "source": [
    "def run_experiment_multiple_times(n=30):\n",
    "    result_dict = {}\n",
    "    result_dict= {'rmse':0, 'true_rmse':0, 'best_model':None, 'best_rmse':999999999999, 'best_true_rmse':999999999999}\n",
    "    list_rmse = []\n",
    "    list_true_rmse = []\n",
    "    \n",
    "    for i in range(0,n):\n",
    "        y_true = pd.read_csv(r'output\\/CompleteCovid.csv',index_col=0).Asia_confirmed_cases\n",
    "        y_true_train = y_true.loc['2020-01-22 09:00:00':'2020-02-26 02:00:00']\n",
    "        y_true_test =  y_true.loc['2020-02-26 02:30:00':]\n",
    "        X_train = read_csv('output/\\lstm/\\CompleteCovidTrainLSTM10_'+str(i)+'.csv')\n",
    "        X_test = read_csv('output/\\lstm/\\CompleteCovidTestLSTM10_'+str(i)+'.csv')\n",
    "        \n",
    "        y_train = X_train.Asia_confirmed_cases\n",
    "        y_test = X_test.Asia_confirmed_cases\n",
    "        \n",
    "        xgb_model = xgb.XGBClassifier(objective=\"reg:squarederror\",\n",
    "                                          eval_metric = 'rmse',\n",
    "                                          max_depth=3,\n",
    "                                          n_estimators=120,\n",
    "                                          learning_rate=0.2\n",
    "                                      )\n",
    "        model = xgb_model.fit(X_train, y_train)\n",
    "\n",
    "        y_pred = model.predict(X_test)\n",
    "\n",
    "        MSE = mse(y_test, y_pred)\n",
    "        RMSE = np.sqrt(MSE)\n",
    "        \n",
    "        y_true_test_reduced = pd.concat([y_true_test, y_test], axis=1).dropna().iloc[:, 0]\n",
    "        y_pred_reduced = pd.concat([y_true_test, pd.DataFrame(data=y_pred, index=y_true_test.index)], axis=1).dropna().iloc[:, 1]\n",
    "\n",
    "        MSE_real = mse(y_true_test_reduced, y_pred_reduced)\n",
    "        RMSE_real = np.sqrt(MSE_real)\n",
    "\n",
    "        print('Round', i, \"rmse\", RMSE)\n",
    "        print('Round', i, \"true rmse\", RMSE_real)\n",
    "        result_dict['rmse'] += RMSE\n",
    "        result_dict['true_rmse'] += RMSE_real\n",
    "        list_rmse.append(RMSE)\n",
    "        list_true_rmse.append(RMSE_real)\n",
    "        if result_dict['best_rmse'] > RMSE:\n",
    "            result_dict['best_rmse'] = RMSE\n",
    "            result_dict['best_model'] = model\n",
    "            result_dict['best_true_rmse'] = RMSE_real\n",
    "\n",
    "    result_dict['rmse'] = result_dict['rmse']/n\n",
    "    result_dict['true_rmse'] = result_dict['true_rmse']/n\n",
    "    return result_dict     "
   ]
  },
  {
   "cell_type": "code",
   "execution_count": 11,
   "metadata": {},
   "outputs": [
    {
     "name": "stdout",
     "output_type": "stream",
     "text": [
      "Round 0 rmse 198.45182366782626\n",
      "Round 1 rmse 812.760985143152\n",
      "Round 2 rmse 299.080341874621\n",
      "Round 3 rmse 132.40215698059603\n",
      "Round 4 rmse 597.8326708440927\n",
      "Round 5 rmse 408.9628553211657\n",
      "Round 6 rmse 1383.1737402411666\n",
      "Round 7 rmse 90.30996011376224\n",
      "Round 8 rmse 500.3072828387369\n",
      "Round 9 rmse 906.271828058216\n",
      "Round 10 rmse 267.6497735881565\n",
      "Round 11 rmse 432.76910784599505\n",
      "Round 12 rmse 345.3178654091661\n",
      "Round 13 rmse 77.55841342382703\n",
      "Round 14 rmse 414.44710980323964\n",
      "Round 15 rmse 926.6603636747086\n",
      "Round 16 rmse 47.93031860746374\n",
      "Round 17 rmse 578.1569672902552\n",
      "Round 18 rmse 251.22890381316842\n",
      "Round 19 rmse 437.3865872030253\n",
      "Round 20 rmse 197.64863019415407\n",
      "Round 21 rmse 576.7618582907262\n",
      "Round 22 rmse 171.06277322364684\n",
      "Round 23 rmse 474.0247863059793\n",
      "Round 24 rmse 1165.2534913113734\n",
      "Round 25 rmse 64.3867391048545\n",
      "Round 26 rmse 507.22674846075563\n",
      "Round 27 rmse 171.31806720450274\n",
      "Round 28 rmse 99.54682643300733\n",
      "Round 29 rmse 281.77329448502655\n"
     ]
    }
   ],
   "source": [
    "result_dict = run_experiment_multiple_times(n=30)"
   ]
  },
  {
   "cell_type": "code",
   "execution_count": 12,
   "metadata": {},
   "outputs": [
    {
     "data": {
      "text/plain": [
       "{'rmse': 33333333760.555416,\n",
       " 'true_rmse': 33333347097.691124,\n",
       " 'best_model': XGBClassifier(base_score=0.5, booster='gbtree', colsample_bylevel=1,\n",
       "               colsample_bynode=1, colsample_bytree=1, eval_metric='rmse',\n",
       "               gamma=0, gpu_id=-1, importance_type='gain',\n",
       "               interaction_constraints='', learning_rate=0.2, max_delta_step=0,\n",
       "               max_depth=3, min_child_weight=1, missing=nan,\n",
       "               monotone_constraints='()', n_estimators=120, n_jobs=0,\n",
       "               num_parallel_tree=1, objective='multi:softprob', random_state=0,\n",
       "               reg_alpha=0, reg_lambda=1, scale_pos_weight=None, subsample=1,\n",
       "               tree_method='exact', validate_parameters=1, verbosity=None),\n",
       " 'best_rmse': 47.93031860746374,\n",
       " 'best_true_rmse': 13886.60015637856}"
      ]
     },
     "execution_count": 12,
     "metadata": {},
     "output_type": "execute_result"
    }
   ],
   "source": [
    "result_dict"
   ]
  },
  {
   "cell_type": "code",
   "execution_count": null,
   "metadata": {},
   "outputs": [],
   "source": []
  }
 ],
 "metadata": {
  "kernelspec": {
   "display_name": "Python 3",
   "language": "python",
   "name": "python3"
  },
  "language_info": {
   "codemirror_mode": {
    "name": "ipython",
    "version": 3
   },
   "file_extension": ".py",
   "mimetype": "text/x-python",
   "name": "python",
   "nbconvert_exporter": "python",
   "pygments_lexer": "ipython3",
   "version": "3.6.10"
  }
 },
 "nbformat": 4,
 "nbformat_minor": 4
}
