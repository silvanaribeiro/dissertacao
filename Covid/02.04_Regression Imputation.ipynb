{
 "cells": [
  {
   "cell_type": "markdown",
   "metadata": {},
   "source": [
    "## This notebook inputs the missing values using Regression"
   ]
  },
  {
   "cell_type": "code",
   "execution_count": 1,
   "metadata": {},
   "outputs": [],
   "source": [
    "import pandas as pd\n",
    "from datetime import datetime\n",
    "import numpy as np\n",
    "from sklearn.experimental import enable_iterative_imputer\n",
    "from sklearn.impute import IterativeImputer\n",
    "from sklearn import preprocessing"
   ]
  },
  {
   "cell_type": "markdown",
   "metadata": {},
   "source": [
    "#### Choose wether the imputation should be done on the data set with daily or weekly granularity"
   ]
  },
  {
   "cell_type": "code",
   "execution_count": 2,
   "metadata": {},
   "outputs": [],
   "source": [
    "INPUT, OUTPUT = 'output/\\CompleteCovid', 'output/\\RegressionCovidImputed'"
   ]
  },
  {
   "cell_type": "code",
   "execution_count": 3,
   "metadata": {},
   "outputs": [],
   "source": [
    "df = pd.read_csv(r'output\\/CompleteCovid.csv',index_col=0)\n",
    "df_train = df.loc['2020-01-22 09:00:00':'2020-02-26 02:00:00'].dropna(how='all', axis=1) #Selecting training data\n",
    "df_test = df.loc['2020-02-26 02:30:00':, df_train.columns] #Selecting test data\n",
    "df = df_train"
   ]
  },
  {
   "cell_type": "code",
   "execution_count": 4,
   "metadata": {},
   "outputs": [],
   "source": [
    "#Scaled data has zero mean and unit variance\n",
    "scaler = preprocessing.StandardScaler()\n",
    "scaler.fit(df)\n",
    "array = scaler.transform(df)\n",
    "array_test = scaler.transform(df_test)\n",
    "df_scaled = pd.DataFrame(data=array, index=df.index, columns=df.columns)\n",
    "df_test_scaled = pd.DataFrame(data=array_test, index=df_test.index, columns=df_test.columns)\n",
    "\n",
    "imp = IterativeImputer(max_iter=10, random_state=0)\n",
    "imp.fit(df_scaled)\n",
    "df_imputed = imp.transform(df_scaled)\n",
    "df_test_imputed = imp.transform(df_test_scaled)\n",
    "df_final = pd.DataFrame(data=df_imputed, index=df.index, columns=df.columns)\n",
    "df_test_final = pd.DataFrame(data=df_test_imputed, index=df_test.index, columns=df_test.columns)\n",
    "\n",
    "# Descaling the data\n",
    "array_2 = scaler.inverse_transform(df_final)\n",
    "df_final2 = pd.DataFrame(data=array_2, index=df.index, columns=df.columns)\n",
    "\n",
    "array_test_2 = scaler.inverse_transform(df_test_final)\n",
    "df_test_final2 = pd.DataFrame(data=array_test_2, index=df_test.index, columns=df_test.columns)\n",
    "df_final2.to_csv(OUTPUT+'_0_training.csv', index = True)\n",
    "df_test_final2.to_csv(OUTPUT+'_0_test.csv', index = True)"
   ]
  },
  {
   "cell_type": "code",
   "execution_count": null,
   "metadata": {},
   "outputs": [],
   "source": []
  }
 ],
 "metadata": {
  "kernelspec": {
   "display_name": "Python 3",
   "language": "python",
   "name": "python3"
  },
  "language_info": {
   "codemirror_mode": {
    "name": "ipython",
    "version": 3
   },
   "file_extension": ".py",
   "mimetype": "text/x-python",
   "name": "python",
   "nbconvert_exporter": "python",
   "pygments_lexer": "ipython3",
   "version": "3.6.10"
  }
 },
 "nbformat": 4,
 "nbformat_minor": 4
}
