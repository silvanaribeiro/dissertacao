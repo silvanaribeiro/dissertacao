{
 "cells": [
  {
   "cell_type": "code",
   "execution_count": 8,
   "metadata": {},
   "outputs": [],
   "source": [
    "from imputationLibrary import forwardFilling, hotDeck, meanImputation, movingAverage, splineInterpolation, randomSampleImputation\n",
    "from imputationLibrary.util import util\n",
    "import pandas as pd\n",
    "from datetime import datetime, timedelta\n",
    "import numpy as np\n",
    "from sklearn.cluster import AgglomerativeClustering\n",
    "from sklearn import preprocessing\n",
    "import matplotlib.pyplot as plt"
   ]
  },
  {
   "cell_type": "code",
   "execution_count": 9,
   "metadata": {},
   "outputs": [],
   "source": [
    "INPUT = 'output/\\CompleteWeeklyIndexes'"
   ]
  },
  {
   "cell_type": "code",
   "execution_count": 10,
   "metadata": {},
   "outputs": [],
   "source": [
    "df = pd.read_csv(INPUT+'.csv', parse_dates=True, index_col=0).drop('vix_Close', axis=1)\n",
    "df_train = df.loc['2000-01-01':'2015-01-01']\n",
    "df_test = df.loc['2015-01-02':]\n",
    "\n",
    "df_train_T = df_train.transpose()"
   ]
  },
  {
   "cell_type": "code",
   "execution_count": 11,
   "metadata": {},
   "outputs": [],
   "source": [
    "df_train_0_imp = df_train_T.fillna(0)\n",
    "scaler = preprocessing.StandardScaler()\n",
    "scaler.fit(df_train_0_imp)\n",
    "array = scaler.transform(df_train_0_imp)\n",
    "df_scaled = pd.DataFrame(data=array, index=df_train_T.index, columns=df_train_T.columns)"
   ]
  },
  {
   "cell_type": "code",
   "execution_count": 41,
   "metadata": {},
   "outputs": [],
   "source": [
    "clustering_4 = AgglomerativeClustering(n_clusters=4, linkage='complete', affinity='manhattan').fit(df_scaled)\n",
    "clustering_3 = AgglomerativeClustering(n_clusters=3, linkage='complete', affinity='manhattan').fit(df_scaled)"
   ]
  },
  {
   "cell_type": "code",
   "execution_count": 42,
   "metadata": {},
   "outputs": [],
   "source": [
    "df_train_T[\"clusters_4\"] = clustering_4.labels_\n",
    "df_train_T[\"clusters_3\"] = clustering_3.labels_"
   ]
  },
  {
   "cell_type": "code",
   "execution_count": 43,
   "metadata": {},
   "outputs": [
    {
     "name": "stdout",
     "output_type": "stream",
     "text": [
      "Cluster 1  Index(['ndx_Volume', 'ftse_Volume'], dtype='object')\n",
      "Cluster 2  Index(['sp500_Close', 'vix_Volume', 'dji_Close', 'dji_Volume', 'ndx_Close',\n",
      "       'n225_Close', 'n225_Volume', 'ftse_Close', 'hsi_Close', 'n100_Close',\n",
      "       'n100_Volume', 'Overall EMV Tracker',\n",
      "       'infectious_daily_infect_emv_index', 'GPR',\n",
      "       'trade_US Trade Policy Uncertainty',\n",
      "       'trade_Japanese Trade Policy Uncertainty',\n",
      "       'trade_Trade Policy EMV Fraction'],\n",
      "      dtype='object')\n",
      "Cluster 3  Index(['sp500_Volume'], dtype='object')\n",
      "Cluster 4  Index(['hsi_Volume'], dtype='object')\n"
     ]
    }
   ],
   "source": [
    "print(\"Cluster 1 \", df_train_T[df_train_T['clusters_4'] == 0].index)\n",
    "print(\"Cluster 2 \", df_train_T[df_train_T['clusters_4'] == 1].index)\n",
    "print(\"Cluster 3 \", df_train_T[df_train_T['clusters_4'] == 2].index)\n",
    "print(\"Cluster 4 \", df_train_T[df_train_T['clusters_4'] == 3].index)"
   ]
  },
  {
   "cell_type": "code",
   "execution_count": 44,
   "metadata": {},
   "outputs": [
    {
     "name": "stdout",
     "output_type": "stream",
     "text": [
      "Cluster 1  Index(['sp500_Close', 'vix_Volume', 'dji_Close', 'dji_Volume', 'ndx_Close',\n",
      "       'n225_Close', 'n225_Volume', 'ftse_Close', 'hsi_Close', 'hsi_Volume',\n",
      "       'n100_Close', 'n100_Volume', 'Overall EMV Tracker',\n",
      "       'infectious_daily_infect_emv_index', 'GPR',\n",
      "       'trade_US Trade Policy Uncertainty',\n",
      "       'trade_Japanese Trade Policy Uncertainty',\n",
      "       'trade_Trade Policy EMV Fraction'],\n",
      "      dtype='object')\n",
      "Cluster 2  Index(['ndx_Volume', 'ftse_Volume'], dtype='object')\n",
      "Cluster 3  Index(['sp500_Volume'], dtype='object')\n"
     ]
    }
   ],
   "source": [
    "print(\"Cluster 1 \", df_train_T[df_train_T['clusters_3'] == 0].index)\n",
    "print(\"Cluster 2 \", df_train_T[df_train_T['clusters_3'] == 1].index)\n",
    "print(\"Cluster 3 \", df_train_T[df_train_T['clusters_3'] == 2].index)"
   ]
  },
  {
   "cell_type": "code",
   "execution_count": null,
   "metadata": {},
   "outputs": [],
   "source": []
  },
  {
   "cell_type": "code",
   "execution_count": null,
   "metadata": {},
   "outputs": [],
   "source": []
  }
 ],
 "metadata": {
  "kernelspec": {
   "display_name": "Python 3",
   "language": "python",
   "name": "python3"
  },
  "language_info": {
   "codemirror_mode": {
    "name": "ipython",
    "version": 3
   },
   "file_extension": ".py",
   "mimetype": "text/x-python",
   "name": "python",
   "nbconvert_exporter": "python",
   "pygments_lexer": "ipython3",
   "version": "3.6.10"
  }
 },
 "nbformat": 4,
 "nbformat_minor": 4
}
