{
 "cells": [
  {
   "cell_type": "code",
   "execution_count": 9,
   "metadata": {},
   "outputs": [],
   "source": [
    "from imputationLibrary import decompose, forwardFilling, hotDeck, meanImputation, movingAverage, splineInterpolation, randomSampleImputation, nature\n",
    "import pandas as pd\n",
    "import matplotlib.pyplot as plt\n",
    "import numpy as np\n",
    "from scipy import signal\n",
    "from sklearn import preprocessing\n",
    "from datetime import datetime, timedelta"
   ]
  },
  {
   "cell_type": "code",
   "execution_count": 10,
   "metadata": {},
   "outputs": [],
   "source": [
    "INPUT = 'output/\\CompleteWeeklyIndexes'"
   ]
  },
  {
   "cell_type": "code",
   "execution_count": 11,
   "metadata": {},
   "outputs": [],
   "source": [
    "df = pd.read_csv(INPUT+'.csv', parse_dates=True, index_col=0)\n",
    "df_test = df.loc['2015-01-02':] #Selecting test data\n",
    "df_train = df.loc['2000-01-01':'2015-01-01'] #Selecting training data\n",
    "df_filled = df_train.fillna(0.000001)\n",
    "df_filled_test = df_test.fillna(0.000001)"
   ]
  },
  {
   "cell_type": "code",
   "execution_count": 12,
   "metadata": {},
   "outputs": [],
   "source": [
    "df_decomposed_resid = pd.DataFrame()\n",
    "df_decomposed_trend = pd.DataFrame()\n",
    "df_decomposed_seasonal = pd.DataFrame()\n",
    "\n",
    "df_decomposed_resid_test = pd.DataFrame()\n",
    "df_decomposed_trend_test = pd.DataFrame()\n",
    "df_decomposed_seasonal_test = pd.DataFrame()\n",
    "\n",
    "df_nan = df_train.isna()\n",
    "df_nan_test = df_test.isna()"
   ]
  },
  {
   "cell_type": "code",
   "execution_count": 13,
   "metadata": {},
   "outputs": [],
   "source": [
    "def plot_ac(df, name):\n",
    "    df = df.astype(float)\n",
    "    #scaled = preprocessing.StandardScaler().fit_transform([np.array(df.fillna(0))])\n",
    "    normalized = preprocessing.normalize(np.array([np.array(df.fillna(0))]))\n",
    "    corr = signal.correlate(normalized, normalized, mode='full')\n",
    "    plt.plot(corr[0], 'o-', markersize=2)\n",
    "    plt.axhline(2/np.sqrt(len(df)), ls=':')\n",
    "    plt.axhline(-2/np.sqrt(len(df)), ls=':')\n",
    "    plt.title(name + ' auto-correlation')\n",
    "    plt.show()"
   ]
  },
  {
   "cell_type": "code",
   "execution_count": 14,
   "metadata": {},
   "outputs": [],
   "source": [
    "def decompose_and_plot(ts, flag_plot = False):\n",
    "    ts_decomposed, decomp_type = decompose.decompose(ts)\n",
    "    print(decomp_type)\n",
    "    if flag_plot:\n",
    "        ts_decomposed.plot()\n",
    "        plt.show()\n",
    "        print(\"Resid is white noise? \", nature.isWhiteNoise(ts_decomposed.resid))\n",
    "        print(\"Resid is seasonal noise? \", nature.isSeasonal(ts_decomposed.resid))\n",
    "        print(\"Resid is trended noise? \", nature.isTrended(ts_decomposed.resid))\n",
    "        print(\"Resid is seasonal and trended noise? \", nature.isTrendedAndSeasonal(ts_decomposed.resid))\n",
    "        plot_ac(ts_decomposed.resid, \"Resid\")\n",
    "        plot_ac(ts_decomposed.trend, \"Trend\")\n",
    "        plot_ac(ts_decomposed.seasonal, \"Seasonal\")\n",
    "    return ts_decomposed.resid, ts_decomposed.trend, ts_decomposed.seasonal, decomp_type\n",
    "    "
   ]
  },
  {
   "cell_type": "code",
   "execution_count": 15,
   "metadata": {},
   "outputs": [],
   "source": [
    "# Subsample para weekly\n",
    "\n",
    "# Generating weekly sampled dataset\n",
    "def generate_weekly(df, initial_friday):\n",
    "    df_friday = initial_friday #datetime(2000,1,7)\n",
    "\n",
    "    df_weekly = pd.DataFrame(columns = df.columns)\n",
    "    \n",
    "    while df_friday <= df.tail(1).index:\n",
    "        df_weekly = df_weekly.append(df.loc[df_friday])\n",
    "        df_friday+=timedelta(days=7)\n",
    "    return df_weekly"
   ]
  },
  {
   "cell_type": "code",
   "execution_count": 16,
   "metadata": {},
   "outputs": [
    {
     "name": "stdout",
     "output_type": "stream",
     "text": [
      "multiplicative\n",
      "multiplicative\n",
      "multiplicative\n",
      "Multiplicative seasonality is not appropriate for zero and negative values\n",
      "additive\n",
      "multiplicative\n",
      "multiplicative\n",
      "multiplicative\n",
      "multiplicative\n",
      "multiplicative\n",
      "Multiplicative seasonality is not appropriate for zero and negative values\n",
      "additive\n",
      "multiplicative\n",
      "multiplicative\n",
      "multiplicative\n",
      "Multiplicative seasonality is not appropriate for zero and negative values\n",
      "additive\n",
      "multiplicative\n",
      "Multiplicative seasonality is not appropriate for zero and negative values\n",
      "additive\n",
      "multiplicative\n",
      "Multiplicative seasonality is not appropriate for zero and negative values\n",
      "additive\n",
      "multiplicative\n",
      "multiplicative\n",
      "multiplicative\n",
      "multiplicative\n",
      "multiplicative\n",
      "multiplicative\n",
      "multiplicative\n",
      "Multiplicative seasonality is not appropriate for zero and negative values\n",
      "additive\n",
      "multiplicative\n",
      "multiplicative\n",
      "multiplicative\n",
      "multiplicative\n",
      "multiplicative\n",
      "Multiplicative seasonality is not appropriate for zero and negative values\n",
      "additive\n",
      "multiplicative\n",
      "multiplicative\n",
      "multiplicative\n",
      "multiplicative\n",
      "multiplicative\n",
      "Multiplicative seasonality is not appropriate for zero and negative values\n",
      "additive\n",
      "multiplicative\n",
      "Multiplicative seasonality is not appropriate for zero and negative values\n",
      "additive\n",
      "multiplicative\n",
      "multiplicative\n",
      "multiplicative\n",
      "multiplicative\n"
     ]
    }
   ],
   "source": [
    "decomp_type_dict_train = {}\n",
    "decomp_type_dict_test = {}\n",
    "for col in df_filled.columns:\n",
    "    resid, trend, seasonal, decomp_type = decompose_and_plot(df_filled.loc[:,col])\n",
    "    decomp_type_dict_train[col] = decomp_type\n",
    "    df_decomposed_resid[col] = resid\n",
    "    df_decomposed_trend[col] = trend\n",
    "    df_decomposed_seasonal[col] = seasonal\n",
    "\n",
    "for col in df_filled_test.columns:\n",
    "    resid, trend, seasonal, decomp_type = decompose_and_plot(df_filled_test.loc[:,col])\n",
    "    decomp_type_dict_test[col] = decomp_type\n",
    "    df_decomposed_resid_test[col] = resid\n",
    "    df_decomposed_trend_test[col] = trend\n",
    "    df_decomposed_seasonal_test[col] = seasonal\n",
    "\n",
    "df_final_resid = df_decomposed_resid.mask(df_nan == True, np.nan)\n",
    "df_final_trend = df_decomposed_trend.mask(df_nan == True, np.nan)\n",
    "df_final_seasonal = df_decomposed_seasonal.mask(df_nan == True, np.nan)\n",
    "\n",
    "df_final_resid_test = df_decomposed_resid_test.mask(df_nan_test == True, np.nan)\n",
    "df_final_trend_test = df_decomposed_trend_test.mask(df_nan_test == True, np.nan)\n",
    "df_final_seasonal_test = df_decomposed_seasonal_test.mask(df_nan_test == True, np.nan)\n",
    "\n",
    "df_white_noise_train, df_white_noise_test =  meanImputation.input(df_final_resid, df_final_resid_test)\n",
    "df_seasonal_train, df_seasonal_test = splineInterpolation.input(df_final_seasonal, df_final_seasonal_test)\n",
    "df_trended_train, df_trended_test = forwardFilling.input(df_final_trend, df_final_trend_test)\n",
    "\n",
    "df_final_train = pd.DataFrame(index = df_filled.index, columns = df_filled.columns)\n",
    "df_final_test = pd.DataFrame(index = df_filled_test.index, columns = df_filled_test.columns)\n",
    "for col in df_filled.columns:\n",
    "    if decomp_type_dict_train[col] == \"additive\":\n",
    "        df_final_train[col] = df_white_noise_train[col] + df_seasonal_train[col] + df_trended_train[col]\n",
    "    else:\n",
    "        df_final_train[col] = df_white_noise_train[col] * df_seasonal_train[col] * df_trended_train[col]\n",
    "    if decomp_type_dict_test[col] == \"additive\":\n",
    "        df_final_test[col] = df_white_noise_test[col] + df_seasonal_test[col] + df_trended_test[col]\n",
    "    else:\n",
    "        df_final_test[col] = df_white_noise_test[col] * df_seasonal_test[col] * df_trended_test[col]\n",
    "\n",
    "df_train_weekly = generate_weekly(df_final_train, datetime(2000,1,7))\n",
    "df_test_weekly = generate_weekly(df_final_test, datetime(2015,1,2))\n",
    "\n",
    "df_train_weekly.to_csv(r'output\\/CompleteIndexesWeeklyTrain_decomp_0.csv', index = True)\n",
    "df_test_weekly.to_csv(r'output\\/CompleteIndexesWeeklyTest_decomp_0.csv', index = True)"
   ]
  },
  {
   "cell_type": "code",
   "execution_count": null,
   "metadata": {},
   "outputs": [],
   "source": []
  }
 ],
 "metadata": {
  "kernelspec": {
   "display_name": "Python 3",
   "language": "python",
   "name": "python3"
  },
  "language_info": {
   "codemirror_mode": {
    "name": "ipython",
    "version": 3
   },
   "file_extension": ".py",
   "mimetype": "text/x-python",
   "name": "python",
   "nbconvert_exporter": "python",
   "pygments_lexer": "ipython3",
   "version": "3.6.10"
  }
 },
 "nbformat": 4,
 "nbformat_minor": 4
}
