{
 "cells": [
  {
   "cell_type": "code",
   "execution_count": 1,
   "metadata": {},
   "outputs": [],
   "source": [
    "import ffn\n",
    "from imputationLibrary import forwardFilling, hotDeck, meanImputation, movingAverage, splineInterpolation, separate, randomSampleImputation\n",
    "from imputationLibrary.util import util\n",
    "import pandas as pd\n",
    "from datetime import datetime, timedelta\n",
    "import numpy as np"
   ]
  },
  {
   "cell_type": "code",
   "execution_count": 2,
   "metadata": {},
   "outputs": [],
   "source": [
    "INPUT = 'output/\\CompleteWeeklyIndexes'"
   ]
  },
  {
   "cell_type": "code",
   "execution_count": 3,
   "metadata": {},
   "outputs": [],
   "source": [
    "df = pd.read_csv(INPUT+'.csv', parse_dates=True, index_col=0)\n",
    "df_test = df.loc['2015-01-02':] #Selecting test data\n",
    "df_train = df.loc['2000-01-01':'2015-01-01'] #Selecting training data"
   ]
  },
  {
   "cell_type": "code",
   "execution_count": 13,
   "metadata": {},
   "outputs": [
    {
     "data": {
      "text/plain": [
       "{1: ['vix_Volume'],\n",
       " 2: ['trade_Trade Policy EMV Fraction'],\n",
       " 3: ['n100_Volume',\n",
       "  'sp500_Volume',\n",
       "  'ndx_Volume',\n",
       "  'n225_Volume',\n",
       "  'hsi_Close',\n",
       "  'hsi_Volume'],\n",
       " 4: ['Overall EMV Tracker', 'vix_Close'],\n",
       " 5: ['sp500_Close',\n",
       "  'dji_Close',\n",
       "  'ndx_Close',\n",
       "  'n225_Close',\n",
       "  'ftse_Close',\n",
       "  'n100_Close'],\n",
       " 6: ['dji_Volume', 'ftse_Volume'],\n",
       " 7: ['GPR'],\n",
       " 8: ['infectious_daily_infect_emv_index'],\n",
       " 9: ['trade_Japanese Trade Policy Uncertainty'],\n",
       " 10: ['trade_US Trade Policy Uncertainty']}"
      ]
     },
     "execution_count": 13,
     "metadata": {},
     "output_type": "execute_result"
    }
   ],
   "source": [
    "df_train.calc_ftca(threshold=0.5)"
   ]
  },
  {
   "cell_type": "code",
   "execution_count": null,
   "metadata": {},
   "outputs": [],
   "source": []
  }
 ],
 "metadata": {
  "kernelspec": {
   "display_name": "Mestrado",
   "language": "python",
   "name": "mestrado"
  },
  "language_info": {
   "codemirror_mode": {
    "name": "ipython",
    "version": 3
   },
   "file_extension": ".py",
   "mimetype": "text/x-python",
   "name": "python",
   "nbconvert_exporter": "python",
   "pygments_lexer": "ipython3",
   "version": "3.6.10"
  }
 },
 "nbformat": 4,
 "nbformat_minor": 4
}
