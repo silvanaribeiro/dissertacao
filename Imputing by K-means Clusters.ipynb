{
 "cells": [
  {
   "cell_type": "code",
   "execution_count": 1,
   "metadata": {},
   "outputs": [],
   "source": [
    "from imputationLibrary import forwardFilling, hotDeck, meanImputation, movingAverage, splineInterpolation, randomSampleImputation, util\n",
    "from imputationLibrary.util import util\n",
    "import pandas as pd\n",
    "from datetime import datetime, timedelta\n",
    "import numpy as np\n",
    "from sklearn.cluster import KMeans\n",
    "from sklearn import preprocessing\n",
    "from scipy import signal\n",
    "import matplotlib.pyplot as plt"
   ]
  },
  {
   "cell_type": "code",
   "execution_count": 52,
   "metadata": {},
   "outputs": [],
   "source": [
    "INPUT = 'output/\\CompleteWeeklyIndexes'"
   ]
  },
  {
   "cell_type": "code",
   "execution_count": 53,
   "metadata": {},
   "outputs": [],
   "source": [
    "def calc_acc(col):\n",
    "    normalized = preprocessing.normalize([np.array(col.fillna(0))])\n",
    "    corr = signal.correlate(normalized, normalized, mode='full')\n",
    "    return pd.Series(corr.T[-len(col.index):].reshape(-1), index = col.index)"
   ]
  },
  {
   "cell_type": "code",
   "execution_count": 61,
   "metadata": {},
   "outputs": [],
   "source": [
    "df = pd.read_csv(INPUT+'.csv', parse_dates=True, index_col=0).drop('vix_Close', axis=1)\n",
    "df_train = df.loc['2000-01-01':'2015-01-01']\n",
    "df_test = df.loc['2015-01-02':]"
   ]
  },
  {
   "cell_type": "code",
   "execution_count": 62,
   "metadata": {},
   "outputs": [],
   "source": [
    "trend_seasonal_train = util.generate_trend_and_seasonal(df_train.index).rename(\"trend_seasonal\")\n",
    "trend_train = util.generate_trended(df_train.index).rename(\"trend\")\n",
    "seasonal_train = util.generate_seasonal(df_train.index).rename(\"seasonal\")\n",
    "white_noise_train = util.generate_white_noise(df_train.index).rename(\"white_noise\")\n",
    "\n",
    "#trend_seasonal_test = util.generate_trend_and_seasonal(df_test.index).rename(columns={\"0\": \"trend_seasonal\"})\n",
    "#trend_test = util.generate_trended(df_test.index)\n",
    "#seasonal_test = util.generate_seasonal(df_test.index)\n",
    "#white_noise_test = util.generate_white_noise(df_test.index)"
   ]
  },
  {
   "cell_type": "code",
   "execution_count": 63,
   "metadata": {},
   "outputs": [
    {
     "data": {
      "text/plain": [
       "pandas.core.series.Series"
      ]
     },
     "execution_count": 63,
     "metadata": {},
     "output_type": "execute_result"
    }
   ],
   "source": [
    "type(trend_seasonal_train)"
   ]
  },
  {
   "cell_type": "code",
   "execution_count": 64,
   "metadata": {},
   "outputs": [],
   "source": [
    "df_train = pd.concat([df_train, trend_seasonal_train, trend_train, seasonal_train, white_noise_train], axis=1, join='outer')\n",
    "df_test = pd.concat([df_test, trend_seasonal_test, trend_test, seasonal_test, white_noise_test], axis=1, join='outer')"
   ]
  },
  {
   "cell_type": "code",
   "execution_count": 65,
   "metadata": {},
   "outputs": [
    {
     "data": {
      "text/plain": [
       "Index(['sp500_Close', 'sp500_Volume', 'vix_Volume', 'dji_Close', 'dji_Volume',\n",
       "       'ndx_Close', 'ndx_Volume', 'n225_Close', 'n225_Volume', 'ftse_Close',\n",
       "       'ftse_Volume', 'hsi_Close', 'hsi_Volume', 'n100_Close', 'n100_Volume',\n",
       "       'Overall EMV Tracker', 'infectious_daily_infect_emv_index', 'GPR',\n",
       "       'trade_US Trade Policy Uncertainty',\n",
       "       'trade_Japanese Trade Policy Uncertainty',\n",
       "       'trade_Trade Policy EMV Fraction', 'trend_seasonal', 'trend',\n",
       "       'seasonal', 'white_noise'],\n",
       "      dtype='object')"
      ]
     },
     "execution_count": 65,
     "metadata": {},
     "output_type": "execute_result"
    }
   ],
   "source": [
    "df_train.columns"
   ]
  },
  {
   "cell_type": "code",
   "execution_count": 66,
   "metadata": {},
   "outputs": [],
   "source": [
    "df_train_acc = df_train.apply(calc_acc)\n",
    "df_train_T = df_train_acc.transpose()"
   ]
  },
  {
   "cell_type": "code",
   "execution_count": 67,
   "metadata": {},
   "outputs": [],
   "source": [
    "df_train_0_imp = df_train_T.fillna(0)\n",
    "scaler = preprocessing.StandardScaler()\n",
    "scaler.fit(df_train_0_imp)\n",
    "array = scaler.transform(df_train_0_imp)\n",
    "df_scaled = pd.DataFrame(data=array, index=df_train_T.index, columns=df_train_T.columns)"
   ]
  },
  {
   "cell_type": "code",
   "execution_count": 68,
   "metadata": {},
   "outputs": [
    {
     "data": {
      "image/png": "[encoded data removed]",
      "text/plain": [
       "<Figure size 1296x576 with 1 Axes>"
      ]
     },
     "metadata": {
      "needs_background": "light"
     },
     "output_type": "display_data"
    }
   ],
   "source": [
    "sse = {}\n",
    "for k in range(1, 10):\n",
    "    kmeans = KMeans(n_clusters=k, max_iter=1000).fit(df_scaled)\n",
    "\n",
    "    sse[k] = kmeans.inertia_ \n",
    "plt.figure(figsize=(18,8))\n",
    "plt.plot(list(sse.keys()), list(sse.values()))\n",
    "plt.xlabel(\"Number of cluster\")\n",
    "plt.ylabel(\"SSE\")\n",
    "plt.show()"
   ]
  },
  {
   "cell_type": "code",
   "execution_count": 69,
   "metadata": {},
   "outputs": [],
   "source": [
    "# Tem um joelho em 2 e em 3"
   ]
  },
  {
   "cell_type": "code",
   "execution_count": 70,
   "metadata": {},
   "outputs": [],
   "source": [
    "#kmeans_5 = KMeans(init=\"k-means++\", n_clusters=5, n_init=4,\n",
    "#                random_state=0).fit(df_scaled)\n",
    "kmeans_4 = KMeans(init=\"k-means++\", n_clusters=4, n_init=4,\n",
    "                random_state=0).fit(df_scaled)\n",
    "kmeans_3 = KMeans(init=\"k-means++\", n_clusters=3, n_init=4,\n",
    "                random_state=0).fit(df_scaled)\n",
    "kmeans_2 = KMeans(init=\"k-means++\", n_clusters=2, n_init=4,\n",
    "                random_state=0).fit(df_scaled)"
   ]
  },
  {
   "cell_type": "code",
   "execution_count": 71,
   "metadata": {},
   "outputs": [],
   "source": [
    "#df_train_T[\"clusters_5\"] = kmeans_5.labels_\n",
    "df_train_T[\"clusters_4\"] = kmeans_4.labels_\n",
    "df_train_T[\"clusters_3\"] = kmeans_3.labels_\n",
    "df_train_T[\"clusters_2\"] = kmeans_2.labels_"
   ]
  },
  {
   "cell_type": "code",
   "execution_count": 72,
   "metadata": {},
   "outputs": [],
   "source": [
    "#print(\"Cluster 1 \", df_train_T[df_train_T['clusters_5'] == 0].index)\n",
    "#print(\"Cluster 2 \", df_train_T[df_train_T['clusters_5'] == 1].index)\n",
    "#print(\"Cluster 3 \", df_train_T[df_train_T['clusters_5'] == 2].index)\n",
    "#print(\"Cluster 4 \", df_train_T[df_train_T['clusters_5'] == 3].index)\n",
    "#print(\"Cluster 5 \", df_train_T[df_train_T['clusters_5'] == 4].index)"
   ]
  },
  {
   "cell_type": "code",
   "execution_count": 73,
   "metadata": {},
   "outputs": [
    {
     "name": "stdout",
     "output_type": "stream",
     "text": [
      "Cluster 1  Index(['sp500_Close', 'dji_Close', 'ndx_Close', 'ndx_Volume', 'n225_Close',\n",
      "       'ftse_Close', 'hsi_Close', 'n100_Close'],\n",
      "      dtype='object')\n",
      "Cluster 2  Index(['vix_Volume', 'Overall EMV Tracker',\n",
      "       'infectious_daily_infect_emv_index', 'GPR',\n",
      "       'trade_US Trade Policy Uncertainty',\n",
      "       'trade_Japanese Trade Policy Uncertainty',\n",
      "       'trade_Trade Policy EMV Fraction', 'seasonal', 'white_noise'],\n",
      "      dtype='object')\n",
      "Cluster 3  Index(['sp500_Volume', 'dji_Volume', 'n225_Volume', 'ftse_Volume',\n",
      "       'trend_seasonal', 'trend'],\n",
      "      dtype='object')\n",
      "Cluster 4  Index(['hsi_Volume', 'n100_Volume'], dtype='object')\n"
     ]
    }
   ],
   "source": [
    "print(\"Cluster 1 \", df_train_T[df_train_T['clusters_4'] == 0].index)\n",
    "print(\"Cluster 2 \", df_train_T[df_train_T['clusters_4'] == 1].index)\n",
    "print(\"Cluster 3 \", df_train_T[df_train_T['clusters_4'] == 2].index)\n",
    "print(\"Cluster 4 \", df_train_T[df_train_T['clusters_4'] == 3].index)"
   ]
  },
  {
   "cell_type": "code",
   "execution_count": 74,
   "metadata": {},
   "outputs": [
    {
     "name": "stdout",
     "output_type": "stream",
     "text": [
      "Cluster 1  Index(['sp500_Close', 'dji_Close', 'ndx_Close', 'ndx_Volume', 'n225_Close',\n",
      "       'ftse_Close', 'hsi_Close', 'n100_Close'],\n",
      "      dtype='object')\n",
      "Cluster 2  Index(['vix_Volume', 'Overall EMV Tracker',\n",
      "       'infectious_daily_infect_emv_index', 'GPR',\n",
      "       'trade_US Trade Policy Uncertainty',\n",
      "       'trade_Japanese Trade Policy Uncertainty',\n",
      "       'trade_Trade Policy EMV Fraction', 'seasonal', 'white_noise'],\n",
      "      dtype='object')\n",
      "Cluster 3  Index(['sp500_Volume', 'dji_Volume', 'n225_Volume', 'ftse_Volume',\n",
      "       'hsi_Volume', 'n100_Volume', 'trend_seasonal', 'trend'],\n",
      "      dtype='object')\n"
     ]
    }
   ],
   "source": [
    "print(\"Cluster 1 \", df_train_T[df_train_T['clusters_3'] == 0].index)\n",
    "print(\"Cluster 2 \", df_train_T[df_train_T['clusters_3'] == 1].index)\n",
    "print(\"Cluster 3 \", df_train_T[df_train_T['clusters_3'] == 2].index)"
   ]
  },
  {
   "cell_type": "code",
   "execution_count": 75,
   "metadata": {},
   "outputs": [
    {
     "name": "stdout",
     "output_type": "stream",
     "text": [
      "Cluster 1  Index(['vix_Volume', 'hsi_Volume', 'n100_Volume', 'Overall EMV Tracker',\n",
      "       'infectious_daily_infect_emv_index', 'GPR',\n",
      "       'trade_US Trade Policy Uncertainty',\n",
      "       'trade_Japanese Trade Policy Uncertainty',\n",
      "       'trade_Trade Policy EMV Fraction', 'seasonal', 'white_noise'],\n",
      "      dtype='object')\n",
      "Cluster 2  Index(['sp500_Close', 'sp500_Volume', 'dji_Close', 'dji_Volume', 'ndx_Close',\n",
      "       'ndx_Volume', 'n225_Close', 'n225_Volume', 'ftse_Close', 'ftse_Volume',\n",
      "       'hsi_Close', 'n100_Close', 'trend_seasonal', 'trend'],\n",
      "      dtype='object')\n"
     ]
    }
   ],
   "source": [
    "print(\"Cluster 1 \", df_train_T[df_train_T['clusters_2'] == 0].index)\n",
    "print(\"Cluster 2 \", df_train_T[df_train_T['clusters_2'] == 1].index)"
   ]
  },
  {
   "cell_type": "code",
   "execution_count": null,
   "metadata": {},
   "outputs": [],
   "source": [
    "# talvez inputar com todas as combinações possiveis e ver qual a melhor??? muitas combinações, dificil para ajustar os parametros separadamente\n",
    "# fazer os testes em cada cluster, a maioria ganha?\n"
   ]
  },
  {
   "cell_type": "code",
   "execution_count": null,
   "metadata": {},
   "outputs": [],
   "source": []
  }
 ],
 "metadata": {
  "kernelspec": {
   "display_name": "Python 3",
   "language": "python",
   "name": "python3"
  },
  "language_info": {
   "codemirror_mode": {
    "name": "ipython",
    "version": 3
   },
   "file_extension": ".py",
   "mimetype": "text/x-python",
   "name": "python",
   "nbconvert_exporter": "python",
   "pygments_lexer": "ipython3",
   "version": "3.6.10"
  }
 },
 "nbformat": 4,
 "nbformat_minor": 4
}
