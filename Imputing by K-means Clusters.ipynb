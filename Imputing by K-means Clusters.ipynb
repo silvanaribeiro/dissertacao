{
 "cells": [
  {
   "cell_type": "code",
   "execution_count": 40,
   "metadata": {},
   "outputs": [],
   "source": [
    "from imputationLibrary import forwardFilling, hotDeck, meanImputation, movingAverage, splineInterpolation, randomSampleImputation\n",
    "from imputationLibrary.util import util\n",
    "import pandas as pd\n",
    "from datetime import datetime, timedelta\n",
    "import numpy as np\n",
    "from sklearn.cluster import KMeans\n",
    "from sklearn import preprocessing\n",
    "import matplotlib.pyplot as plt"
   ]
  },
  {
   "cell_type": "code",
   "execution_count": 41,
   "metadata": {},
   "outputs": [],
   "source": [
    "INPUT = 'output/\\CompleteWeeklyIndexes'"
   ]
  },
  {
   "cell_type": "code",
   "execution_count": 42,
   "metadata": {},
   "outputs": [],
   "source": [
    "df = pd.read_csv(INPUT+'.csv', parse_dates=True, index_col=0).drop('vix_Close', axis=1)\n",
    "df_train = df.loc['2000-01-01':'2015-01-01']\n",
    "df_test = df.loc['2015-01-02':]\n",
    "\n",
    "df_train_T = df_train.transpose()"
   ]
  },
  {
   "cell_type": "code",
   "execution_count": 44,
   "metadata": {},
   "outputs": [],
   "source": [
    "df_train_0_imp = df_train_T.fillna(0)\n",
    "scaler = preprocessing.StandardScaler()\n",
    "scaler.fit(df_train_0_imp)\n",
    "array = scaler.transform(df_train_0_imp)\n",
    "df_scaled = pd.DataFrame(data=array, index=df_train_T.index, columns=df_train_T.columns)"
   ]
  },
  {
   "cell_type": "code",
   "execution_count": 46,
   "metadata": {},
   "outputs": [
    {
     "data": {
      "image/png": "[encoded data removed]",
      "text/plain": [
       "<Figure size 1296x576 with 1 Axes>"
      ]
     },
     "metadata": {
      "needs_background": "light"
     },
     "output_type": "display_data"
    }
   ],
   "source": [
    "sse = {}\n",
    "for k in range(1, 10):\n",
    "    kmeans = KMeans(n_clusters=k, max_iter=1000).fit(df_scaled)\n",
    "\n",
    "    sse[k] = kmeans.inertia_ \n",
    "plt.figure(figsize=(18,8))\n",
    "plt.plot(list(sse.keys()), list(sse.values()))\n",
    "plt.xlabel(\"Number of cluster\")\n",
    "plt.ylabel(\"SSE\")\n",
    "plt.show()"
   ]
  },
  {
   "cell_type": "code",
   "execution_count": 47,
   "metadata": {},
   "outputs": [],
   "source": [
    "# Tem um joelho em 2, em 4 e em 5"
   ]
  },
  {
   "cell_type": "code",
   "execution_count": 59,
   "metadata": {},
   "outputs": [],
   "source": [
    "kmeans_5 = KMeans(init=\"k-means++\", n_clusters=5, n_init=4,\n",
    "                random_state=0).fit(df_scaled)\n",
    "kmeans_4 = KMeans(init=\"k-means++\", n_clusters=4, n_init=4,\n",
    "                random_state=0).fit(df_scaled)\n",
    "kmeans_3 = KMeans(init=\"k-means++\", n_clusters=3, n_init=4,\n",
    "                random_state=0).fit(df_scaled)\n",
    "kmeans_2 = KMeans(init=\"k-means++\", n_clusters=2, n_init=4,\n",
    "                random_state=0).fit(df_scaled)"
   ]
  },
  {
   "cell_type": "code",
   "execution_count": 67,
   "metadata": {},
   "outputs": [],
   "source": [
    "df_train_T[\"clusters_5\"] = kmeans_5.labels_\n",
    "df_train_T[\"clusters_4\"] = kmeans_4.labels_\n",
    "df_train_T[\"clusters_3\"] = kmeans_3.labels_\n",
    "df_train_T[\"clusters_2\"] = kmeans_2.labels_"
   ]
  },
  {
   "cell_type": "code",
   "execution_count": 69,
   "metadata": {},
   "outputs": [
    {
     "name": "stdout",
     "output_type": "stream",
     "text": [
      "Cluster 1  Index(['hsi_Volume'], dtype='object')\n",
      "Cluster 2  Index(['sp500_Close', 'vix_Volume', 'dji_Close', 'dji_Volume', 'ndx_Close',\n",
      "       'n225_Close', 'n225_Volume', 'ftse_Close', 'hsi_Close', 'n100_Close',\n",
      "       'n100_Volume', 'Overall EMV Tracker',\n",
      "       'infectious_daily_infect_emv_index', 'GPR',\n",
      "       'trade_US Trade Policy Uncertainty',\n",
      "       'trade_Japanese Trade Policy Uncertainty',\n",
      "       'trade_Trade Policy EMV Fraction'],\n",
      "      dtype='object')\n",
      "Cluster 3  Index(['sp500_Volume'], dtype='object')\n",
      "Cluster 4  Index(['ndx_Volume'], dtype='object')\n",
      "Cluster 5  Index(['ftse_Volume'], dtype='object')\n"
     ]
    }
   ],
   "source": [
    "print(\"Cluster 1 \", df_train_T[df_train_T['clusters_5'] == 0].index)\n",
    "print(\"Cluster 2 \", df_train_T[df_train_T['clusters_5'] == 1].index)\n",
    "print(\"Cluster 3 \", df_train_T[df_train_T['clusters_5'] == 2].index)\n",
    "print(\"Cluster 4 \", df_train_T[df_train_T['clusters_5'] == 3].index)\n",
    "print(\"Cluster 5 \", df_train_T[df_train_T['clusters_5'] == 4].index)"
   ]
  },
  {
   "cell_type": "code",
   "execution_count": 70,
   "metadata": {},
   "outputs": [
    {
     "name": "stdout",
     "output_type": "stream",
     "text": [
      "Cluster 1  Index(['hsi_Volume'], dtype='object')\n",
      "Cluster 2  Index(['sp500_Close', 'vix_Volume', 'dji_Close', 'dji_Volume', 'ndx_Close',\n",
      "       'n225_Close', 'n225_Volume', 'ftse_Close', 'hsi_Close', 'n100_Close',\n",
      "       'n100_Volume', 'Overall EMV Tracker',\n",
      "       'infectious_daily_infect_emv_index', 'GPR',\n",
      "       'trade_US Trade Policy Uncertainty',\n",
      "       'trade_Japanese Trade Policy Uncertainty',\n",
      "       'trade_Trade Policy EMV Fraction'],\n",
      "      dtype='object')\n",
      "Cluster 3  Index(['sp500_Volume'], dtype='object')\n",
      "Cluster 4  Index(['ndx_Volume', 'ftse_Volume'], dtype='object')\n"
     ]
    }
   ],
   "source": [
    "print(\"Cluster 1 \", df_train_T[df_train_T['clusters_4'] == 0].index)\n",
    "print(\"Cluster 2 \", df_train_T[df_train_T['clusters_4'] == 1].index)\n",
    "print(\"Cluster 3 \", df_train_T[df_train_T['clusters_4'] == 2].index)\n",
    "print(\"Cluster 4 \", df_train_T[df_train_T['clusters_4'] == 3].index)"
   ]
  },
  {
   "cell_type": "code",
   "execution_count": 71,
   "metadata": {},
   "outputs": [
    {
     "name": "stdout",
     "output_type": "stream",
     "text": [
      "Cluster 1  Index(['ftse_Volume', 'hsi_Volume'], dtype='object')\n",
      "Cluster 2  Index(['sp500_Close', 'vix_Volume', 'dji_Close', 'dji_Volume', 'ndx_Close',\n",
      "       'n225_Close', 'n225_Volume', 'ftse_Close', 'hsi_Close', 'n100_Close',\n",
      "       'n100_Volume', 'Overall EMV Tracker',\n",
      "       'infectious_daily_infect_emv_index', 'GPR',\n",
      "       'trade_US Trade Policy Uncertainty',\n",
      "       'trade_Japanese Trade Policy Uncertainty',\n",
      "       'trade_Trade Policy EMV Fraction'],\n",
      "      dtype='object')\n",
      "Cluster 3  Index(['sp500_Volume', 'ndx_Volume'], dtype='object')\n"
     ]
    }
   ],
   "source": [
    "print(\"Cluster 1 \", df_train_T[df_train_T['clusters_3'] == 0].index)\n",
    "print(\"Cluster 2 \", df_train_T[df_train_T['clusters_3'] == 1].index)\n",
    "print(\"Cluster 3 \", df_train_T[df_train_T['clusters_3'] == 2].index)"
   ]
  },
  {
   "cell_type": "code",
   "execution_count": 72,
   "metadata": {},
   "outputs": [
    {
     "name": "stdout",
     "output_type": "stream",
     "text": [
      "Cluster 1  Index(['sp500_Close', 'vix_Volume', 'dji_Close', 'dji_Volume', 'ndx_Close',\n",
      "       'n225_Close', 'n225_Volume', 'ftse_Close', 'hsi_Close', 'hsi_Volume',\n",
      "       'n100_Close', 'n100_Volume', 'Overall EMV Tracker',\n",
      "       'infectious_daily_infect_emv_index', 'GPR',\n",
      "       'trade_US Trade Policy Uncertainty',\n",
      "       'trade_Japanese Trade Policy Uncertainty',\n",
      "       'trade_Trade Policy EMV Fraction'],\n",
      "      dtype='object')\n",
      "Cluster 2  Index(['sp500_Volume', 'ndx_Volume', 'ftse_Volume'], dtype='object')\n"
     ]
    }
   ],
   "source": [
    "print(\"Cluster 1 \", df_train_T[df_train_T['clusters_2'] == 0].index)\n",
    "print(\"Cluster 2 \", df_train_T[df_train_T['clusters_2'] == 1].index)"
   ]
  },
  {
   "cell_type": "code",
   "execution_count": null,
   "metadata": {},
   "outputs": [],
   "source": []
  }
 ],
 "metadata": {
  "kernelspec": {
   "display_name": "Python 3",
   "language": "python",
   "name": "python3"
  },
  "language_info": {
   "codemirror_mode": {
    "name": "ipython",
    "version": 3
   },
   "file_extension": ".py",
   "mimetype": "text/x-python",
   "name": "python",
   "nbconvert_exporter": "python",
   "pygments_lexer": "ipython3",
   "version": "3.6.10"
  }
 },
 "nbformat": 4,
 "nbformat_minor": 4
}
