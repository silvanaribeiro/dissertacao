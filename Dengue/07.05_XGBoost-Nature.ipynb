{
 "cells": [
  {
   "cell_type": "code",
   "execution_count": 3,
   "metadata": {},
   "outputs": [],
   "source": [
    "import numpy as np\n",
    "import pandas as pd\n",
    "from datetime import datetime\n",
    "\n",
    "from sklearn.datasets import load_breast_cancer\n",
    "from sklearn.metrics import confusion_matrix\n",
    "from sklearn.model_selection import GridSearchCV\n",
    "from sklearn.metrics import mean_squared_error as mse\n",
    "from sklearn.model_selection import TimeSeriesSplit\n",
    "\n",
    "import matplotlib.pyplot as plt\n",
    "\n",
    "import xgboost as xgb\n",
    "\n",
    "import warnings\n",
    "warnings.filterwarnings('ignore')"
   ]
  },
  {
   "cell_type": "code",
   "execution_count": 4,
   "metadata": {},
   "outputs": [],
   "source": [
    "def read_csv(file):\n",
    "    df = pd.read_csv(file, parse_dates=True, index_col=0)\n",
    "    return df"
   ]
  },
  {
   "cell_type": "markdown",
   "metadata": {},
   "source": [
    "## XGBoost for Nature imputed dataset\n"
   ]
  },
  {
   "cell_type": "code",
   "execution_count": 5,
   "metadata": {
    "scrolled": false
   },
   "outputs": [
    {
     "ename": "ValueError",
     "evalue": "feature_names mismatch: ['sj_ndvi_ne', 'sj_ndvi_nw', 'sj_ndvi_sw', 'iq_ndvi_nw', 'iq_ndvi_se', 'iq_ndvi_sw', 'iq_station_precip_mm', 'sj_ndvi_se', 'sj_station_precip_mm', 'iq_station_max_temp_c', 'iq_precipitation_amt_mm', 'iq_reanalysis_precip_amt_kg_per_m2', 'iq_reanalysis_sat_precip_amt_mm', 'iq_station_avg_temp_c', 'iq_station_diur_temp_rng_c', 'iq_ndvi_ne', 'iq_reanalysis_tdtr_k', 'sj_reanalysis_air_temp_k', 'sj_reanalysis_avg_temp_k', 'sj_reanalysis_dew_point_temp_k', 'sj_reanalysis_max_air_temp_k', 'sj_reanalysis_min_air_temp_k', 'sj_reanalysis_relative_humidity_percent', 'iq_reanalysis_air_temp_k', 'iq_reanalysis_avg_temp_k', 'iq_reanalysis_dew_point_temp_k', 'iq_reanalysis_max_air_temp_k', 'iq_reanalysis_min_air_temp_k', 'iq_reanalysis_relative_humidity_percent', 'iq_reanalysis_specific_humidity_g_per_kg', 'iq_station_min_temp_c', 'sj_precipitation_amt_mm', 'sj_reanalysis_precip_amt_kg_per_m2', 'sj_reanalysis_sat_precip_amt_mm', 'sj_reanalysis_specific_humidity_g_per_kg', 'sj_reanalysis_tdtr_k', 'sj_station_avg_temp_c', 'sj_station_diur_temp_rng_c', 'sj_station_max_temp_c', 'sj_station_min_temp_c'] ['sj_ndvi_ne', 'sj_ndvi_nw', 'sj_ndvi_sw', 'iq_ndvi_nw', 'iq_ndvi_se', 'iq_ndvi_sw', 'iq_station_precip_mm', 'iq_ndvi_ne', 'sj_ndvi_se', 'sj_station_precip_mm', 'iq_reanalysis_tdtr_k', 'iq_station_max_temp_c', 'iq_precipitation_amt_mm', 'iq_reanalysis_precip_amt_kg_per_m2', 'iq_reanalysis_sat_precip_amt_mm', 'iq_station_avg_temp_c', 'iq_station_diur_temp_rng_c', 'sj_reanalysis_air_temp_k', 'sj_reanalysis_avg_temp_k', 'sj_reanalysis_dew_point_temp_k', 'sj_reanalysis_max_air_temp_k', 'sj_reanalysis_min_air_temp_k', 'sj_reanalysis_relative_humidity_percent', 'iq_reanalysis_air_temp_k', 'iq_reanalysis_avg_temp_k', 'iq_reanalysis_dew_point_temp_k', 'iq_reanalysis_max_air_temp_k', 'iq_reanalysis_min_air_temp_k', 'iq_reanalysis_relative_humidity_percent', 'iq_reanalysis_specific_humidity_g_per_kg', 'iq_station_min_temp_c', 'sj_precipitation_amt_mm', 'sj_reanalysis_precip_amt_kg_per_m2', 'sj_reanalysis_sat_precip_amt_mm', 'sj_reanalysis_specific_humidity_g_per_kg', 'sj_reanalysis_tdtr_k', 'sj_station_avg_temp_c', 'sj_station_diur_temp_rng_c', 'sj_station_max_temp_c', 'sj_station_min_temp_c']",
     "output_type": "error",
     "traceback": [
      "\u001b[1;31m---------------------------------------------------------------------------\u001b[0m",
      "\u001b[1;31mValueError\u001b[0m                                Traceback (most recent call last)",
      "\u001b[1;32m<ipython-input-5-c53b682b8598>\u001b[0m in \u001b[0;36m<module>\u001b[1;34m\u001b[0m\n\u001b[0;32m     19\u001b[0m \u001b[0mmodel\u001b[0m \u001b[1;33m=\u001b[0m \u001b[0mxgb_model\u001b[0m\u001b[1;33m.\u001b[0m\u001b[0mfit\u001b[0m\u001b[1;33m(\u001b[0m\u001b[0mX_train\u001b[0m\u001b[1;33m,\u001b[0m \u001b[0my_train\u001b[0m\u001b[1;33m)\u001b[0m\u001b[1;33m\u001b[0m\u001b[1;33m\u001b[0m\u001b[0m\n\u001b[0;32m     20\u001b[0m \u001b[1;33m\u001b[0m\u001b[0m\n\u001b[1;32m---> 21\u001b[1;33m \u001b[0my_pred\u001b[0m \u001b[1;33m=\u001b[0m \u001b[0mmodel\u001b[0m\u001b[1;33m.\u001b[0m\u001b[0mpredict\u001b[0m\u001b[1;33m(\u001b[0m\u001b[0mX_test\u001b[0m\u001b[1;33m)\u001b[0m\u001b[1;33m\u001b[0m\u001b[1;33m\u001b[0m\u001b[0m\n\u001b[0m\u001b[0;32m     22\u001b[0m \u001b[1;33m\u001b[0m\u001b[0m\n\u001b[0;32m     23\u001b[0m \u001b[0mMSE\u001b[0m \u001b[1;33m=\u001b[0m \u001b[0mmse\u001b[0m\u001b[1;33m(\u001b[0m\u001b[0my_test\u001b[0m\u001b[1;33m,\u001b[0m \u001b[0my_pred\u001b[0m\u001b[1;33m)\u001b[0m\u001b[1;33m\u001b[0m\u001b[1;33m\u001b[0m\u001b[0m\n",
      "\u001b[1;32m~\\Anaconda3\\envs\\mestrado\\lib\\site-packages\\xgboost\\sklearn.py\u001b[0m in \u001b[0;36mpredict\u001b[1;34m(self, data, output_margin, ntree_limit, validate_features, base_margin)\u001b[0m\n\u001b[0;32m    886\u001b[0m             \u001b[0moutput_margin\u001b[0m\u001b[1;33m=\u001b[0m\u001b[0moutput_margin\u001b[0m\u001b[1;33m,\u001b[0m\u001b[1;33m\u001b[0m\u001b[1;33m\u001b[0m\u001b[0m\n\u001b[0;32m    887\u001b[0m             \u001b[0mntree_limit\u001b[0m\u001b[1;33m=\u001b[0m\u001b[0mntree_limit\u001b[0m\u001b[1;33m,\u001b[0m\u001b[1;33m\u001b[0m\u001b[1;33m\u001b[0m\u001b[0m\n\u001b[1;32m--> 888\u001b[1;33m             validate_features=validate_features)\n\u001b[0m\u001b[0;32m    889\u001b[0m         \u001b[1;32mif\u001b[0m \u001b[0moutput_margin\u001b[0m\u001b[1;33m:\u001b[0m\u001b[1;33m\u001b[0m\u001b[1;33m\u001b[0m\u001b[0m\n\u001b[0;32m    890\u001b[0m             \u001b[1;31m# If output_margin is active, simply return the scores\u001b[0m\u001b[1;33m\u001b[0m\u001b[1;33m\u001b[0m\u001b[1;33m\u001b[0m\u001b[0m\n",
      "\u001b[1;32m~\\Anaconda3\\envs\\mestrado\\lib\\site-packages\\xgboost\\core.py\u001b[0m in \u001b[0;36mpredict\u001b[1;34m(self, data, output_margin, ntree_limit, pred_leaf, pred_contribs, approx_contribs, pred_interactions, validate_features, training)\u001b[0m\n\u001b[0;32m   1569\u001b[0m \u001b[1;33m\u001b[0m\u001b[0m\n\u001b[0;32m   1570\u001b[0m         \u001b[1;32mif\u001b[0m \u001b[0mvalidate_features\u001b[0m\u001b[1;33m:\u001b[0m\u001b[1;33m\u001b[0m\u001b[1;33m\u001b[0m\u001b[0m\n\u001b[1;32m-> 1571\u001b[1;33m             \u001b[0mself\u001b[0m\u001b[1;33m.\u001b[0m\u001b[0m_validate_features\u001b[0m\u001b[1;33m(\u001b[0m\u001b[0mdata\u001b[0m\u001b[1;33m)\u001b[0m\u001b[1;33m\u001b[0m\u001b[1;33m\u001b[0m\u001b[0m\n\u001b[0m\u001b[0;32m   1572\u001b[0m \u001b[1;33m\u001b[0m\u001b[0m\n\u001b[0;32m   1573\u001b[0m         \u001b[0mlength\u001b[0m \u001b[1;33m=\u001b[0m \u001b[0mc_bst_ulong\u001b[0m\u001b[1;33m(\u001b[0m\u001b[1;33m)\u001b[0m\u001b[1;33m\u001b[0m\u001b[1;33m\u001b[0m\u001b[0m\n",
      "\u001b[1;32m~\\Anaconda3\\envs\\mestrado\\lib\\site-packages\\xgboost\\core.py\u001b[0m in \u001b[0;36m_validate_features\u001b[1;34m(self, data)\u001b[0m\n\u001b[0;32m   2129\u001b[0m \u001b[1;33m\u001b[0m\u001b[0m\n\u001b[0;32m   2130\u001b[0m                 raise ValueError(msg.format(self.feature_names,\n\u001b[1;32m-> 2131\u001b[1;33m                                             data.feature_names))\n\u001b[0m\u001b[0;32m   2132\u001b[0m \u001b[1;33m\u001b[0m\u001b[0m\n\u001b[0;32m   2133\u001b[0m     def get_split_value_histogram(self, feature, fmap='', bins=None,\n",
      "\u001b[1;31mValueError\u001b[0m: feature_names mismatch: ['sj_ndvi_ne', 'sj_ndvi_nw', 'sj_ndvi_sw', 'iq_ndvi_nw', 'iq_ndvi_se', 'iq_ndvi_sw', 'iq_station_precip_mm', 'sj_ndvi_se', 'sj_station_precip_mm', 'iq_station_max_temp_c', 'iq_precipitation_amt_mm', 'iq_reanalysis_precip_amt_kg_per_m2', 'iq_reanalysis_sat_precip_amt_mm', 'iq_station_avg_temp_c', 'iq_station_diur_temp_rng_c', 'iq_ndvi_ne', 'iq_reanalysis_tdtr_k', 'sj_reanalysis_air_temp_k', 'sj_reanalysis_avg_temp_k', 'sj_reanalysis_dew_point_temp_k', 'sj_reanalysis_max_air_temp_k', 'sj_reanalysis_min_air_temp_k', 'sj_reanalysis_relative_humidity_percent', 'iq_reanalysis_air_temp_k', 'iq_reanalysis_avg_temp_k', 'iq_reanalysis_dew_point_temp_k', 'iq_reanalysis_max_air_temp_k', 'iq_reanalysis_min_air_temp_k', 'iq_reanalysis_relative_humidity_percent', 'iq_reanalysis_specific_humidity_g_per_kg', 'iq_station_min_temp_c', 'sj_precipitation_amt_mm', 'sj_reanalysis_precip_amt_kg_per_m2', 'sj_reanalysis_sat_precip_amt_mm', 'sj_reanalysis_specific_humidity_g_per_kg', 'sj_reanalysis_tdtr_k', 'sj_station_avg_temp_c', 'sj_station_diur_temp_rng_c', 'sj_station_max_temp_c', 'sj_station_min_temp_c'] ['sj_ndvi_ne', 'sj_ndvi_nw', 'sj_ndvi_sw', 'iq_ndvi_nw', 'iq_ndvi_se', 'iq_ndvi_sw', 'iq_station_precip_mm', 'iq_ndvi_ne', 'sj_ndvi_se', 'sj_station_precip_mm', 'iq_reanalysis_tdtr_k', 'iq_station_max_temp_c', 'iq_precipitation_amt_mm', 'iq_reanalysis_precip_amt_kg_per_m2', 'iq_reanalysis_sat_precip_amt_mm', 'iq_station_avg_temp_c', 'iq_station_diur_temp_rng_c', 'sj_reanalysis_air_temp_k', 'sj_reanalysis_avg_temp_k', 'sj_reanalysis_dew_point_temp_k', 'sj_reanalysis_max_air_temp_k', 'sj_reanalysis_min_air_temp_k', 'sj_reanalysis_relative_humidity_percent', 'iq_reanalysis_air_temp_k', 'iq_reanalysis_avg_temp_k', 'iq_reanalysis_dew_point_temp_k', 'iq_reanalysis_max_air_temp_k', 'iq_reanalysis_min_air_temp_k', 'iq_reanalysis_relative_humidity_percent', 'iq_reanalysis_specific_humidity_g_per_kg', 'iq_station_min_temp_c', 'sj_precipitation_amt_mm', 'sj_reanalysis_precip_amt_kg_per_m2', 'sj_reanalysis_sat_precip_amt_mm', 'sj_reanalysis_specific_humidity_g_per_kg', 'sj_reanalysis_tdtr_k', 'sj_station_avg_temp_c', 'sj_station_diur_temp_rng_c', 'sj_station_max_temp_c', 'sj_station_min_temp_c']"
     ]
    }
   ],
   "source": [
    "X_train = read_csv('output/\\CompleteDengueNatureTrain_0.csv')\n",
    "X_test = read_csv('output/\\CompleteDengueNatureTest_0.csv')\n",
    "\n",
    "y = pd.read_csv('input/\\dengue_labels_train.csv', parse_dates=True)\n",
    "\n",
    "y = y.groupby(['year', 'weekofyear']).sum()\n",
    "y_train = y.iloc[:734]\n",
    "y_train = pd.DataFrame(index = X_train.index, data = y_train.total_cases.values)\n",
    "y_test = y.iloc[734:]\n",
    "y_test = pd.DataFrame(index = X_test.index, data = y_test.total_cases.values)\n",
    "\n",
    "\n",
    "xgb_model = xgb.XGBClassifier(objective=\"reg:squarederror\",\n",
    "                                  eval_metric = 'rmse',\n",
    "                                  max_depth=3,\n",
    "                                  n_estimators=150,\n",
    "                                  learning_rate=0.001\n",
    "                              )\n",
    "model = xgb_model.fit(X_train, y_train)\n",
    "\n",
    "y_pred = model.predict(X_test)\n",
    "\n",
    "MSE = mse(y_test, y_pred)\n",
    "RMSE = np.sqrt(MSE)\n",
    "\n",
    "print(\"\\nRMSE: \", np.round(RMSE, 2))"
   ]
  },
  {
   "cell_type": "code",
   "execution_count": null,
   "metadata": {},
   "outputs": [],
   "source": [
    "plt.figure(figsize=(25, 8))\n",
    "plt.plot(y_test.index, y_test.values, label='Real')\n",
    "plt.plot(y_test.index, y_pred, label='Predicted')\n",
    "plt.title(\"Dengue total cases Real x Predicted\")\n",
    "plt.xticks(rotation=90)\n",
    "plt.legend()\n",
    "plt.show()"
   ]
  },
  {
   "cell_type": "code",
   "execution_count": 4,
   "metadata": {},
   "outputs": [
    {
     "data": {
      "text/plain": [
       "(315, 40)"
      ]
     },
     "execution_count": 4,
     "metadata": {},
     "output_type": "execute_result"
    }
   ],
   "source": [
    "def run_experiment_multiple_times(n=30):\n",
    "    result_dict = {}\n",
    "    result_dict= {'rmse':0, 'best_model':None, 'best_rmse':0}\n",
    "\n",
    "    y = pd.read_csv('input/\\dengue_labels_train.csv', parse_dates=True)\n",
    "    y = y.groupby(['year', 'weekofyear']).sum()\n",
    "\n",
    "    for i in range(0,n):\n",
    "        X_train = read_csv('output/\\CompleteDengueNatureTrain_'+str(i)+'.csv')\n",
    "        X_test = read_csv('output/\\CompleteDengueNatureTest_'+str(i)+'.csv')\n",
    "        y_train = y.iloc[:734]\n",
    "        y_train = pd.DataFrame(index = X_train.index, data = y_train.total_cases.values)\n",
    "        y_test = y.iloc[734:]\n",
    "        y_test = pd.DataFrame(index = X_test.index, data = y_test.total_cases.values)\n",
    "        xgb_model = xgb.XGBClassifier(objective=\"reg:squarederror\",\n",
    "                                          eval_metric = 'rmse',\n",
    "                                          max_depth=3,\n",
    "                                          n_estimators=150,\n",
    "                                          learning_rate=0.001\n",
    "                                      )\n",
    "        model = xgb_model.fit(X_train, y_train)\n",
    "\n",
    "        y_pred = model.predict(X_test)\n",
    "\n",
    "        MSE = mse(y_test, y_pred)\n",
    "        RMSE = np.sqrt(MSE)\n",
    "        \n",
    "        print('Round', i, \"rmse\", RMSE)\n",
    "        result_dict['rmse'] += RMSE\n",
    "        if result_dict['best_rmse'] < RMSE:\n",
    "            result_dict['best_rmse'] = RMSE\n",
    "            result_dict['best_model'] = model\n",
    "\n",
    "    result_dict['rmse'] = result_dict['rmse']/n\n",
    "    return result_dict     "
   ]
  },
  {
   "cell_type": "code",
   "execution_count": null,
   "metadata": {},
   "outputs": [],
   "source": [
    "result_dict = run_experiment_multiple_times(n=30)"
   ]
  }
 ],
 "metadata": {
  "kernelspec": {
   "display_name": "Python 3",
   "language": "python",
   "name": "python3"
  },
  "language_info": {
   "codemirror_mode": {
    "name": "ipython",
    "version": 3
   },
   "file_extension": ".py",
   "mimetype": "text/x-python",
   "name": "python",
   "nbconvert_exporter": "python",
   "pygments_lexer": "ipython3",
   "version": "3.6.10"
  }
 },
 "nbformat": 4,
 "nbformat_minor": 4
}
