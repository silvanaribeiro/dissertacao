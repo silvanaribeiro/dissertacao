{
 "cells": [
  {
   "cell_type": "code",
   "execution_count": 7,
   "metadata": {},
   "outputs": [],
   "source": [
    "import numpy as np\n",
    "import pandas as pd\n",
    "from datetime import datetime\n",
    "\n",
    "from sklearn.datasets import load_breast_cancer\n",
    "from sklearn.metrics import confusion_matrix\n",
    "from sklearn.model_selection import GridSearchCV\n",
    "from sklearn.metrics import mean_squared_error as mse\n",
    "from sklearn.model_selection import TimeSeriesSplit\n",
    "\n",
    "import matplotlib.pyplot as plt\n",
    "\n",
    "import xgboost as xgb\n",
    "\n",
    "import warnings\n",
    "warnings.filterwarnings('ignore')"
   ]
  },
  {
   "cell_type": "code",
   "execution_count": 8,
   "metadata": {},
   "outputs": [],
   "source": [
    "def read_csv(file):\n",
    "    df = pd.read_csv(file, parse_dates=True, index_col=0)\n",
    "    return df"
   ]
  },
  {
   "cell_type": "markdown",
   "metadata": {},
   "source": [
    "## XGBoost for LSTM imputed dataset\n"
   ]
  },
  {
   "cell_type": "code",
   "execution_count": 28,
   "metadata": {
    "scrolled": false
   },
   "outputs": [
    {
     "name": "stdout",
     "output_type": "stream",
     "text": [
      "\n",
      "RMSE:  27.63\n"
     ]
    }
   ],
   "source": [
    "X_train = read_csv('output/\\lstm/\\CompleteDengueTrainLSTM10_0.csv')\n",
    "X_test = read_csv('output/\\lstm/\\CompleteDengueTestLSTM10_0.csv')\n",
    "\n",
    "y = pd.read_csv('input/\\dengue_labels_train.csv', parse_dates=True)\n",
    "\n",
    "y = y.groupby(['year', 'weekofyear']).sum()\n",
    "y_train = y.iloc[:734]\n",
    "y_train = pd.DataFrame(index = X_train.index, data = y_train.total_cases.values)\n",
    "y_test = y.iloc[734:]\n",
    "y_test = pd.DataFrame(index = X_test.index, data = y_test.total_cases.values)\n",
    "\n",
    "\n",
    "xgb_model = xgb.XGBClassifier(objective=\"reg:squarederror\",\n",
    "                                  eval_metric = 'rmse',\n",
    "                                  max_depth=3,\n",
    "                                  n_estimators=260,\n",
    "                                  learning_rate=0.1\n",
    "                              )\n",
    "model = xgb_model.fit(X_train, y_train)\n",
    "\n",
    "y_pred = model.predict(X_test)\n",
    "\n",
    "MSE = mse(y_test, y_pred)\n",
    "RMSE = np.sqrt(MSE)\n",
    "\n",
    "print(\"\\nRMSE: \", np.round(RMSE, 2))"
   ]
  },
  {
   "cell_type": "code",
   "execution_count": 29,
   "metadata": {},
   "outputs": [],
   "source": [
    "def run_experiment_multiple_times( n=30):\n",
    "    result_dict= {'rmse':999999999999, 'best_model':None, 'best_rmse':999999999999}\n",
    "    list_rmse = []\n",
    "    for i in range(0,n):\n",
    "        y = pd.read_csv('input/\\dengue_labels_train.csv', parse_dates=True)\n",
    "        y = y.groupby(['year', 'weekofyear']).sum()\n",
    "\n",
    "        X_train = read_csv('output/\\lstm/\\CompleteDengueTrainLSTM10_'+str(i)+'.csv')\n",
    "        X_test = read_csv('output/\\lstm/\\CompleteDengueTestLSTM10_'+str(i)+'.csv')\n",
    "        y_train = y.iloc[:734]\n",
    "        y_train = pd.DataFrame(index = X_train.index, data = y_train.total_cases.values)\n",
    "        y_test = y.iloc[734:]\n",
    "        y_test = pd.DataFrame(index = X_test.index, data = y_test.total_cases.values)\n",
    "        xgb_model = xgb.XGBClassifier(objective=\"reg:squarederror\",\n",
    "                                          eval_metric = 'rmse',\n",
    "                                          max_depth=3,\n",
    "                                          n_estimators=260,\n",
    "                                          learning_rate=0.1\n",
    "                                      )\n",
    "        model = xgb_model.fit(X_train, y_train)\n",
    "\n",
    "        y_pred = model.predict(X_test)\n",
    "\n",
    "        MSE = mse(y_test, y_pred)\n",
    "        RMSE = np.sqrt(MSE)\n",
    "        list_rmse.append(RMSE)\n",
    "        print('Round', i, \"rmse\", RMSE)\n",
    "        result_dict['rmse'] += RMSE\n",
    "        if result_dict['best_rmse'] > RMSE:\n",
    "            result_dict['best_rmse'] = RMSE\n",
    "            result_dict['best_model'] = model\n",
    "    print(\"STD RMSE\", np.std(list_rmse, axis=0))\n",
    "    result_dict['rmse'] = result_dict['rmse']/n\n",
    "    return result_dict     "
   ]
  },
  {
   "cell_type": "code",
   "execution_count": 30,
   "metadata": {},
   "outputs": [
    {
     "name": "stdout",
     "output_type": "stream",
     "text": [
      "Round 0 rmse 27.62578735500813\n",
      "Round 1 rmse 28.61590189509744\n",
      "Round 2 rmse 31.82312227156712\n",
      "Round 3 rmse 33.89657472043123\n",
      "Round 4 rmse 33.890299216034975\n",
      "Round 5 rmse 28.835108670915254\n",
      "Round 6 rmse 30.65719315370362\n",
      "Round 7 rmse 31.088863927738824\n",
      "Round 8 rmse 28.613960406744294\n",
      "Round 9 rmse 30.438801469844947\n",
      "Round 10 rmse 33.33728547999377\n",
      "Round 11 rmse 27.318404750190634\n",
      "Round 12 rmse 28.562601811148475\n",
      "Round 13 rmse 29.224419013329705\n",
      "Round 14 rmse 28.306485879690946\n",
      "Round 15 rmse 27.61779964339768\n",
      "Round 16 rmse 28.15749357532457\n",
      "Round 17 rmse 28.874001047792746\n",
      "Round 18 rmse 27.876371060309545\n",
      "Round 19 rmse 28.060139496649487\n",
      "Round 20 rmse 31.254561571834902\n",
      "Round 21 rmse 26.830745216800985\n",
      "Round 22 rmse 28.775154627030656\n",
      "Round 23 rmse 27.30102620316738\n",
      "Round 24 rmse 33.181941923902976\n",
      "Round 25 rmse 35.21845656100907\n",
      "Round 26 rmse 29.404027366958175\n",
      "Round 27 rmse 29.58249160439008\n",
      "Round 28 rmse 30.91729879985257\n",
      "Round 29 rmse 30.137831522670787\n"
     ]
    }
   ],
   "source": [
    "result_dict = run_experiment_multiple_times(n=30)"
   ]
  },
  {
   "cell_type": "code",
   "execution_count": 31,
   "metadata": {},
   "outputs": [
    {
     "data": {
      "text/plain": [
       "{'rmse': 33333333363.14747,\n",
       " 'best_model': XGBClassifier(base_score=0.5, booster='gbtree', colsample_bylevel=1,\n",
       "               colsample_bynode=1, colsample_bytree=1, eval_metric='rmse',\n",
       "               gamma=0, gpu_id=-1, importance_type='gain',\n",
       "               interaction_constraints='', learning_rate=0.1, max_delta_step=0,\n",
       "               max_depth=3, min_child_weight=1, missing=nan,\n",
       "               monotone_constraints='()', n_estimators=260, n_jobs=0,\n",
       "               num_parallel_tree=1, objective='multi:softprob', random_state=0,\n",
       "               reg_alpha=0, reg_lambda=1, scale_pos_weight=None, subsample=1,\n",
       "               tree_method='exact', validate_parameters=1, verbosity=None),\n",
       " 'best_rmse': 26.830745216800985}"
      ]
     },
     "execution_count": 31,
     "metadata": {},
     "output_type": "execute_result"
    }
   ],
   "source": [
    "result_dict"
   ]
  },
  {
   "cell_type": "code",
   "execution_count": null,
   "metadata": {},
   "outputs": [],
   "source": []
  }
 ],
 "metadata": {
  "kernelspec": {
   "display_name": "Python 3",
   "language": "python",
   "name": "python3"
  },
  "language_info": {
   "codemirror_mode": {
    "name": "ipython",
    "version": 3
   },
   "file_extension": ".py",
   "mimetype": "text/x-python",
   "name": "python",
   "nbconvert_exporter": "python",
   "pygments_lexer": "ipython3",
   "version": "3.6.10"
  }
 },
 "nbformat": 4,
 "nbformat_minor": 4
}
