{
 "cells": [
  {
   "cell_type": "code",
   "execution_count": 34,
   "metadata": {},
   "outputs": [],
   "source": [
    "from imputationLibrary import forwardFilling, hotDeck, meanImputation, movingAverage, splineInterpolation, separate, randomSampleImputation\n",
    "from imputationLibrary.util import util\n",
    "import pandas as pd\n",
    "from datetime import datetime, timedelta\n",
    "import numpy as np\n",
    "from tsmoothie.smoother import *\n",
    "import matplotlib.pyplot as plt"
   ]
  },
  {
   "cell_type": "code",
   "execution_count": 35,
   "metadata": {},
   "outputs": [],
   "source": [
    "df = pd.read_csv(r'output\\/CompleteDengue.csv',index_col=0, parse_dates=True)\n",
    "df_train = df.loc['1990-04-30':'2004-06-03'].dropna(how='all', axis=1) #Selecting training data\n",
    "df_test = df.loc['2004-06-10':, df_train.columns] #Selecting test data\n",
    "period = 7"
   ]
  },
  {
   "cell_type": "code",
   "execution_count": 36,
   "metadata": {},
   "outputs": [
    {
     "name": "stdout",
     "output_type": "stream",
     "text": [
      "Could not determine nature of the feature sj_ndvi_nw and it will be assigned to a group randomly.\n"
     ]
    },
    {
     "name": "stderr",
     "output_type": "stream",
     "text": [
      "C:\\Users\\silva\\Anaconda3\\envs\\mestrado\\lib\\site-packages\\numpy\\core\\fromnumeric.py:58: FutureWarning: Series.nonzero() is deprecated and will be removed in a future version.Use Series.to_numpy().nonzero() instead\n",
      "  return bound(*args, **kwds)\n"
     ]
    }
   ],
   "source": [
    "df_white_noise, df_seasonal, df_trended, df_trend_and_seasonal = separate.separate(df_train, period)\n",
    "df_seasonal_train, df_seasonal_test = randomSampleImputation.input(df_train.loc[:, df_seasonal.columns], df_test.loc[:, df_seasonal.columns], sliding_window_size = 0.03)\n",
    "if df_white_noise.columns.any():\n",
    "    df_white_noise_train, df_white_noise_test =  meanImputation.input(df_train.loc[:, df_white_noise.columns], df_test.loc[:, df_white_noise.columns])\n",
    "df_trended_train, df_trended_test =  forwardFilling.input(df_train.loc[:, df_trended.columns], df_test.loc[:, df_trended.columns])\n",
    "df_trend_and_seasonal_train, df_trend_and_seasonal_test =  splineInterpolation.input(df_train.loc[:, df_trend_and_seasonal.columns], df_test.loc[:, df_trend_and_seasonal.columns])\n",
    "df_train = pd.concat([df_seasonal_train, df_white_noise_train, df_trended_train, df_trend_and_seasonal_train], axis=1, join='outer')\n",
    "df_test = pd.concat([df_seasonal_test, df_white_noise_test, df_trended_test, df_trend_and_seasonal_test], axis=1, join='outer')\n",
    "\n",
    "\n",
    "### USE KALMAN FILTER TO SMOOTH ALL DATA (ONLY VISUALIZATION PURPOSE) ###\n",
    "\n",
    "smoother_train = KalmanSmoother(component='level_longseason', \n",
    "                          component_noise={'level':0.1, 'longseason':0.1}, \n",
    "                          n_longseasons=365)\n",
    "smoother_train.smooth(df_train.T)\n",
    "\n",
    "smoother_test = KalmanSmoother(component='level_longseason', \n",
    "                          component_noise={'level':0.1, 'longseason':0.1}, \n",
    "                          n_longseasons=365)\n",
    "smoother_test.smooth(df_test.T)\n",
    "\n",
    "df_train = pd.DataFrame(data = smoother_train.smooth_data.T, index = df_train.index, columns= df_train.columns)\n",
    "df_test = pd.DataFrame(data = smoother_test.smooth_data.T, index = df_test.index, columns= df_test.columns)\n",
    "\n",
    "df_train.to_csv(r'output\\/CompleteDengueNatureKalmanTrain_0.csv', index = True)\n",
    "df_test.loc['2004-06-10':, df_train.columns].to_csv(r'output\\/CompleteDengueNatureKalmanTest_0.csv', index = True)"
   ]
  },
  {
   "cell_type": "code",
   "execution_count": 37,
   "metadata": {},
   "outputs": [
    {
     "data": {
      "text/plain": [
       "Index(['sj_ndvi_ne', 'sj_ndvi_sw', 'iq_ndvi_ne', 'iq_ndvi_nw', 'iq_ndvi_se',\n",
       "       'iq_ndvi_sw'],\n",
       "      dtype='object')"
      ]
     },
     "execution_count": 37,
     "metadata": {},
     "output_type": "execute_result"
    }
   ],
   "source": [
    "df_seasonal.columns"
   ]
  },
  {
   "cell_type": "code",
   "execution_count": 38,
   "metadata": {},
   "outputs": [
    {
     "data": {
      "text/plain": [
       "Index(['iq_reanalysis_air_temp_k', 'iq_reanalysis_avg_temp_k',\n",
       "       'iq_reanalysis_dew_point_temp_k', 'iq_reanalysis_max_air_temp_k',\n",
       "       'iq_reanalysis_min_air_temp_k',\n",
       "       'iq_reanalysis_relative_humidity_percent',\n",
       "       'iq_reanalysis_specific_humidity_g_per_kg', 'iq_station_max_temp_c',\n",
       "       'iq_station_min_temp_c'],\n",
       "      dtype='object')"
      ]
     },
     "execution_count": 38,
     "metadata": {},
     "output_type": "execute_result"
    }
   ],
   "source": [
    "df_trended.columns"
   ]
  },
  {
   "cell_type": "code",
   "execution_count": 39,
   "metadata": {},
   "outputs": [
    {
     "data": {
      "text/plain": [
       "Index(['sj_ndvi_nw', 'sj_precipitation_amt_mm',\n",
       "       'sj_reanalysis_precip_amt_kg_per_m2', 'sj_reanalysis_sat_precip_amt_mm',\n",
       "       'sj_reanalysis_specific_humidity_g_per_kg', 'sj_reanalysis_tdtr_k',\n",
       "       'sj_station_avg_temp_c', 'sj_station_diur_temp_rng_c',\n",
       "       'sj_station_max_temp_c', 'sj_station_min_temp_c',\n",
       "       'iq_precipitation_amt_mm', 'iq_reanalysis_precip_amt_kg_per_m2',\n",
       "       'iq_reanalysis_sat_precip_amt_mm', 'iq_reanalysis_tdtr_k',\n",
       "       'iq_station_avg_temp_c', 'iq_station_diur_temp_rng_c',\n",
       "       'iq_station_precip_mm'],\n",
       "      dtype='object')"
      ]
     },
     "execution_count": 39,
     "metadata": {},
     "output_type": "execute_result"
    }
   ],
   "source": [
    "df_trend_and_seasonal.columns"
   ]
  },
  {
   "cell_type": "code",
   "execution_count": 40,
   "metadata": {},
   "outputs": [
    {
     "data": {
      "text/plain": [
       "Index(['sj_ndvi_se', 'sj_reanalysis_air_temp_k', 'sj_reanalysis_avg_temp_k',\n",
       "       'sj_reanalysis_dew_point_temp_k', 'sj_reanalysis_max_air_temp_k',\n",
       "       'sj_reanalysis_min_air_temp_k',\n",
       "       'sj_reanalysis_relative_humidity_percent', 'sj_station_precip_mm'],\n",
       "      dtype='object')"
      ]
     },
     "execution_count": 40,
     "metadata": {},
     "output_type": "execute_result"
    }
   ],
   "source": [
    "df_white_noise.columns"
   ]
  },
  {
   "cell_type": "code",
   "execution_count": 41,
   "metadata": {},
   "outputs": [
    {
     "data": {
      "text/plain": [
       "(734, 40)"
      ]
     },
     "execution_count": 41,
     "metadata": {},
     "output_type": "execute_result"
    }
   ],
   "source": [
    "df_train.shape"
   ]
  },
  {
   "cell_type": "code",
   "execution_count": 42,
   "metadata": {},
   "outputs": [
    {
     "data": {
      "text/plain": [
       "(615, 40)"
      ]
     },
     "execution_count": 42,
     "metadata": {},
     "output_type": "execute_result"
    }
   ],
   "source": [
    "df_test.shape"
   ]
  },
  {
   "cell_type": "code",
   "execution_count": null,
   "metadata": {},
   "outputs": [],
   "source": []
  },
  {
   "cell_type": "code",
   "execution_count": null,
   "metadata": {},
   "outputs": [],
   "source": []
  }
 ],
 "metadata": {
  "kernelspec": {
   "display_name": "Mestrado",
   "language": "python",
   "name": "mestrado"
  },
  "language_info": {
   "codemirror_mode": {
    "name": "ipython",
    "version": 3
   },
   "file_extension": ".py",
   "mimetype": "text/x-python",
   "name": "python",
   "nbconvert_exporter": "python",
   "pygments_lexer": "ipython3",
   "version": "3.6.10"
  }
 },
 "nbformat": 4,
 "nbformat_minor": 2
}
