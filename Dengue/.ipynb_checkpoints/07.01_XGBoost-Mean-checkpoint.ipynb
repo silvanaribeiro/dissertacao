{
 "cells": [
  {
   "cell_type": "code",
   "execution_count": 1,
   "metadata": {},
   "outputs": [],
   "source": [
    "import numpy as np\n",
    "import pandas as pd\n",
    "from datetime import datetime\n",
    "\n",
    "from sklearn.datasets import load_breast_cancer\n",
    "from sklearn.metrics import confusion_matrix\n",
    "from sklearn.model_selection import GridSearchCV\n",
    "from sklearn.metrics import mean_squared_error as mse\n",
    "from sklearn.model_selection import TimeSeriesSplit\n",
    "\n",
    "import matplotlib.pyplot as plt\n",
    "\n",
    "import xgboost as xgb\n",
    "\n",
    "import warnings\n",
    "warnings.filterwarnings('ignore')"
   ]
  },
  {
   "cell_type": "code",
   "execution_count": 2,
   "metadata": {},
   "outputs": [],
   "source": [
    "def read_csv(file):\n",
    "    df = pd.read_csv(file, parse_dates=True, index_col=0)\n",
    "    return df"
   ]
  },
  {
   "cell_type": "markdown",
   "metadata": {},
   "source": [
    "## XGBoost for KNN imputed dataset\n"
   ]
  },
  {
   "cell_type": "code",
   "execution_count": 3,
   "metadata": {
    "scrolled": false
   },
   "outputs": [
    {
     "name": "stdout",
     "output_type": "stream",
     "text": [
      "\n",
      "RMSE:  30.72\n"
     ]
    }
   ],
   "source": [
    "X_train = read_csv('output/\\MeanDengueImputed_training.csv')\n",
    "X_test = read_csv('output/\\MeanDengueImputed_test.csv')\n",
    "\n",
    "y = pd.read_csv('input/\\dengue_labels_train.csv', parse_dates=True)\n",
    "\n",
    "y = y.groupby(['year', 'weekofyear']).sum()\n",
    "y_train = y.iloc[:734]\n",
    "y_train = pd.DataFrame(index = X_train.index, data = y_train.total_cases.values)\n",
    "y_test = y.iloc[734:]\n",
    "y_test = pd.DataFrame(index = X_test.index, data = y_test.total_cases.values)\n",
    "\n",
    "\n",
    "xgb_model = xgb.XGBClassifier(objective=\"reg:squarederror\",\n",
    "                                  eval_metric = 'rmse',\n",
    "                                  max_depth=3,\n",
    "                                  n_estimators=150,\n",
    "                                  learning_rate=0.001\n",
    "                              )\n",
    "model = xgb_model.fit(X_train, y_train)\n",
    "\n",
    "y_pred = model.predict(X_test)\n",
    "\n",
    "MSE = mse(y_test, y_pred)\n",
    "RMSE = np.sqrt(MSE)\n",
    "\n",
    "print(\"\\nRMSE: \", np.round(RMSE, 2))"
   ]
  },
  {
   "cell_type": "code",
   "execution_count": null,
   "metadata": {},
   "outputs": [],
   "source": []
  }
 ],
 "metadata": {
  "kernelspec": {
   "display_name": "Python 3",
   "language": "python",
   "name": "python3"
  },
  "language_info": {
   "codemirror_mode": {
    "name": "ipython",
    "version": 3
   },
   "file_extension": ".py",
   "mimetype": "text/x-python",
   "name": "python",
   "nbconvert_exporter": "python",
   "pygments_lexer": "ipython3",
   "version": "3.6.10"
  }
 },
 "nbformat": 4,
 "nbformat_minor": 4
}
