{
 "cells": [
  {
   "cell_type": "code",
   "execution_count": 45,
   "metadata": {},
   "outputs": [],
   "source": [
    "from imputationLibrary import forwardFilling, hotDeck, meanImputation, movingAverage, splineInterpolation, randomSampleImputation\n",
    "from imputationLibrary.util import util\n",
    "import pandas as pd\n",
    "from datetime import datetime, timedelta\n",
    "import numpy as np\n",
    "from sklearn.cluster import AgglomerativeClustering\n",
    "from sklearn import preprocessing\n",
    "from scipy import signal\n",
    "import matplotlib.pyplot as plt"
   ]
  },
  {
   "cell_type": "code",
   "execution_count": 46,
   "metadata": {},
   "outputs": [],
   "source": [
    "INPUT = 'output/\\CompleteWeeklyIndexes'"
   ]
  },
  {
   "cell_type": "code",
   "execution_count": 50,
   "metadata": {},
   "outputs": [],
   "source": [
    "def calc_acc(col):\n",
    "    normalized = preprocessing.normalize([np.array(col.fillna(0))])\n",
    "    corr = signal.correlate(normalized, normalized, mode='full')\n",
    "    return pd.Series(corr.T[-len(col.index):].reshape(-1), index = col.index)"
   ]
  },
  {
   "cell_type": "code",
   "execution_count": 51,
   "metadata": {},
   "outputs": [],
   "source": [
    "df = pd.read_csv(INPUT+'.csv', parse_dates=True, index_col=0).drop('vix_Close', axis=1)\n",
    "df_train = df.loc['2000-01-01':'2015-01-01']\n",
    "df_test = df.loc['2015-01-02':]\n",
    "\n",
    "df_train_acc = df_train.apply(calc_acc)"
   ]
  },
  {
   "cell_type": "code",
   "execution_count": 52,
   "metadata": {},
   "outputs": [],
   "source": [
    "df_train_T = df_train_acc.transpose()"
   ]
  },
  {
   "cell_type": "code",
   "execution_count": 53,
   "metadata": {},
   "outputs": [],
   "source": [
    "df_train_0_imp = df_train_T.fillna(0)\n",
    "scaler = preprocessing.StandardScaler()\n",
    "scaler.fit(df_train_0_imp)\n",
    "array = scaler.transform(df_train_0_imp)\n",
    "df_scaled = pd.DataFrame(data=array, index=df_train_T.index, columns=df_train_T.columns)"
   ]
  },
  {
   "cell_type": "code",
   "execution_count": 54,
   "metadata": {},
   "outputs": [],
   "source": [
    "clustering_4 = AgglomerativeClustering(n_clusters=4, linkage='complete', affinity='manhattan').fit(df_scaled)\n",
    "clustering_3 = AgglomerativeClustering(n_clusters=3, linkage='complete', affinity='manhattan').fit(df_scaled)"
   ]
  },
  {
   "cell_type": "code",
   "execution_count": 55,
   "metadata": {},
   "outputs": [],
   "source": [
    "df_train_T[\"clusters_4\"] = clustering_4.labels_\n",
    "df_train_T[\"clusters_3\"] = clustering_3.labels_"
   ]
  },
  {
   "cell_type": "code",
   "execution_count": 56,
   "metadata": {},
   "outputs": [
    {
     "name": "stdout",
     "output_type": "stream",
     "text": [
      "Cluster 1  Index(['sp500_Close', 'dji_Close', 'ndx_Close', 'ndx_Volume', 'n225_Close',\n",
      "       'ftse_Close', 'hsi_Close', 'n100_Close'],\n",
      "      dtype='object')\n",
      "Cluster 2  Index(['vix_Volume', 'Overall EMV Tracker',\n",
      "       'infectious_daily_infect_emv_index', 'GPR',\n",
      "       'trade_US Trade Policy Uncertainty',\n",
      "       'trade_Japanese Trade Policy Uncertainty',\n",
      "       'trade_Trade Policy EMV Fraction'],\n",
      "      dtype='object')\n",
      "Cluster 3  Index(['sp500_Volume', 'dji_Volume', 'n225_Volume', 'ftse_Volume'], dtype='object')\n",
      "Cluster 4  Index(['hsi_Volume', 'n100_Volume'], dtype='object')\n"
     ]
    }
   ],
   "source": [
    "print(\"Cluster 1 \", df_train_T[df_train_T['clusters_4'] == 0].index)\n",
    "print(\"Cluster 2 \", df_train_T[df_train_T['clusters_4'] == 1].index)\n",
    "print(\"Cluster 3 \", df_train_T[df_train_T['clusters_4'] == 2].index)\n",
    "print(\"Cluster 4 \", df_train_T[df_train_T['clusters_4'] == 3].index)"
   ]
  },
  {
   "cell_type": "code",
   "execution_count": 57,
   "metadata": {},
   "outputs": [
    {
     "name": "stdout",
     "output_type": "stream",
     "text": [
      "Cluster 1  Index(['sp500_Volume', 'dji_Volume', 'n225_Volume', 'ftse_Volume',\n",
      "       'hsi_Volume', 'n100_Volume'],\n",
      "      dtype='object')\n",
      "Cluster 2  Index(['vix_Volume', 'Overall EMV Tracker',\n",
      "       'infectious_daily_infect_emv_index', 'GPR',\n",
      "       'trade_US Trade Policy Uncertainty',\n",
      "       'trade_Japanese Trade Policy Uncertainty',\n",
      "       'trade_Trade Policy EMV Fraction'],\n",
      "      dtype='object')\n",
      "Cluster 3  Index(['sp500_Close', 'dji_Close', 'ndx_Close', 'ndx_Volume', 'n225_Close',\n",
      "       'ftse_Close', 'hsi_Close', 'n100_Close'],\n",
      "      dtype='object')\n"
     ]
    }
   ],
   "source": [
    "print(\"Cluster 1 \", df_train_T[df_train_T['clusters_3'] == 0].index)\n",
    "print(\"Cluster 2 \", df_train_T[df_train_T['clusters_3'] == 1].index)\n",
    "print(\"Cluster 3 \", df_train_T[df_train_T['clusters_3'] == 2].index)"
   ]
  },
  {
   "cell_type": "code",
   "execution_count": null,
   "metadata": {},
   "outputs": [],
   "source": []
  },
  {
   "cell_type": "code",
   "execution_count": null,
   "metadata": {},
   "outputs": [],
   "source": []
  }
 ],
 "metadata": {
  "kernelspec": {
   "display_name": "Python 3",
   "language": "python",
   "name": "python3"
  },
  "language_info": {
   "codemirror_mode": {
    "name": "ipython",
    "version": 3
   },
   "file_extension": ".py",
   "mimetype": "text/x-python",
   "name": "python",
   "nbconvert_exporter": "python",
   "pygments_lexer": "ipython3",
   "version": "3.6.10"
  }
 },
 "nbformat": 4,
 "nbformat_minor": 4
}
