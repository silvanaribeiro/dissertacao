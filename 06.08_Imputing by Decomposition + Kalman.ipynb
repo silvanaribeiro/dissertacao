{
 "cells": [
  {
   "cell_type": "code",
   "execution_count": 1,
   "metadata": {},
   "outputs": [],
   "source": [
    "from imputationLibrary import decompose, forwardFilling, hotDeck, meanImputation, movingAverage, splineInterpolation, randomSampleImputation\n",
    "import pandas as pd\n",
    "import matplotlib.pyplot as plt\n",
    "import numpy as np\n",
    "from scipy import signal\n",
    "from sklearn import preprocessing\n",
    "from datetime import datetime, timedelta\n",
    "from tsmoothie.smoother import *"
   ]
  },
  {
   "cell_type": "code",
   "execution_count": 2,
   "metadata": {},
   "outputs": [],
   "source": [
    "INPUT = 'output/\\CompleteWeeklyIndexes'"
   ]
  },
  {
   "cell_type": "code",
   "execution_count": 3,
   "metadata": {},
   "outputs": [],
   "source": [
    "df = pd.read_csv(INPUT+'.csv', parse_dates=True, index_col=0)\n",
    "df_test = df.loc['2015-01-02':] #Selecting test data\n",
    "df_train = df.loc['2000-01-01':'2015-01-01'] #Selecting training data\n",
    "df_filled = df_train.fillna(0)\n",
    "df_filled_test = df_test.fillna(0)"
   ]
  },
  {
   "cell_type": "code",
   "execution_count": 4,
   "metadata": {},
   "outputs": [],
   "source": [
    "df_decomposed_resid = pd.DataFrame()\n",
    "df_decomposed_trend = pd.DataFrame()\n",
    "df_decomposed_seasonal = pd.DataFrame()\n",
    "\n",
    "df_decomposed_resid_test = pd.DataFrame()\n",
    "df_decomposed_trend_test = pd.DataFrame()\n",
    "df_decomposed_seasonal_test = pd.DataFrame()\n",
    "\n",
    "df_nan = df_train.isna()\n",
    "df_nan_test = df_test.isna()"
   ]
  },
  {
   "cell_type": "code",
   "execution_count": 5,
   "metadata": {},
   "outputs": [],
   "source": [
    "def plot_ac(df, name):\n",
    "    normalized = preprocessing.scale([np.array(df.fillna(0))])\n",
    "    corr = signal.correlate(normalized, normalized, mode='full')\n",
    "    plt.plot(corr[0], 'o-', markersize=2)\n",
    "    plt.axhline(2/np.sqrt(len(df)), ls=':')\n",
    "    plt.axhline(-2/np.sqrt(len(df)), ls=':')\n",
    "    plt.title(name + ' auto-correlation')\n",
    "    plt.show()"
   ]
  },
  {
   "cell_type": "code",
   "execution_count": 6,
   "metadata": {},
   "outputs": [],
   "source": [
    "def decompose_and_plot(ts, flag_plot = False):\n",
    "    ts_decomposed = decompose.decompose(ts)\n",
    "    if flag_plot:\n",
    "        ts_decomposed.plot()\n",
    "        plt.show()\n",
    "        print(\"Resid is white noise? \", nature.isWhiteNoise(ts_decomposed.resid))\n",
    "        print(\"Resid is seasonal noise? \", nature.isSeasonal(ts_decomposed.resid))\n",
    "        print(\"Resid is trended noise? \", nature.isTrended(ts_decomposed.resid))\n",
    "        print(\"Resid is seasonal and trended noise? \", nature.isTrendedAndSeasonal(ts_decomposed.resid))\n",
    "        plot_ac(ts_decomposed.resid, \"Resid\")\n",
    "        plot_ac(ts_decomposed.trend, \"Trend\")\n",
    "        plot_ac(ts_decomposed.seasonal, \"Seasonal\")\n",
    "    return ts_decomposed.resid, ts_decomposed.trend, ts_decomposed.seasonal\n",
    "    "
   ]
  },
  {
   "cell_type": "code",
   "execution_count": 7,
   "metadata": {},
   "outputs": [],
   "source": [
    "# Subsample para weekly\n",
    "\n",
    "# Generating weekly sampled dataset\n",
    "def generate_weekly(df, initial_friday):\n",
    "    df_friday = initial_friday #datetime(2000,1,7)\n",
    "\n",
    "    df_weekly = pd.DataFrame(columns = df.columns)\n",
    "    \n",
    "    while df_friday <= df.tail(1).index:\n",
    "        df_weekly = df_weekly.append(df.loc[df_friday])\n",
    "        df_friday+=timedelta(days=7)\n",
    "    return df_weekly"
   ]
  },
  {
   "cell_type": "code",
   "execution_count": 8,
   "metadata": {},
   "outputs": [
    {
     "name": "stderr",
     "output_type": "stream",
     "text": [
      "C:\\Users\\silva\\Anaconda3\\envs\\mestrado\\lib\\site-packages\\simdkalman\\primitives.py:23: RuntimeWarning: invalid value encountered in matmul\n",
      "  return np.matmul(A, B)\n",
      "C:\\Users\\silva\\Anaconda3\\envs\\mestrado\\lib\\site-packages\\simdkalman\\primitives.py:23: RuntimeWarning: invalid value encountered in matmul\n",
      "  return np.matmul(A, B)\n",
      "C:\\Users\\silva\\Anaconda3\\envs\\mestrado\\lib\\site-packages\\simdkalman\\primitives.py:23: RuntimeWarning: invalid value encountered in matmul\n",
      "  return np.matmul(A, B)\n",
      "C:\\Users\\silva\\Anaconda3\\envs\\mestrado\\lib\\site-packages\\simdkalman\\primitives.py:23: RuntimeWarning: invalid value encountered in matmul\n",
      "  return np.matmul(A, B)\n",
      "C:\\Users\\silva\\Anaconda3\\envs\\mestrado\\lib\\site-packages\\simdkalman\\primitives.py:23: RuntimeWarning: invalid value encountered in matmul\n",
      "  return np.matmul(A, B)\n",
      "C:\\Users\\silva\\Anaconda3\\envs\\mestrado\\lib\\site-packages\\simdkalman\\primitives.py:23: RuntimeWarning: invalid value encountered in matmul\n",
      "  return np.matmul(A, B)\n",
      "C:\\Users\\silva\\Anaconda3\\envs\\mestrado\\lib\\site-packages\\simdkalman\\primitives.py:23: RuntimeWarning: invalid value encountered in matmul\n",
      "  return np.matmul(A, B)\n"
     ]
    }
   ],
   "source": [
    "for i in range(0,30):\n",
    "    for col in df_filled.columns:\n",
    "        resid, trend, seasonal = decompose_and_plot(df_filled.fillna(0).loc[:,col])\n",
    "        df_decomposed_resid[col] = resid\n",
    "        df_decomposed_trend[col] = trend\n",
    "        df_decomposed_seasonal[col] = seasonal\n",
    "        \n",
    "    for col in df_filled_test.columns:\n",
    "        resid, trend, seasonal = decompose_and_plot(df_filled_test.fillna(0).loc[:,col])\n",
    "        df_decomposed_resid_test[col] = resid\n",
    "        df_decomposed_trend_test[col] = trend\n",
    "        df_decomposed_seasonal_test[col] = seasonal\n",
    "\n",
    "    df_final_resid = df_decomposed_resid.mask(df_nan == True, np.nan)\n",
    "    df_final_trend = df_decomposed_trend.mask(df_nan == True, np.nan)\n",
    "    df_final_seasonal = df_decomposed_seasonal.mask(df_nan == True, np.nan)\n",
    "\n",
    "    df_final_resid_test = df_decomposed_resid_test.mask(df_nan_test == True, np.nan)\n",
    "    df_final_trend_test = df_decomposed_trend_test.mask(df_nan_test == True, np.nan)\n",
    "    df_final_seasonal_test = df_decomposed_seasonal_test.mask(df_nan_test == True, np.nan)\n",
    "\n",
    "    df_white_noise_train, df_white_noise_test =  meanImputation.input(df_final_resid, df_final_resid_test)\n",
    "    df_seasonal_train, df_seasonal_test = splineInterpolation.input(df_final_seasonal, df_final_seasonal_test)\n",
    "    df_trended_train, df_trended_test = forwardFilling.input(df_final_trend, df_final_trend_test)\n",
    "\n",
    "    df_final_train = df_white_noise_train + df_seasonal_train + df_trended_train\n",
    "    df_final_test = df_white_noise_test + df_seasonal_test + df_trended_test\n",
    "\n",
    "    ### USE KALMAN FILTER TO SMOOTH ALL DATA (ONLY VISUALIZATION PURPOSE) ###\n",
    "\n",
    "    smoother_train = KalmanSmoother(component='level_longseason', \n",
    "                              component_noise={'level':0.1, 'longseason':0.1}, \n",
    "                              n_longseasons=365)\n",
    "    smoother_train.smooth(df_final_train.T)\n",
    "\n",
    "    smoother_test = KalmanSmoother(component='level_longseason', \n",
    "                              component_noise={'level':0.1, 'longseason':0.1}, \n",
    "                              n_longseasons=365)\n",
    "    smoother_test.smooth(df_final_test.T)\n",
    "\n",
    "    df_filled = pd.DataFrame(data = smoother_train.smooth_data.T, index = df_train.index, columns= df_train.columns)\n",
    "    df_filled_test = pd.DataFrame(data = smoother_test.smooth_data.T, index = df_test.index, columns= df_test.columns)\n",
    "\n",
    "    df_train_weekly = generate_weekly(df_filled, datetime(2000,1,7))\n",
    "    df_test_weekly = generate_weekly(df_filled_test, datetime(2015,1,2))\n",
    "\n",
    "    df_train_weekly.to_csv(r'output\\/CompleteIndexesWeeklyTrainDecompKalman_'+str(i)+'.csv', index = True)\n",
    "    df_test_weekly.to_csv(r'output\\/CompleteIndexesWeeklyTestDecompKalman_'+str(i)+'.csv', index = True)"
   ]
  },
  {
   "cell_type": "code",
   "execution_count": null,
   "metadata": {},
   "outputs": [],
   "source": []
  }
 ],
 "metadata": {
  "kernelspec": {
   "display_name": "Python 3",
   "language": "python",
   "name": "python3"
  },
  "language_info": {
   "codemirror_mode": {
    "name": "ipython",
    "version": 3
   },
   "file_extension": ".py",
   "mimetype": "text/x-python",
   "name": "python",
   "nbconvert_exporter": "python",
   "pygments_lexer": "ipython3",
   "version": "3.6.10"
  }
 },
 "nbformat": 4,
 "nbformat_minor": 4
}
